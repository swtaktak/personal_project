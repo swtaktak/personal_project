{
 "cells": [
  {
   "cell_type": "markdown",
   "id": "e04380c3",
   "metadata": {},
   "source": [
    "# Kaggle Challenge\n",
    "Kaggle의 PlayGrounds Series에 참가해보려고 한다. Season 4-1은 Bianry Classification with a Bank Churn Dataset 문제이다."
   ]
  },
  {
   "cell_type": "code",
   "execution_count": 1,
   "id": "6ba0dabb",
   "metadata": {},
   "outputs": [],
   "source": [
    "import pandas as pd\n",
    "import numpy as np\n",
    "import seaborn as sns\n",
    "import matplotlib.pyplot as plt\n",
    "\n",
    "train_df = pd.read_csv('C:/Users/USER/Desktop/personal_project/Kaggle_Bank_Churn_Prediction/train.csv')\n",
    "test_df = pd.read_csv('C:/Users/USER/Desktop/personal_project/Kaggle_Bank_Churn_Prediction/test.csv')"
   ]
  },
  {
   "cell_type": "code",
   "execution_count": 2,
   "id": "00ec27ed",
   "metadata": {
    "scrolled": true
   },
   "outputs": [
    {
     "data": {
      "text/html": [
       "<div>\n",
       "<style scoped>\n",
       "    .dataframe tbody tr th:only-of-type {\n",
       "        vertical-align: middle;\n",
       "    }\n",
       "\n",
       "    .dataframe tbody tr th {\n",
       "        vertical-align: top;\n",
       "    }\n",
       "\n",
       "    .dataframe thead th {\n",
       "        text-align: right;\n",
       "    }\n",
       "</style>\n",
       "<table border=\"1\" class=\"dataframe\">\n",
       "  <thead>\n",
       "    <tr style=\"text-align: right;\">\n",
       "      <th></th>\n",
       "      <th>id</th>\n",
       "      <th>CustomerId</th>\n",
       "      <th>Surname</th>\n",
       "      <th>CreditScore</th>\n",
       "      <th>Geography</th>\n",
       "      <th>Gender</th>\n",
       "      <th>Age</th>\n",
       "      <th>Tenure</th>\n",
       "      <th>Balance</th>\n",
       "      <th>NumOfProducts</th>\n",
       "      <th>HasCrCard</th>\n",
       "      <th>IsActiveMember</th>\n",
       "      <th>EstimatedSalary</th>\n",
       "      <th>Exited</th>\n",
       "    </tr>\n",
       "  </thead>\n",
       "  <tbody>\n",
       "    <tr>\n",
       "      <th>0</th>\n",
       "      <td>0</td>\n",
       "      <td>15674932</td>\n",
       "      <td>Okwudilichukwu</td>\n",
       "      <td>668</td>\n",
       "      <td>France</td>\n",
       "      <td>Male</td>\n",
       "      <td>33.0</td>\n",
       "      <td>3</td>\n",
       "      <td>0.00</td>\n",
       "      <td>2</td>\n",
       "      <td>1.0</td>\n",
       "      <td>0.0</td>\n",
       "      <td>181449.97</td>\n",
       "      <td>0</td>\n",
       "    </tr>\n",
       "    <tr>\n",
       "      <th>1</th>\n",
       "      <td>1</td>\n",
       "      <td>15749177</td>\n",
       "      <td>Okwudiliolisa</td>\n",
       "      <td>627</td>\n",
       "      <td>France</td>\n",
       "      <td>Male</td>\n",
       "      <td>33.0</td>\n",
       "      <td>1</td>\n",
       "      <td>0.00</td>\n",
       "      <td>2</td>\n",
       "      <td>1.0</td>\n",
       "      <td>1.0</td>\n",
       "      <td>49503.50</td>\n",
       "      <td>0</td>\n",
       "    </tr>\n",
       "    <tr>\n",
       "      <th>2</th>\n",
       "      <td>2</td>\n",
       "      <td>15694510</td>\n",
       "      <td>Hsueh</td>\n",
       "      <td>678</td>\n",
       "      <td>France</td>\n",
       "      <td>Male</td>\n",
       "      <td>40.0</td>\n",
       "      <td>10</td>\n",
       "      <td>0.00</td>\n",
       "      <td>2</td>\n",
       "      <td>1.0</td>\n",
       "      <td>0.0</td>\n",
       "      <td>184866.69</td>\n",
       "      <td>0</td>\n",
       "    </tr>\n",
       "    <tr>\n",
       "      <th>3</th>\n",
       "      <td>3</td>\n",
       "      <td>15741417</td>\n",
       "      <td>Kao</td>\n",
       "      <td>581</td>\n",
       "      <td>France</td>\n",
       "      <td>Male</td>\n",
       "      <td>34.0</td>\n",
       "      <td>2</td>\n",
       "      <td>148882.54</td>\n",
       "      <td>1</td>\n",
       "      <td>1.0</td>\n",
       "      <td>1.0</td>\n",
       "      <td>84560.88</td>\n",
       "      <td>0</td>\n",
       "    </tr>\n",
       "    <tr>\n",
       "      <th>4</th>\n",
       "      <td>4</td>\n",
       "      <td>15766172</td>\n",
       "      <td>Chiemenam</td>\n",
       "      <td>716</td>\n",
       "      <td>Spain</td>\n",
       "      <td>Male</td>\n",
       "      <td>33.0</td>\n",
       "      <td>5</td>\n",
       "      <td>0.00</td>\n",
       "      <td>2</td>\n",
       "      <td>1.0</td>\n",
       "      <td>1.0</td>\n",
       "      <td>15068.83</td>\n",
       "      <td>0</td>\n",
       "    </tr>\n",
       "  </tbody>\n",
       "</table>\n",
       "</div>"
      ],
      "text/plain": [
       "   id  CustomerId         Surname  CreditScore Geography Gender   Age  Tenure  \\\n",
       "0   0    15674932  Okwudilichukwu          668    France   Male  33.0       3   \n",
       "1   1    15749177   Okwudiliolisa          627    France   Male  33.0       1   \n",
       "2   2    15694510           Hsueh          678    France   Male  40.0      10   \n",
       "3   3    15741417             Kao          581    France   Male  34.0       2   \n",
       "4   4    15766172       Chiemenam          716     Spain   Male  33.0       5   \n",
       "\n",
       "     Balance  NumOfProducts  HasCrCard  IsActiveMember  EstimatedSalary  \\\n",
       "0       0.00              2        1.0             0.0        181449.97   \n",
       "1       0.00              2        1.0             1.0         49503.50   \n",
       "2       0.00              2        1.0             0.0        184866.69   \n",
       "3  148882.54              1        1.0             1.0         84560.88   \n",
       "4       0.00              2        1.0             1.0         15068.83   \n",
       "\n",
       "   Exited  \n",
       "0       0  \n",
       "1       0  \n",
       "2       0  \n",
       "3       0  \n",
       "4       0  "
      ]
     },
     "execution_count": 2,
     "metadata": {},
     "output_type": "execute_result"
    }
   ],
   "source": [
    "train_df.head(5)"
   ]
  },
  {
   "cell_type": "code",
   "execution_count": 3,
   "id": "eacc204b",
   "metadata": {},
   "outputs": [
    {
     "name": "stdout",
     "output_type": "stream",
     "text": [
      "<class 'pandas.core.frame.DataFrame'>\n",
      "RangeIndex: 165034 entries, 0 to 165033\n",
      "Data columns (total 14 columns):\n",
      " #   Column           Non-Null Count   Dtype  \n",
      "---  ------           --------------   -----  \n",
      " 0   id               165034 non-null  int64  \n",
      " 1   CustomerId       165034 non-null  int64  \n",
      " 2   Surname          165034 non-null  object \n",
      " 3   CreditScore      165034 non-null  int64  \n",
      " 4   Geography        165034 non-null  object \n",
      " 5   Gender           165034 non-null  object \n",
      " 6   Age              165034 non-null  float64\n",
      " 7   Tenure           165034 non-null  int64  \n",
      " 8   Balance          165034 non-null  float64\n",
      " 9   NumOfProducts    165034 non-null  int64  \n",
      " 10  HasCrCard        165034 non-null  float64\n",
      " 11  IsActiveMember   165034 non-null  float64\n",
      " 12  EstimatedSalary  165034 non-null  float64\n",
      " 13  Exited           165034 non-null  int64  \n",
      "dtypes: float64(5), int64(6), object(3)\n",
      "memory usage: 17.6+ MB\n"
     ]
    }
   ],
   "source": [
    "train_df.info()"
   ]
  },
  {
   "cell_type": "code",
   "execution_count": 4,
   "id": "481790ed",
   "metadata": {},
   "outputs": [
    {
     "name": "stdout",
     "output_type": "stream",
     "text": [
      "<class 'pandas.core.frame.DataFrame'>\n",
      "RangeIndex: 110023 entries, 0 to 110022\n",
      "Data columns (total 13 columns):\n",
      " #   Column           Non-Null Count   Dtype  \n",
      "---  ------           --------------   -----  \n",
      " 0   id               110023 non-null  int64  \n",
      " 1   CustomerId       110023 non-null  int64  \n",
      " 2   Surname          110023 non-null  object \n",
      " 3   CreditScore      110023 non-null  int64  \n",
      " 4   Geography        110023 non-null  object \n",
      " 5   Gender           110023 non-null  object \n",
      " 6   Age              110023 non-null  float64\n",
      " 7   Tenure           110023 non-null  int64  \n",
      " 8   Balance          110023 non-null  float64\n",
      " 9   NumOfProducts    110023 non-null  int64  \n",
      " 10  HasCrCard        110023 non-null  float64\n",
      " 11  IsActiveMember   110023 non-null  float64\n",
      " 12  EstimatedSalary  110023 non-null  float64\n",
      "dtypes: float64(5), int64(5), object(3)\n",
      "memory usage: 10.9+ MB\n"
     ]
    }
   ],
   "source": [
    "test_df.info()"
   ]
  },
  {
   "cell_type": "markdown",
   "id": "cb481758",
   "metadata": {},
   "source": [
    "not null set이므로, 결측치에 대한 처리는 고려하지 않는다."
   ]
  },
  {
   "cell_type": "markdown",
   "id": "b393d70c",
   "metadata": {},
   "source": [
    "이번 문제는, train은 Exited는 binary로 주어지나, test는 Exited가 나올 확률을 예측하는 것이 목적이다."
   ]
  },
  {
   "cell_type": "markdown",
   "id": "38c4fdb2",
   "metadata": {},
   "source": [
    "## Feature 설명"
   ]
  },
  {
   "cell_type": "markdown",
   "id": "474d12ed",
   "metadata": {},
   "source": [
    "- Id : 컬럼 구분 id\n",
    "- CustomerId : 고객번호\n",
    "- Surname : 성씨\n",
    "- Credit Score : 신용점수. 높을수록 대출을 받기 좋은 상황\n",
    "- Geography : 지역\n",
    "- Gender : 성별\n",
    "- Age : 나이\n",
    "- Tenure : 몇년동안 은행서비스, 계좌서비스 등을 이용했는가?\n",
    "- Balance : 은행 잔고\n",
    "- NumOfProducts : 소지한 주요 상품 수\n",
    "- HasCrCard: 신용 카드를 가지고 있는가?\n",
    "- IsActivenumber : 신용카드가 유효한가?\n",
    "- EstimatedSalary : 추정 급여"
   ]
  },
  {
   "cell_type": "markdown",
   "id": "3c91f25a",
   "metadata": {},
   "source": [
    "## EDA"
   ]
  },
  {
   "cell_type": "code",
   "execution_count": 6,
   "id": "5274a473",
   "metadata": {
    "scrolled": true
   },
   "outputs": [
    {
     "data": {
      "text/html": [
       "<div>\n",
       "<style scoped>\n",
       "    .dataframe tbody tr th:only-of-type {\n",
       "        vertical-align: middle;\n",
       "    }\n",
       "\n",
       "    .dataframe tbody tr th {\n",
       "        vertical-align: top;\n",
       "    }\n",
       "\n",
       "    .dataframe thead th {\n",
       "        text-align: right;\n",
       "    }\n",
       "</style>\n",
       "<table border=\"1\" class=\"dataframe\">\n",
       "  <thead>\n",
       "    <tr style=\"text-align: right;\">\n",
       "      <th></th>\n",
       "      <th>id</th>\n",
       "      <th>CustomerId</th>\n",
       "      <th>Surname</th>\n",
       "      <th>CreditScore</th>\n",
       "      <th>Geography</th>\n",
       "      <th>Gender</th>\n",
       "      <th>Age</th>\n",
       "      <th>Tenure</th>\n",
       "      <th>Balance</th>\n",
       "      <th>NumOfProducts</th>\n",
       "      <th>HasCrCard</th>\n",
       "      <th>IsActiveMember</th>\n",
       "      <th>EstimatedSalary</th>\n",
       "      <th>Exited</th>\n",
       "    </tr>\n",
       "  </thead>\n",
       "  <tbody>\n",
       "    <tr>\n",
       "      <th>0</th>\n",
       "      <td>0</td>\n",
       "      <td>15674932</td>\n",
       "      <td>Okwudilichukwu</td>\n",
       "      <td>668</td>\n",
       "      <td>France</td>\n",
       "      <td>Male</td>\n",
       "      <td>33.0</td>\n",
       "      <td>3</td>\n",
       "      <td>0.00</td>\n",
       "      <td>2</td>\n",
       "      <td>1.0</td>\n",
       "      <td>0.0</td>\n",
       "      <td>181449.97</td>\n",
       "      <td>0</td>\n",
       "    </tr>\n",
       "    <tr>\n",
       "      <th>1</th>\n",
       "      <td>1</td>\n",
       "      <td>15749177</td>\n",
       "      <td>Okwudiliolisa</td>\n",
       "      <td>627</td>\n",
       "      <td>France</td>\n",
       "      <td>Male</td>\n",
       "      <td>33.0</td>\n",
       "      <td>1</td>\n",
       "      <td>0.00</td>\n",
       "      <td>2</td>\n",
       "      <td>1.0</td>\n",
       "      <td>1.0</td>\n",
       "      <td>49503.50</td>\n",
       "      <td>0</td>\n",
       "    </tr>\n",
       "    <tr>\n",
       "      <th>2</th>\n",
       "      <td>2</td>\n",
       "      <td>15694510</td>\n",
       "      <td>Hsueh</td>\n",
       "      <td>678</td>\n",
       "      <td>France</td>\n",
       "      <td>Male</td>\n",
       "      <td>40.0</td>\n",
       "      <td>10</td>\n",
       "      <td>0.00</td>\n",
       "      <td>2</td>\n",
       "      <td>1.0</td>\n",
       "      <td>0.0</td>\n",
       "      <td>184866.69</td>\n",
       "      <td>0</td>\n",
       "    </tr>\n",
       "    <tr>\n",
       "      <th>3</th>\n",
       "      <td>3</td>\n",
       "      <td>15741417</td>\n",
       "      <td>Kao</td>\n",
       "      <td>581</td>\n",
       "      <td>France</td>\n",
       "      <td>Male</td>\n",
       "      <td>34.0</td>\n",
       "      <td>2</td>\n",
       "      <td>148882.54</td>\n",
       "      <td>1</td>\n",
       "      <td>1.0</td>\n",
       "      <td>1.0</td>\n",
       "      <td>84560.88</td>\n",
       "      <td>0</td>\n",
       "    </tr>\n",
       "    <tr>\n",
       "      <th>4</th>\n",
       "      <td>4</td>\n",
       "      <td>15766172</td>\n",
       "      <td>Chiemenam</td>\n",
       "      <td>716</td>\n",
       "      <td>Spain</td>\n",
       "      <td>Male</td>\n",
       "      <td>33.0</td>\n",
       "      <td>5</td>\n",
       "      <td>0.00</td>\n",
       "      <td>2</td>\n",
       "      <td>1.0</td>\n",
       "      <td>1.0</td>\n",
       "      <td>15068.83</td>\n",
       "      <td>0</td>\n",
       "    </tr>\n",
       "    <tr>\n",
       "      <th>...</th>\n",
       "      <td>...</td>\n",
       "      <td>...</td>\n",
       "      <td>...</td>\n",
       "      <td>...</td>\n",
       "      <td>...</td>\n",
       "      <td>...</td>\n",
       "      <td>...</td>\n",
       "      <td>...</td>\n",
       "      <td>...</td>\n",
       "      <td>...</td>\n",
       "      <td>...</td>\n",
       "      <td>...</td>\n",
       "      <td>...</td>\n",
       "      <td>...</td>\n",
       "    </tr>\n",
       "    <tr>\n",
       "      <th>165029</th>\n",
       "      <td>165029</td>\n",
       "      <td>15667085</td>\n",
       "      <td>Meng</td>\n",
       "      <td>667</td>\n",
       "      <td>Spain</td>\n",
       "      <td>Female</td>\n",
       "      <td>33.0</td>\n",
       "      <td>2</td>\n",
       "      <td>0.00</td>\n",
       "      <td>1</td>\n",
       "      <td>1.0</td>\n",
       "      <td>1.0</td>\n",
       "      <td>131834.75</td>\n",
       "      <td>0</td>\n",
       "    </tr>\n",
       "    <tr>\n",
       "      <th>165030</th>\n",
       "      <td>165030</td>\n",
       "      <td>15665521</td>\n",
       "      <td>Okechukwu</td>\n",
       "      <td>792</td>\n",
       "      <td>France</td>\n",
       "      <td>Male</td>\n",
       "      <td>35.0</td>\n",
       "      <td>3</td>\n",
       "      <td>0.00</td>\n",
       "      <td>1</td>\n",
       "      <td>0.0</td>\n",
       "      <td>0.0</td>\n",
       "      <td>131834.45</td>\n",
       "      <td>0</td>\n",
       "    </tr>\n",
       "    <tr>\n",
       "      <th>165031</th>\n",
       "      <td>165031</td>\n",
       "      <td>15664752</td>\n",
       "      <td>Hsia</td>\n",
       "      <td>565</td>\n",
       "      <td>France</td>\n",
       "      <td>Male</td>\n",
       "      <td>31.0</td>\n",
       "      <td>5</td>\n",
       "      <td>0.00</td>\n",
       "      <td>1</td>\n",
       "      <td>1.0</td>\n",
       "      <td>1.0</td>\n",
       "      <td>127429.56</td>\n",
       "      <td>0</td>\n",
       "    </tr>\n",
       "    <tr>\n",
       "      <th>165032</th>\n",
       "      <td>165032</td>\n",
       "      <td>15689614</td>\n",
       "      <td>Hsiung</td>\n",
       "      <td>554</td>\n",
       "      <td>Spain</td>\n",
       "      <td>Female</td>\n",
       "      <td>30.0</td>\n",
       "      <td>7</td>\n",
       "      <td>161533.00</td>\n",
       "      <td>1</td>\n",
       "      <td>0.0</td>\n",
       "      <td>1.0</td>\n",
       "      <td>71173.03</td>\n",
       "      <td>0</td>\n",
       "    </tr>\n",
       "    <tr>\n",
       "      <th>165033</th>\n",
       "      <td>165033</td>\n",
       "      <td>15732798</td>\n",
       "      <td>Ulyanov</td>\n",
       "      <td>850</td>\n",
       "      <td>France</td>\n",
       "      <td>Male</td>\n",
       "      <td>31.0</td>\n",
       "      <td>1</td>\n",
       "      <td>0.00</td>\n",
       "      <td>1</td>\n",
       "      <td>1.0</td>\n",
       "      <td>0.0</td>\n",
       "      <td>61581.79</td>\n",
       "      <td>1</td>\n",
       "    </tr>\n",
       "  </tbody>\n",
       "</table>\n",
       "<p>165034 rows × 14 columns</p>\n",
       "</div>"
      ],
      "text/plain": [
       "            id  CustomerId         Surname  CreditScore Geography  Gender  \\\n",
       "0            0    15674932  Okwudilichukwu          668    France    Male   \n",
       "1            1    15749177   Okwudiliolisa          627    France    Male   \n",
       "2            2    15694510           Hsueh          678    France    Male   \n",
       "3            3    15741417             Kao          581    France    Male   \n",
       "4            4    15766172       Chiemenam          716     Spain    Male   \n",
       "...        ...         ...             ...          ...       ...     ...   \n",
       "165029  165029    15667085            Meng          667     Spain  Female   \n",
       "165030  165030    15665521       Okechukwu          792    France    Male   \n",
       "165031  165031    15664752            Hsia          565    France    Male   \n",
       "165032  165032    15689614          Hsiung          554     Spain  Female   \n",
       "165033  165033    15732798         Ulyanov          850    France    Male   \n",
       "\n",
       "         Age  Tenure    Balance  NumOfProducts  HasCrCard  IsActiveMember  \\\n",
       "0       33.0       3       0.00              2        1.0             0.0   \n",
       "1       33.0       1       0.00              2        1.0             1.0   \n",
       "2       40.0      10       0.00              2        1.0             0.0   \n",
       "3       34.0       2  148882.54              1        1.0             1.0   \n",
       "4       33.0       5       0.00              2        1.0             1.0   \n",
       "...      ...     ...        ...            ...        ...             ...   \n",
       "165029  33.0       2       0.00              1        1.0             1.0   \n",
       "165030  35.0       3       0.00              1        0.0             0.0   \n",
       "165031  31.0       5       0.00              1        1.0             1.0   \n",
       "165032  30.0       7  161533.00              1        0.0             1.0   \n",
       "165033  31.0       1       0.00              1        1.0             0.0   \n",
       "\n",
       "        EstimatedSalary  Exited  \n",
       "0             181449.97       0  \n",
       "1              49503.50       0  \n",
       "2             184866.69       0  \n",
       "3              84560.88       0  \n",
       "4              15068.83       0  \n",
       "...                 ...     ...  \n",
       "165029        131834.75       0  \n",
       "165030        131834.45       0  \n",
       "165031        127429.56       0  \n",
       "165032         71173.03       0  \n",
       "165033         61581.79       1  \n",
       "\n",
       "[165034 rows x 14 columns]"
      ]
     },
     "execution_count": 6,
     "metadata": {},
     "output_type": "execute_result"
    }
   ],
   "source": [
    "train_df"
   ]
  },
  {
   "cell_type": "markdown",
   "id": "c4db5081",
   "metadata": {},
   "source": [
    "아무리 생각해도 id, 고객id, 이름에 따라서 뭐가 달라질거 같지는 않다."
   ]
  },
  {
   "cell_type": "markdown",
   "id": "96332ce3",
   "metadata": {},
   "source": [
    "### creditscore"
   ]
  },
  {
   "cell_type": "code",
   "execution_count": 8,
   "id": "a95f9ea1",
   "metadata": {},
   "outputs": [
    {
     "data": {
      "text/plain": [
       "<AxesSubplot:xlabel='CreditScore', ylabel='Count'>"
      ]
     },
     "execution_count": 8,
     "metadata": {},
     "output_type": "execute_result"
    },
    {
     "data": {
      "image/png": "[encoded data removed]",
      "text/plain": [
       "<Figure size 432x288 with 1 Axes>"
      ]
     },
     "metadata": {
      "needs_background": "light"
     },
     "output_type": "display_data"
    }
   ],
   "source": [
    "sns.histplot(train_df['CreditScore'])"
   ]
  },
  {
   "cell_type": "markdown",
   "id": "fb80f288",
   "metadata": {},
   "source": [
    "600~700사이에서 다수가 분포해있다. 800 이상의 고신용이나 500 이하의 저신용은 드물다. \n",
    "통계적 확인은 필요하겠으나, 정규분포에 나쁘지 않게 분포했을 것이다. 다만, 신용점수는 \"절대평가\"임을 고려해야한다."
   ]
  },
  {
   "cell_type": "code",
   "execution_count": 10,
   "id": "4b4e5c63",
   "metadata": {},
   "outputs": [
    {
     "data": {
      "text/plain": [
       "count    165034.000000\n",
       "mean        656.454373\n",
       "std          80.103340\n",
       "min         350.000000\n",
       "25%         597.000000\n",
       "50%         659.000000\n",
       "75%         710.000000\n",
       "max         850.000000\n",
       "Name: CreditScore, dtype: float64"
      ]
     },
     "execution_count": 10,
     "metadata": {},
     "output_type": "execute_result"
    }
   ],
   "source": [
    "train_df['CreditScore'].describe()"
   ]
  },
  {
   "cell_type": "markdown",
   "id": "8e791cdd",
   "metadata": {},
   "source": [
    "최소 350점 ~ 최대 850점의 분포이다.\n",
    "REMARK. kaggle에서 관련 토론 자료를 확인해본 결과 해당 데이터셋의 신용점수 기준이 최하 350, 최대 850이다.\n",
    "\n",
    "나중에 predict때, 결국 확률을 예측해야 하므로, 적절한 scaler가 필요하다. scaler는 절대평가를 반영, Min-Max로 진행한다."
   ]
  },
  {
   "cell_type": "markdown",
   "id": "80322bf5",
   "metadata": {},
   "source": [
    "### geography"
   ]
  },
  {
   "cell_type": "code",
   "execution_count": 12,
   "id": "b9e670d2",
   "metadata": {},
   "outputs": [
    {
     "data": {
      "text/plain": [
       "France     94215\n",
       "Spain      36213\n",
       "Germany    34606\n",
       "Name: Geography, dtype: int64"
      ]
     },
     "execution_count": 12,
     "metadata": {},
     "output_type": "execute_result"
    }
   ],
   "source": [
    "train_df['Geography'].value_counts()"
   ]
  },
  {
   "cell_type": "markdown",
   "id": "119b7223",
   "metadata": {},
   "source": [
    "단 3개의 지역만이 주어져 있다. 지역의 경우는 국가의 경제 상황에 따라서 대출 허용 빈도 등이 달라질 수 있다.\n",
    "따라서 국가의 변수를 무시할 수만은 없을 것이다."
   ]
  },
  {
   "cell_type": "markdown",
   "id": "a375456f",
   "metadata": {},
   "source": [
    "### Gender"
   ]
  },
  {
   "cell_type": "code",
   "execution_count": 14,
   "id": "0b920414",
   "metadata": {},
   "outputs": [
    {
     "data": {
      "text/plain": [
       "Male      93150\n",
       "Female    71884\n",
       "Name: Gender, dtype: int64"
      ]
     },
     "execution_count": 14,
     "metadata": {},
     "output_type": "execute_result"
    }
   ],
   "source": [
    "train_df['Gender'].value_counts()"
   ]
  },
  {
   "cell_type": "markdown",
   "id": "4c09089c",
   "metadata": {},
   "source": [
    "Gender의 변수는 고려 여부 자체를 결정해야 할 것 같다."
   ]
  },
  {
   "cell_type": "markdown",
   "id": "e097d324",
   "metadata": {},
   "source": [
    "### Age"
   ]
  },
  {
   "cell_type": "markdown",
   "id": "030699cf",
   "metadata": {},
   "source": [
    "우선, info에서 Age에 이상 현상이 발견된 것으로 추정된다. 그 이유가, Age는 정수형이어야 하는데 float으로 인식되고 있다."
   ]
  },
  {
   "cell_type": "code",
   "execution_count": 17,
   "id": "e3734d0c",
   "metadata": {},
   "outputs": [
    {
     "name": "stdout",
     "output_type": "stream",
     "text": [
      "36.44\n",
      "32.34\n"
     ]
    }
   ],
   "source": [
    "# 정수형이 아닌 것이 있는지 체크\n",
    "for x in train_df['Age']:\n",
    "    if x-round(x) != 0:\n",
    "        print(x)"
   ]
  },
  {
   "cell_type": "markdown",
   "id": "0ee0c806",
   "metadata": {},
   "source": [
    "정수형 변수가 아닌 것이 발견되어, 이에 대한 전처리가 반드시 필요하다.! 반올림으로 처리하자."
   ]
  },
  {
   "cell_type": "markdown",
   "id": "b928ebfe",
   "metadata": {},
   "source": [
    "### Tenure"
   ]
  },
  {
   "cell_type": "markdown",
   "id": "46cd5ef9",
   "metadata": {},
   "source": [
    "정수형으로 나타나고 있다."
   ]
  },
  {
   "cell_type": "code",
   "execution_count": 18,
   "id": "e52d0f95",
   "metadata": {},
   "outputs": [
    {
     "data": {
      "text/plain": [
       "2     18045\n",
       "7     17810\n",
       "4     17554\n",
       "8     17520\n",
       "5     17268\n",
       "1     16760\n",
       "9     16709\n",
       "3     16630\n",
       "6     15822\n",
       "10     5909\n",
       "0      5007\n",
       "Name: Tenure, dtype: int64"
      ]
     },
     "execution_count": 18,
     "metadata": {},
     "output_type": "execute_result"
    }
   ],
   "source": [
    "train_df['Tenure'].value_counts()"
   ]
  },
  {
   "cell_type": "markdown",
   "id": "766fdc66",
   "metadata": {},
   "source": [
    "값의 범위가 넓지 않다. 이것도 사용년수이나 클수록 이탈율에 어떤 영향을 미칠지 모르기 때문에, 역시 전처리 전에 관계 분석이 필요"
   ]
  },
  {
   "cell_type": "markdown",
   "id": "d76b5086",
   "metadata": {},
   "source": [
    "### Balance"
   ]
  },
  {
   "cell_type": "code",
   "execution_count": 19,
   "id": "b2fbf8f1",
   "metadata": {},
   "outputs": [
    {
     "data": {
      "text/plain": [
       "<AxesSubplot:xlabel='Balance', ylabel='Count'>"
      ]
     },
     "execution_count": 19,
     "metadata": {},
     "output_type": "execute_result"
    },
    {
     "data": {
      "image/png": "[encoded data removed]",
      "text/plain": [
       "<Figure size 432x288 with 1 Axes>"
      ]
     },
     "metadata": {
      "needs_background": "light"
     },
     "output_type": "display_data"
    }
   ],
   "source": [
    "sns.histplot(train_df['Balance'])"
   ]
  },
  {
   "cell_type": "markdown",
   "id": "3c860711",
   "metadata": {},
   "source": [
    "잔액은 없는 사람이 더 많은 이상 현상이 보인다. 얼마나 관계성이 있는지 따로 봐야 할듯 하다."
   ]
  },
  {
   "cell_type": "markdown",
   "id": "4130ac21",
   "metadata": {},
   "source": [
    "### NumOfProducts"
   ]
  },
  {
   "cell_type": "code",
   "execution_count": 20,
   "id": "44fde06e",
   "metadata": {},
   "outputs": [
    {
     "data": {
      "text/plain": [
       "2    84291\n",
       "1    77374\n",
       "3     2894\n",
       "4      475\n",
       "Name: NumOfProducts, dtype: int64"
      ]
     },
     "execution_count": 20,
     "metadata": {},
     "output_type": "execute_result"
    }
   ],
   "source": [
    "train_df['NumOfProducts'].value_counts()"
   ]
  },
  {
   "cell_type": "markdown",
   "id": "6f90ddfd",
   "metadata": {},
   "source": [
    "주요 상품이 4개 정도로 한정되어 있는것으로 보인다. "
   ]
  },
  {
   "cell_type": "markdown",
   "id": "4e9321dd",
   "metadata": {},
   "source": [
    "### HasCrCard, isActiveMember"
   ]
  },
  {
   "cell_type": "code",
   "execution_count": 22,
   "id": "593cbf30",
   "metadata": {},
   "outputs": [
    {
     "data": {
      "text/plain": [
       "1.0    124428\n",
       "0.0     40606\n",
       "Name: HasCrCard, dtype: int64"
      ]
     },
     "execution_count": 22,
     "metadata": {},
     "output_type": "execute_result"
    }
   ],
   "source": [
    "train_df['HasCrCard'].value_counts()"
   ]
  },
  {
   "cell_type": "markdown",
   "id": "5b7f1e56",
   "metadata": {},
   "source": [
    "75% 정도는 카드를 가지고 있다."
   ]
  },
  {
   "cell_type": "code",
   "execution_count": 24,
   "id": "a057ee42",
   "metadata": {},
   "outputs": [
    {
     "data": {
      "text/plain": [
       "0.0    82885\n",
       "1.0    82149\n",
       "Name: IsActiveMember, dtype: int64"
      ]
     },
     "execution_count": 24,
     "metadata": {},
     "output_type": "execute_result"
    }
   ],
   "source": [
    "train_df['IsActiveMember'].value_counts()"
   ]
  },
  {
   "cell_type": "markdown",
   "id": "472b241f",
   "metadata": {},
   "source": [
    "카드를 가지고 있는 사람중 60~70% 정도만이 카드가 활성화되어있다."
   ]
  },
  {
   "cell_type": "markdown",
   "id": "8c6f5323",
   "metadata": {},
   "source": [
    "### EstimatedSalary"
   ]
  },
  {
   "cell_type": "code",
   "execution_count": 25,
   "id": "9bdd5ed2",
   "metadata": {
    "scrolled": true
   },
   "outputs": [
    {
     "data": {
      "text/plain": [
       "<AxesSubplot:xlabel='EstimatedSalary', ylabel='Count'>"
      ]
     },
     "execution_count": 25,
     "metadata": {},
     "output_type": "execute_result"
    },
    {
     "data": {
      "image/png": "[encoded data removed]",
      "text/plain": [
       "<Figure size 432x288 with 1 Axes>"
      ]
     },
     "metadata": {
      "needs_background": "light"
     },
     "output_type": "display_data"
    }
   ],
   "source": [
    "sns.histplot(train_df['EstimatedSalary'])"
   ]
  },
  {
   "cell_type": "markdown",
   "id": "46cbf830",
   "metadata": {},
   "source": [
    "급여 분포"
   ]
  },
  {
   "cell_type": "markdown",
   "id": "d29707b9",
   "metadata": {},
   "source": [
    "### Exited"
   ]
  },
  {
   "cell_type": "code",
   "execution_count": 26,
   "id": "752a169d",
   "metadata": {},
   "outputs": [
    {
     "data": {
      "text/plain": [
       "0    130113\n",
       "1     34921\n",
       "Name: Exited, dtype: int64"
      ]
     },
     "execution_count": 26,
     "metadata": {},
     "output_type": "execute_result"
    }
   ],
   "source": [
    "train_df['Exited'].value_counts()"
   ]
  },
  {
   "cell_type": "markdown",
   "id": "68a5e2db",
   "metadata": {},
   "source": [
    "y변수가 불균형하다. 불균형에 대처하는 방법에 대해 고민해야 할 것이다."
   ]
  },
  {
   "cell_type": "markdown",
   "id": "7e105133",
   "metadata": {},
   "source": [
    "## 전처리"
   ]
  },
  {
   "cell_type": "markdown",
   "id": "a7723431",
   "metadata": {},
   "source": [
    "이번 문제에서는 결정적으로 \"확률\" 자체를 예측해야 한다. 따라서, 클래스를 예측하였더라도, 확률값을 돌려줄 수 있는 모델을 생각해야 한다."
   ]
  },
  {
   "cell_type": "markdown",
   "id": "21e5bc95",
   "metadata": {},
   "source": [
    "분류문제로 풀어도 될 것이고, 회귀 모델로 예측해도 문제가 없을 것이다.\n",
    "다만 일반적인 트리 모델등을 쓰기는 부적합하므로 회귀 모델 계열을 사용하거나 로지스틱 회귀로 proba을 반환하게 할 수 있다."
   ]
  },
  {
   "cell_type": "code",
   "execution_count": 28,
   "id": "917a65c7",
   "metadata": {
    "scrolled": true
   },
   "outputs": [
    {
     "data": {
      "text/html": [
       "<div>\n",
       "<style scoped>\n",
       "    .dataframe tbody tr th:only-of-type {\n",
       "        vertical-align: middle;\n",
       "    }\n",
       "\n",
       "    .dataframe tbody tr th {\n",
       "        vertical-align: top;\n",
       "    }\n",
       "\n",
       "    .dataframe thead th {\n",
       "        text-align: right;\n",
       "    }\n",
       "</style>\n",
       "<table border=\"1\" class=\"dataframe\">\n",
       "  <thead>\n",
       "    <tr style=\"text-align: right;\">\n",
       "      <th></th>\n",
       "      <th>id</th>\n",
       "      <th>CustomerId</th>\n",
       "      <th>Surname</th>\n",
       "      <th>CreditScore</th>\n",
       "      <th>Geography</th>\n",
       "      <th>Gender</th>\n",
       "      <th>Age</th>\n",
       "      <th>Tenure</th>\n",
       "      <th>Balance</th>\n",
       "      <th>NumOfProducts</th>\n",
       "      <th>HasCrCard</th>\n",
       "      <th>IsActiveMember</th>\n",
       "      <th>EstimatedSalary</th>\n",
       "      <th>Exited</th>\n",
       "    </tr>\n",
       "  </thead>\n",
       "  <tbody>\n",
       "    <tr>\n",
       "      <th>0</th>\n",
       "      <td>0</td>\n",
       "      <td>15674932</td>\n",
       "      <td>Okwudilichukwu</td>\n",
       "      <td>668</td>\n",
       "      <td>France</td>\n",
       "      <td>Male</td>\n",
       "      <td>33.0</td>\n",
       "      <td>3</td>\n",
       "      <td>0.00</td>\n",
       "      <td>2</td>\n",
       "      <td>1.0</td>\n",
       "      <td>0.0</td>\n",
       "      <td>181449.97</td>\n",
       "      <td>0</td>\n",
       "    </tr>\n",
       "    <tr>\n",
       "      <th>1</th>\n",
       "      <td>1</td>\n",
       "      <td>15749177</td>\n",
       "      <td>Okwudiliolisa</td>\n",
       "      <td>627</td>\n",
       "      <td>France</td>\n",
       "      <td>Male</td>\n",
       "      <td>33.0</td>\n",
       "      <td>1</td>\n",
       "      <td>0.00</td>\n",
       "      <td>2</td>\n",
       "      <td>1.0</td>\n",
       "      <td>1.0</td>\n",
       "      <td>49503.50</td>\n",
       "      <td>0</td>\n",
       "    </tr>\n",
       "    <tr>\n",
       "      <th>2</th>\n",
       "      <td>2</td>\n",
       "      <td>15694510</td>\n",
       "      <td>Hsueh</td>\n",
       "      <td>678</td>\n",
       "      <td>France</td>\n",
       "      <td>Male</td>\n",
       "      <td>40.0</td>\n",
       "      <td>10</td>\n",
       "      <td>0.00</td>\n",
       "      <td>2</td>\n",
       "      <td>1.0</td>\n",
       "      <td>0.0</td>\n",
       "      <td>184866.69</td>\n",
       "      <td>0</td>\n",
       "    </tr>\n",
       "    <tr>\n",
       "      <th>3</th>\n",
       "      <td>3</td>\n",
       "      <td>15741417</td>\n",
       "      <td>Kao</td>\n",
       "      <td>581</td>\n",
       "      <td>France</td>\n",
       "      <td>Male</td>\n",
       "      <td>34.0</td>\n",
       "      <td>2</td>\n",
       "      <td>148882.54</td>\n",
       "      <td>1</td>\n",
       "      <td>1.0</td>\n",
       "      <td>1.0</td>\n",
       "      <td>84560.88</td>\n",
       "      <td>0</td>\n",
       "    </tr>\n",
       "    <tr>\n",
       "      <th>4</th>\n",
       "      <td>4</td>\n",
       "      <td>15766172</td>\n",
       "      <td>Chiemenam</td>\n",
       "      <td>716</td>\n",
       "      <td>Spain</td>\n",
       "      <td>Male</td>\n",
       "      <td>33.0</td>\n",
       "      <td>5</td>\n",
       "      <td>0.00</td>\n",
       "      <td>2</td>\n",
       "      <td>1.0</td>\n",
       "      <td>1.0</td>\n",
       "      <td>15068.83</td>\n",
       "      <td>0</td>\n",
       "    </tr>\n",
       "  </tbody>\n",
       "</table>\n",
       "</div>"
      ],
      "text/plain": [
       "   id  CustomerId         Surname  CreditScore Geography Gender   Age  Tenure  \\\n",
       "0   0    15674932  Okwudilichukwu          668    France   Male  33.0       3   \n",
       "1   1    15749177   Okwudiliolisa          627    France   Male  33.0       1   \n",
       "2   2    15694510           Hsueh          678    France   Male  40.0      10   \n",
       "3   3    15741417             Kao          581    France   Male  34.0       2   \n",
       "4   4    15766172       Chiemenam          716     Spain   Male  33.0       5   \n",
       "\n",
       "     Balance  NumOfProducts  HasCrCard  IsActiveMember  EstimatedSalary  \\\n",
       "0       0.00              2        1.0             0.0        181449.97   \n",
       "1       0.00              2        1.0             1.0         49503.50   \n",
       "2       0.00              2        1.0             0.0        184866.69   \n",
       "3  148882.54              1        1.0             1.0         84560.88   \n",
       "4       0.00              2        1.0             1.0         15068.83   \n",
       "\n",
       "   Exited  \n",
       "0       0  \n",
       "1       0  \n",
       "2       0  \n",
       "3       0  \n",
       "4       0  "
      ]
     },
     "execution_count": 28,
     "metadata": {},
     "output_type": "execute_result"
    }
   ],
   "source": [
    "train_df.head(5)"
   ]
  },
  {
   "cell_type": "markdown",
   "id": "668d8f29",
   "metadata": {},
   "source": [
    "- id, CustomerId, Surname : drop\n",
    "- creditScore : Min_max Scaler를 활용하자. (x-350)/500 으로 하면 된다.\n",
    "- Geography, Gender : One-Hot Encoding\n",
    "- Age : Min-Max Scaler를 활용하자.\n",
    "- Tenure : 역시 연차가 높을수록 균일하게 높은 가중치를 주게 Min_Max Scaler\n",
    "- Num of Products : 동일하게 진행\n",
    "- Estimated Salary : 평균 연봉과의 차이를 고려하기 위해 이것은 Standard Scaler로 진행\n",
    "- HasCrCard, IsActiveMember: 그대로 진행"
   ]
  },
  {
   "cell_type": "markdown",
   "id": "49b02742",
   "metadata": {},
   "source": [
    "문제는 Balance다. 이것이 얼마나 영향이 있는지를 봐야 할 거 같다."
   ]
  },
  {
   "cell_type": "code",
   "execution_count": 29,
   "id": "04481b3f",
   "metadata": {},
   "outputs": [
    {
     "data": {
      "text/plain": [
       "0    75156\n",
       "1    14492\n",
       "Name: Exited, dtype: int64"
      ]
     },
     "execution_count": 29,
     "metadata": {},
     "output_type": "execute_result"
    }
   ],
   "source": [
    "train_df_nobal = train_df.loc[train_df.Balance == 0]\n",
    "train_df_nobal['Exited'].value_counts()"
   ]
  },
  {
   "cell_type": "code",
   "execution_count": 30,
   "id": "f7a2f96e",
   "metadata": {},
   "outputs": [
    {
     "data": {
      "text/plain": [
       "0    54957\n",
       "1    20429\n",
       "Name: Exited, dtype: int64"
      ]
     },
     "execution_count": 30,
     "metadata": {},
     "output_type": "execute_result"
    }
   ],
   "source": [
    "train_df_bal = train_df.loc[train_df.Balance != 0]\n",
    "train_df_bal['Exited'].value_counts()"
   ]
  },
  {
   "cell_type": "markdown",
   "id": "ec11256a",
   "metadata": {},
   "source": [
    "유의미한 차이를 보이고 있어 사용은 해야 할 것이다. 이 또한 0에 몰려 있어서 min_max scaler로 해야 할 것이다."
   ]
  },
  {
   "cell_type": "code",
   "execution_count": null,
   "id": "3557c585",
   "metadata": {},
   "outputs": [],
   "source": []
  }
 ],
 "metadata": {
  "kernelspec": {
   "display_name": "Python 3",
   "language": "python",
   "name": "python3"
  },
  "language_info": {
   "codemirror_mode": {
    "name": "ipython",
    "version": 3
   },
   "file_extension": ".py",
   "mimetype": "text/x-python",
   "name": "python",
   "nbconvert_exporter": "python",
   "pygments_lexer": "ipython3",
   "version": "3.8.8"
  }
 },
 "nbformat": 4,
 "nbformat_minor": 5
}
