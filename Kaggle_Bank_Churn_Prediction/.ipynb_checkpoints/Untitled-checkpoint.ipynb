{
 "cells": [
  {
   "cell_type": "markdown",
   "id": "e04380c3",
   "metadata": {},
   "source": [
    "# Kaggle Challenge 4-1\n",
    "Kaggle의 PlayGrounds Series에 참가해보려고 한다. Season 4-1은 Bianry Classification with a Bank Churn Dataset 문제이다."
   ]
  },
  {
   "cell_type": "code",
   "execution_count": 1,
   "id": "6ba0dabb",
   "metadata": {},
   "outputs": [],
   "source": [
    "import pandas as pd\n",
    "import numpy as np\n",
    "import seaborn as sns\n",
    "import matplotlib.pyplot as plt\n",
    "\n",
    "train_df = pd.read_csv('C:/Users/USER/Desktop/personal_project/Kaggle_Bank_Churn_Prediction/train.csv')\n",
    "test_df = pd.read_csv('C:/Users/USER/Desktop/personal_project/Kaggle_Bank_Churn_Prediction/test.csv')\n",
    "answer_df = test_df[['id']]"
   ]
  },
  {
   "cell_type": "code",
   "execution_count": 2,
   "id": "00ec27ed",
   "metadata": {
    "scrolled": true
   },
   "outputs": [
    {
     "data": {
      "text/html": [
       "<div>\n",
       "<style scoped>\n",
       "    .dataframe tbody tr th:only-of-type {\n",
       "        vertical-align: middle;\n",
       "    }\n",
       "\n",
       "    .dataframe tbody tr th {\n",
       "        vertical-align: top;\n",
       "    }\n",
       "\n",
       "    .dataframe thead th {\n",
       "        text-align: right;\n",
       "    }\n",
       "</style>\n",
       "<table border=\"1\" class=\"dataframe\">\n",
       "  <thead>\n",
       "    <tr style=\"text-align: right;\">\n",
       "      <th></th>\n",
       "      <th>id</th>\n",
       "      <th>CustomerId</th>\n",
       "      <th>Surname</th>\n",
       "      <th>CreditScore</th>\n",
       "      <th>Geography</th>\n",
       "      <th>Gender</th>\n",
       "      <th>Age</th>\n",
       "      <th>Tenure</th>\n",
       "      <th>Balance</th>\n",
       "      <th>NumOfProducts</th>\n",
       "      <th>HasCrCard</th>\n",
       "      <th>IsActiveMember</th>\n",
       "      <th>EstimatedSalary</th>\n",
       "      <th>Exited</th>\n",
       "    </tr>\n",
       "  </thead>\n",
       "  <tbody>\n",
       "    <tr>\n",
       "      <th>0</th>\n",
       "      <td>0</td>\n",
       "      <td>15674932</td>\n",
       "      <td>Okwudilichukwu</td>\n",
       "      <td>668</td>\n",
       "      <td>France</td>\n",
       "      <td>Male</td>\n",
       "      <td>33.0</td>\n",
       "      <td>3</td>\n",
       "      <td>0.00</td>\n",
       "      <td>2</td>\n",
       "      <td>1.0</td>\n",
       "      <td>0.0</td>\n",
       "      <td>181449.97</td>\n",
       "      <td>0</td>\n",
       "    </tr>\n",
       "    <tr>\n",
       "      <th>1</th>\n",
       "      <td>1</td>\n",
       "      <td>15749177</td>\n",
       "      <td>Okwudiliolisa</td>\n",
       "      <td>627</td>\n",
       "      <td>France</td>\n",
       "      <td>Male</td>\n",
       "      <td>33.0</td>\n",
       "      <td>1</td>\n",
       "      <td>0.00</td>\n",
       "      <td>2</td>\n",
       "      <td>1.0</td>\n",
       "      <td>1.0</td>\n",
       "      <td>49503.50</td>\n",
       "      <td>0</td>\n",
       "    </tr>\n",
       "    <tr>\n",
       "      <th>2</th>\n",
       "      <td>2</td>\n",
       "      <td>15694510</td>\n",
       "      <td>Hsueh</td>\n",
       "      <td>678</td>\n",
       "      <td>France</td>\n",
       "      <td>Male</td>\n",
       "      <td>40.0</td>\n",
       "      <td>10</td>\n",
       "      <td>0.00</td>\n",
       "      <td>2</td>\n",
       "      <td>1.0</td>\n",
       "      <td>0.0</td>\n",
       "      <td>184866.69</td>\n",
       "      <td>0</td>\n",
       "    </tr>\n",
       "    <tr>\n",
       "      <th>3</th>\n",
       "      <td>3</td>\n",
       "      <td>15741417</td>\n",
       "      <td>Kao</td>\n",
       "      <td>581</td>\n",
       "      <td>France</td>\n",
       "      <td>Male</td>\n",
       "      <td>34.0</td>\n",
       "      <td>2</td>\n",
       "      <td>148882.54</td>\n",
       "      <td>1</td>\n",
       "      <td>1.0</td>\n",
       "      <td>1.0</td>\n",
       "      <td>84560.88</td>\n",
       "      <td>0</td>\n",
       "    </tr>\n",
       "    <tr>\n",
       "      <th>4</th>\n",
       "      <td>4</td>\n",
       "      <td>15766172</td>\n",
       "      <td>Chiemenam</td>\n",
       "      <td>716</td>\n",
       "      <td>Spain</td>\n",
       "      <td>Male</td>\n",
       "      <td>33.0</td>\n",
       "      <td>5</td>\n",
       "      <td>0.00</td>\n",
       "      <td>2</td>\n",
       "      <td>1.0</td>\n",
       "      <td>1.0</td>\n",
       "      <td>15068.83</td>\n",
       "      <td>0</td>\n",
       "    </tr>\n",
       "  </tbody>\n",
       "</table>\n",
       "</div>"
      ],
      "text/plain": [
       "   id  CustomerId         Surname  CreditScore Geography Gender   Age  Tenure  \\\n",
       "0   0    15674932  Okwudilichukwu          668    France   Male  33.0       3   \n",
       "1   1    15749177   Okwudiliolisa          627    France   Male  33.0       1   \n",
       "2   2    15694510           Hsueh          678    France   Male  40.0      10   \n",
       "3   3    15741417             Kao          581    France   Male  34.0       2   \n",
       "4   4    15766172       Chiemenam          716     Spain   Male  33.0       5   \n",
       "\n",
       "     Balance  NumOfProducts  HasCrCard  IsActiveMember  EstimatedSalary  \\\n",
       "0       0.00              2        1.0             0.0        181449.97   \n",
       "1       0.00              2        1.0             1.0         49503.50   \n",
       "2       0.00              2        1.0             0.0        184866.69   \n",
       "3  148882.54              1        1.0             1.0         84560.88   \n",
       "4       0.00              2        1.0             1.0         15068.83   \n",
       "\n",
       "   Exited  \n",
       "0       0  \n",
       "1       0  \n",
       "2       0  \n",
       "3       0  \n",
       "4       0  "
      ]
     },
     "execution_count": 2,
     "metadata": {},
     "output_type": "execute_result"
    }
   ],
   "source": [
    "train_df.head(5)"
   ]
  },
  {
   "cell_type": "code",
   "execution_count": 3,
   "id": "eacc204b",
   "metadata": {},
   "outputs": [
    {
     "name": "stdout",
     "output_type": "stream",
     "text": [
      "<class 'pandas.core.frame.DataFrame'>\n",
      "RangeIndex: 165034 entries, 0 to 165033\n",
      "Data columns (total 14 columns):\n",
      " #   Column           Non-Null Count   Dtype  \n",
      "---  ------           --------------   -----  \n",
      " 0   id               165034 non-null  int64  \n",
      " 1   CustomerId       165034 non-null  int64  \n",
      " 2   Surname          165034 non-null  object \n",
      " 3   CreditScore      165034 non-null  int64  \n",
      " 4   Geography        165034 non-null  object \n",
      " 5   Gender           165034 non-null  object \n",
      " 6   Age              165034 non-null  float64\n",
      " 7   Tenure           165034 non-null  int64  \n",
      " 8   Balance          165034 non-null  float64\n",
      " 9   NumOfProducts    165034 non-null  int64  \n",
      " 10  HasCrCard        165034 non-null  float64\n",
      " 11  IsActiveMember   165034 non-null  float64\n",
      " 12  EstimatedSalary  165034 non-null  float64\n",
      " 13  Exited           165034 non-null  int64  \n",
      "dtypes: float64(5), int64(6), object(3)\n",
      "memory usage: 17.6+ MB\n"
     ]
    }
   ],
   "source": [
    "train_df.info()"
   ]
  },
  {
   "cell_type": "code",
   "execution_count": 4,
   "id": "481790ed",
   "metadata": {},
   "outputs": [
    {
     "name": "stdout",
     "output_type": "stream",
     "text": [
      "<class 'pandas.core.frame.DataFrame'>\n",
      "RangeIndex: 110023 entries, 0 to 110022\n",
      "Data columns (total 13 columns):\n",
      " #   Column           Non-Null Count   Dtype  \n",
      "---  ------           --------------   -----  \n",
      " 0   id               110023 non-null  int64  \n",
      " 1   CustomerId       110023 non-null  int64  \n",
      " 2   Surname          110023 non-null  object \n",
      " 3   CreditScore      110023 non-null  int64  \n",
      " 4   Geography        110023 non-null  object \n",
      " 5   Gender           110023 non-null  object \n",
      " 6   Age              110023 non-null  float64\n",
      " 7   Tenure           110023 non-null  int64  \n",
      " 8   Balance          110023 non-null  float64\n",
      " 9   NumOfProducts    110023 non-null  int64  \n",
      " 10  HasCrCard        110023 non-null  float64\n",
      " 11  IsActiveMember   110023 non-null  float64\n",
      " 12  EstimatedSalary  110023 non-null  float64\n",
      "dtypes: float64(5), int64(5), object(3)\n",
      "memory usage: 10.9+ MB\n"
     ]
    }
   ],
   "source": [
    "test_df.info()"
   ]
  },
  {
   "cell_type": "markdown",
   "id": "cb481758",
   "metadata": {},
   "source": [
    "not null set이므로, 결측치에 대한 처리는 고려하지 않는다."
   ]
  },
  {
   "cell_type": "markdown",
   "id": "b393d70c",
   "metadata": {},
   "source": [
    "이번 문제는, train은 Exited는 binary로 주어지나, test는 Exited가 나올 확률을 예측하는 것이 목적이다."
   ]
  },
  {
   "cell_type": "markdown",
   "id": "38c4fdb2",
   "metadata": {},
   "source": [
    "## Feature 설명"
   ]
  },
  {
   "cell_type": "markdown",
   "id": "474d12ed",
   "metadata": {},
   "source": [
    "- Id : 컬럼 구분 id\n",
    "- CustomerId : 고객번호\n",
    "- Surname : 성씨\n",
    "- Credit Score : 신용점수. 높을수록 대출을 받기 좋은 상황\n",
    "- Geography : 지역\n",
    "- Gender : 성별\n",
    "- Age : 나이\n",
    "- Tenure : 몇년동안 은행서비스, 계좌서비스 등을 이용했는가?\n",
    "- Balance : 은행 잔고\n",
    "- NumOfProducts : 소지한 주요 상품 수\n",
    "- HasCrCard: 신용 카드를 가지고 있는가?\n",
    "- IsActivenumber : 신용카드가 유효한가?\n",
    "- EstimatedSalary : 추정 급여"
   ]
  },
  {
   "cell_type": "markdown",
   "id": "3c91f25a",
   "metadata": {},
   "source": [
    "## EDA"
   ]
  },
  {
   "cell_type": "code",
   "execution_count": 5,
   "id": "5274a473",
   "metadata": {
    "scrolled": true
   },
   "outputs": [
    {
     "data": {
      "text/html": [
       "<div>\n",
       "<style scoped>\n",
       "    .dataframe tbody tr th:only-of-type {\n",
       "        vertical-align: middle;\n",
       "    }\n",
       "\n",
       "    .dataframe tbody tr th {\n",
       "        vertical-align: top;\n",
       "    }\n",
       "\n",
       "    .dataframe thead th {\n",
       "        text-align: right;\n",
       "    }\n",
       "</style>\n",
       "<table border=\"1\" class=\"dataframe\">\n",
       "  <thead>\n",
       "    <tr style=\"text-align: right;\">\n",
       "      <th></th>\n",
       "      <th>id</th>\n",
       "      <th>CustomerId</th>\n",
       "      <th>Surname</th>\n",
       "      <th>CreditScore</th>\n",
       "      <th>Geography</th>\n",
       "      <th>Gender</th>\n",
       "      <th>Age</th>\n",
       "      <th>Tenure</th>\n",
       "      <th>Balance</th>\n",
       "      <th>NumOfProducts</th>\n",
       "      <th>HasCrCard</th>\n",
       "      <th>IsActiveMember</th>\n",
       "      <th>EstimatedSalary</th>\n",
       "      <th>Exited</th>\n",
       "    </tr>\n",
       "  </thead>\n",
       "  <tbody>\n",
       "    <tr>\n",
       "      <th>0</th>\n",
       "      <td>0</td>\n",
       "      <td>15674932</td>\n",
       "      <td>Okwudilichukwu</td>\n",
       "      <td>668</td>\n",
       "      <td>France</td>\n",
       "      <td>Male</td>\n",
       "      <td>33.0</td>\n",
       "      <td>3</td>\n",
       "      <td>0.00</td>\n",
       "      <td>2</td>\n",
       "      <td>1.0</td>\n",
       "      <td>0.0</td>\n",
       "      <td>181449.97</td>\n",
       "      <td>0</td>\n",
       "    </tr>\n",
       "    <tr>\n",
       "      <th>1</th>\n",
       "      <td>1</td>\n",
       "      <td>15749177</td>\n",
       "      <td>Okwudiliolisa</td>\n",
       "      <td>627</td>\n",
       "      <td>France</td>\n",
       "      <td>Male</td>\n",
       "      <td>33.0</td>\n",
       "      <td>1</td>\n",
       "      <td>0.00</td>\n",
       "      <td>2</td>\n",
       "      <td>1.0</td>\n",
       "      <td>1.0</td>\n",
       "      <td>49503.50</td>\n",
       "      <td>0</td>\n",
       "    </tr>\n",
       "    <tr>\n",
       "      <th>2</th>\n",
       "      <td>2</td>\n",
       "      <td>15694510</td>\n",
       "      <td>Hsueh</td>\n",
       "      <td>678</td>\n",
       "      <td>France</td>\n",
       "      <td>Male</td>\n",
       "      <td>40.0</td>\n",
       "      <td>10</td>\n",
       "      <td>0.00</td>\n",
       "      <td>2</td>\n",
       "      <td>1.0</td>\n",
       "      <td>0.0</td>\n",
       "      <td>184866.69</td>\n",
       "      <td>0</td>\n",
       "    </tr>\n",
       "    <tr>\n",
       "      <th>3</th>\n",
       "      <td>3</td>\n",
       "      <td>15741417</td>\n",
       "      <td>Kao</td>\n",
       "      <td>581</td>\n",
       "      <td>France</td>\n",
       "      <td>Male</td>\n",
       "      <td>34.0</td>\n",
       "      <td>2</td>\n",
       "      <td>148882.54</td>\n",
       "      <td>1</td>\n",
       "      <td>1.0</td>\n",
       "      <td>1.0</td>\n",
       "      <td>84560.88</td>\n",
       "      <td>0</td>\n",
       "    </tr>\n",
       "    <tr>\n",
       "      <th>4</th>\n",
       "      <td>4</td>\n",
       "      <td>15766172</td>\n",
       "      <td>Chiemenam</td>\n",
       "      <td>716</td>\n",
       "      <td>Spain</td>\n",
       "      <td>Male</td>\n",
       "      <td>33.0</td>\n",
       "      <td>5</td>\n",
       "      <td>0.00</td>\n",
       "      <td>2</td>\n",
       "      <td>1.0</td>\n",
       "      <td>1.0</td>\n",
       "      <td>15068.83</td>\n",
       "      <td>0</td>\n",
       "    </tr>\n",
       "    <tr>\n",
       "      <th>...</th>\n",
       "      <td>...</td>\n",
       "      <td>...</td>\n",
       "      <td>...</td>\n",
       "      <td>...</td>\n",
       "      <td>...</td>\n",
       "      <td>...</td>\n",
       "      <td>...</td>\n",
       "      <td>...</td>\n",
       "      <td>...</td>\n",
       "      <td>...</td>\n",
       "      <td>...</td>\n",
       "      <td>...</td>\n",
       "      <td>...</td>\n",
       "      <td>...</td>\n",
       "    </tr>\n",
       "    <tr>\n",
       "      <th>165029</th>\n",
       "      <td>165029</td>\n",
       "      <td>15667085</td>\n",
       "      <td>Meng</td>\n",
       "      <td>667</td>\n",
       "      <td>Spain</td>\n",
       "      <td>Female</td>\n",
       "      <td>33.0</td>\n",
       "      <td>2</td>\n",
       "      <td>0.00</td>\n",
       "      <td>1</td>\n",
       "      <td>1.0</td>\n",
       "      <td>1.0</td>\n",
       "      <td>131834.75</td>\n",
       "      <td>0</td>\n",
       "    </tr>\n",
       "    <tr>\n",
       "      <th>165030</th>\n",
       "      <td>165030</td>\n",
       "      <td>15665521</td>\n",
       "      <td>Okechukwu</td>\n",
       "      <td>792</td>\n",
       "      <td>France</td>\n",
       "      <td>Male</td>\n",
       "      <td>35.0</td>\n",
       "      <td>3</td>\n",
       "      <td>0.00</td>\n",
       "      <td>1</td>\n",
       "      <td>0.0</td>\n",
       "      <td>0.0</td>\n",
       "      <td>131834.45</td>\n",
       "      <td>0</td>\n",
       "    </tr>\n",
       "    <tr>\n",
       "      <th>165031</th>\n",
       "      <td>165031</td>\n",
       "      <td>15664752</td>\n",
       "      <td>Hsia</td>\n",
       "      <td>565</td>\n",
       "      <td>France</td>\n",
       "      <td>Male</td>\n",
       "      <td>31.0</td>\n",
       "      <td>5</td>\n",
       "      <td>0.00</td>\n",
       "      <td>1</td>\n",
       "      <td>1.0</td>\n",
       "      <td>1.0</td>\n",
       "      <td>127429.56</td>\n",
       "      <td>0</td>\n",
       "    </tr>\n",
       "    <tr>\n",
       "      <th>165032</th>\n",
       "      <td>165032</td>\n",
       "      <td>15689614</td>\n",
       "      <td>Hsiung</td>\n",
       "      <td>554</td>\n",
       "      <td>Spain</td>\n",
       "      <td>Female</td>\n",
       "      <td>30.0</td>\n",
       "      <td>7</td>\n",
       "      <td>161533.00</td>\n",
       "      <td>1</td>\n",
       "      <td>0.0</td>\n",
       "      <td>1.0</td>\n",
       "      <td>71173.03</td>\n",
       "      <td>0</td>\n",
       "    </tr>\n",
       "    <tr>\n",
       "      <th>165033</th>\n",
       "      <td>165033</td>\n",
       "      <td>15732798</td>\n",
       "      <td>Ulyanov</td>\n",
       "      <td>850</td>\n",
       "      <td>France</td>\n",
       "      <td>Male</td>\n",
       "      <td>31.0</td>\n",
       "      <td>1</td>\n",
       "      <td>0.00</td>\n",
       "      <td>1</td>\n",
       "      <td>1.0</td>\n",
       "      <td>0.0</td>\n",
       "      <td>61581.79</td>\n",
       "      <td>1</td>\n",
       "    </tr>\n",
       "  </tbody>\n",
       "</table>\n",
       "<p>165034 rows × 14 columns</p>\n",
       "</div>"
      ],
      "text/plain": [
       "            id  CustomerId         Surname  CreditScore Geography  Gender  \\\n",
       "0            0    15674932  Okwudilichukwu          668    France    Male   \n",
       "1            1    15749177   Okwudiliolisa          627    France    Male   \n",
       "2            2    15694510           Hsueh          678    France    Male   \n",
       "3            3    15741417             Kao          581    France    Male   \n",
       "4            4    15766172       Chiemenam          716     Spain    Male   \n",
       "...        ...         ...             ...          ...       ...     ...   \n",
       "165029  165029    15667085            Meng          667     Spain  Female   \n",
       "165030  165030    15665521       Okechukwu          792    France    Male   \n",
       "165031  165031    15664752            Hsia          565    France    Male   \n",
       "165032  165032    15689614          Hsiung          554     Spain  Female   \n",
       "165033  165033    15732798         Ulyanov          850    France    Male   \n",
       "\n",
       "         Age  Tenure    Balance  NumOfProducts  HasCrCard  IsActiveMember  \\\n",
       "0       33.0       3       0.00              2        1.0             0.0   \n",
       "1       33.0       1       0.00              2        1.0             1.0   \n",
       "2       40.0      10       0.00              2        1.0             0.0   \n",
       "3       34.0       2  148882.54              1        1.0             1.0   \n",
       "4       33.0       5       0.00              2        1.0             1.0   \n",
       "...      ...     ...        ...            ...        ...             ...   \n",
       "165029  33.0       2       0.00              1        1.0             1.0   \n",
       "165030  35.0       3       0.00              1        0.0             0.0   \n",
       "165031  31.0       5       0.00              1        1.0             1.0   \n",
       "165032  30.0       7  161533.00              1        0.0             1.0   \n",
       "165033  31.0       1       0.00              1        1.0             0.0   \n",
       "\n",
       "        EstimatedSalary  Exited  \n",
       "0             181449.97       0  \n",
       "1              49503.50       0  \n",
       "2             184866.69       0  \n",
       "3              84560.88       0  \n",
       "4              15068.83       0  \n",
       "...                 ...     ...  \n",
       "165029        131834.75       0  \n",
       "165030        131834.45       0  \n",
       "165031        127429.56       0  \n",
       "165032         71173.03       0  \n",
       "165033         61581.79       1  \n",
       "\n",
       "[165034 rows x 14 columns]"
      ]
     },
     "execution_count": 5,
     "metadata": {},
     "output_type": "execute_result"
    }
   ],
   "source": [
    "train_df"
   ]
  },
  {
   "cell_type": "markdown",
   "id": "c4db5081",
   "metadata": {},
   "source": [
    "아무리 생각해도 id, 고객id, 이름에 따라서 뭐가 달라질거 같지는 않다."
   ]
  },
  {
   "cell_type": "markdown",
   "id": "96332ce3",
   "metadata": {},
   "source": [
    "### creditscore"
   ]
  },
  {
   "cell_type": "code",
   "execution_count": 6,
   "id": "a95f9ea1",
   "metadata": {},
   "outputs": [
    {
     "data": {
      "text/plain": [
       "<AxesSubplot:xlabel='CreditScore', ylabel='Count'>"
      ]
     },
     "execution_count": 6,
     "metadata": {},
     "output_type": "execute_result"
    },
    {
     "data": {
      "image/png": "[encoded data removed]",
      "text/plain": [
       "<Figure size 432x288 with 1 Axes>"
      ]
     },
     "metadata": {
      "needs_background": "light"
     },
     "output_type": "display_data"
    }
   ],
   "source": [
    "sns.histplot(train_df['CreditScore'])"
   ]
  },
  {
   "cell_type": "markdown",
   "id": "fb80f288",
   "metadata": {},
   "source": [
    "600~700사이에서 다수가 분포해있다. 800 이상의 고신용이나 500 이하의 저신용은 드물다. \n",
    "통계적 확인은 필요하겠으나, 정규분포에 나쁘지 않게 분포했을 것이다. 다만, 신용점수는 \"절대평가\"임을 고려해야한다."
   ]
  },
  {
   "cell_type": "code",
   "execution_count": 7,
   "id": "4b4e5c63",
   "metadata": {},
   "outputs": [
    {
     "data": {
      "text/plain": [
       "count    165034.000000\n",
       "mean        656.454373\n",
       "std          80.103340\n",
       "min         350.000000\n",
       "25%         597.000000\n",
       "50%         659.000000\n",
       "75%         710.000000\n",
       "max         850.000000\n",
       "Name: CreditScore, dtype: float64"
      ]
     },
     "execution_count": 7,
     "metadata": {},
     "output_type": "execute_result"
    }
   ],
   "source": [
    "train_df['CreditScore'].describe()"
   ]
  },
  {
   "cell_type": "markdown",
   "id": "8e791cdd",
   "metadata": {},
   "source": [
    "최소 350점 ~ 최대 850점의 분포이다.\n",
    "REMARK. kaggle에서 관련 토론 자료를 확인해본 결과 해당 데이터셋의 신용점수 기준이 최하 350, 최대 850이다.\n",
    "\n",
    "나중에 predict때, 결국 확률을 예측해야 하므로, 적절한 scaler가 필요하다. scaler는 절대평가를 반영, Min-Max로 진행한다."
   ]
  },
  {
   "cell_type": "markdown",
   "id": "80322bf5",
   "metadata": {},
   "source": [
    "### geography"
   ]
  },
  {
   "cell_type": "code",
   "execution_count": 8,
   "id": "b9e670d2",
   "metadata": {},
   "outputs": [
    {
     "data": {
      "text/plain": [
       "France     94215\n",
       "Spain      36213\n",
       "Germany    34606\n",
       "Name: Geography, dtype: int64"
      ]
     },
     "execution_count": 8,
     "metadata": {},
     "output_type": "execute_result"
    }
   ],
   "source": [
    "train_df['Geography'].value_counts()"
   ]
  },
  {
   "cell_type": "markdown",
   "id": "119b7223",
   "metadata": {},
   "source": [
    "단 3개의 지역만이 주어져 있다. 지역의 경우는 국가의 경제 상황에 따라서 대출 허용 빈도 등이 달라질 수 있다.\n",
    "따라서 국가의 변수를 무시할 수만은 없을 것이다."
   ]
  },
  {
   "cell_type": "markdown",
   "id": "a375456f",
   "metadata": {},
   "source": [
    "### Gender"
   ]
  },
  {
   "cell_type": "code",
   "execution_count": 9,
   "id": "0b920414",
   "metadata": {},
   "outputs": [
    {
     "data": {
      "text/plain": [
       "Male      93150\n",
       "Female    71884\n",
       "Name: Gender, dtype: int64"
      ]
     },
     "execution_count": 9,
     "metadata": {},
     "output_type": "execute_result"
    }
   ],
   "source": [
    "train_df['Gender'].value_counts()"
   ]
  },
  {
   "cell_type": "markdown",
   "id": "4c09089c",
   "metadata": {},
   "source": [
    "Gender의 변수는 고려 여부 자체를 결정해야 할 것 같다."
   ]
  },
  {
   "cell_type": "markdown",
   "id": "e097d324",
   "metadata": {},
   "source": [
    "### Age"
   ]
  },
  {
   "cell_type": "markdown",
   "id": "030699cf",
   "metadata": {},
   "source": [
    "우선, info에서 Age에 이상 현상이 발견된 것으로 추정된다. 그 이유가, Age는 정수형이어야 하는데 float으로 인식되고 있다."
   ]
  },
  {
   "cell_type": "code",
   "execution_count": 10,
   "id": "e3734d0c",
   "metadata": {},
   "outputs": [
    {
     "name": "stdout",
     "output_type": "stream",
     "text": [
      "36.44\n",
      "32.34\n"
     ]
    }
   ],
   "source": [
    "# 정수형이 아닌 것이 있는지 체크\n",
    "for x in train_df['Age']:\n",
    "    if x-round(x) != 0:\n",
    "        print(x)"
   ]
  },
  {
   "cell_type": "markdown",
   "id": "0ee0c806",
   "metadata": {},
   "source": [
    "정수형 변수가 아닌 것이 발견되어, 이에 대한 전처리가 반드시 필요하다.! 반올림으로 처리하자."
   ]
  },
  {
   "cell_type": "code",
   "execution_count": 11,
   "id": "ad1f9eae",
   "metadata": {},
   "outputs": [
    {
     "data": {
      "text/plain": [
       "<AxesSubplot:xlabel='Age', ylabel='Count'>"
      ]
     },
     "execution_count": 11,
     "metadata": {},
     "output_type": "execute_result"
    },
    {
     "data": {
      "image/png": "[encoded data removed]",
      "text/plain": [
       "<Figure size 432x288 with 1 Axes>"
      ]
     },
     "metadata": {
      "needs_background": "light"
     },
     "output_type": "display_data"
    }
   ],
   "source": [
    "sns.histplot(train_df['Age'], bins = 10)"
   ]
  },
  {
   "cell_type": "markdown",
   "id": "f46cd356",
   "metadata": {},
   "source": [
    "20살 이하, 30살, 40살, 50살, 60살, 60살 초과로 나누자.\n",
    "그리고 one-hot"
   ]
  },
  {
   "cell_type": "markdown",
   "id": "b928ebfe",
   "metadata": {},
   "source": [
    "### Tenure"
   ]
  },
  {
   "cell_type": "markdown",
   "id": "46cd5ef9",
   "metadata": {},
   "source": [
    "정수형으로 나타나고 있다."
   ]
  },
  {
   "cell_type": "code",
   "execution_count": 12,
   "id": "e52d0f95",
   "metadata": {},
   "outputs": [
    {
     "data": {
      "text/plain": [
       "2     18045\n",
       "7     17810\n",
       "4     17554\n",
       "8     17520\n",
       "5     17268\n",
       "1     16760\n",
       "9     16709\n",
       "3     16630\n",
       "6     15822\n",
       "10     5909\n",
       "0      5007\n",
       "Name: Tenure, dtype: int64"
      ]
     },
     "execution_count": 12,
     "metadata": {},
     "output_type": "execute_result"
    }
   ],
   "source": [
    "train_df['Tenure'].value_counts()"
   ]
  },
  {
   "cell_type": "markdown",
   "id": "766fdc66",
   "metadata": {},
   "source": [
    "값의 범위가 넓지 않다. 이것도 사용년수이나 클수록 이탈율에 어떤 영향을 미칠지 모르기 때문에, 역시 전처리 전에 관계 분석이 필요"
   ]
  },
  {
   "cell_type": "markdown",
   "id": "d76b5086",
   "metadata": {},
   "source": [
    "### Balance"
   ]
  },
  {
   "cell_type": "code",
   "execution_count": 13,
   "id": "b2fbf8f1",
   "metadata": {},
   "outputs": [
    {
     "data": {
      "text/plain": [
       "<AxesSubplot:xlabel='Balance', ylabel='Count'>"
      ]
     },
     "execution_count": 13,
     "metadata": {},
     "output_type": "execute_result"
    },
    {
     "data": {
      "image/png": "[encoded data removed]",
      "text/plain": [
       "<Figure size 432x288 with 1 Axes>"
      ]
     },
     "metadata": {
      "needs_background": "light"
     },
     "output_type": "display_data"
    }
   ],
   "source": [
    "sns.histplot(train_df['Balance'])"
   ]
  },
  {
   "cell_type": "markdown",
   "id": "3c860711",
   "metadata": {},
   "source": [
    "잔액은 없는 사람이 더 많은 이상 현상이 보인다. 얼마나 관계성이 있는지 따로 봐야 할듯 하다."
   ]
  },
  {
   "cell_type": "markdown",
   "id": "4130ac21",
   "metadata": {},
   "source": [
    "### NumOfProducts"
   ]
  },
  {
   "cell_type": "code",
   "execution_count": 14,
   "id": "44fde06e",
   "metadata": {},
   "outputs": [
    {
     "data": {
      "text/plain": [
       "2    84291\n",
       "1    77374\n",
       "3     2894\n",
       "4      475\n",
       "Name: NumOfProducts, dtype: int64"
      ]
     },
     "execution_count": 14,
     "metadata": {},
     "output_type": "execute_result"
    }
   ],
   "source": [
    "train_df['NumOfProducts'].value_counts()"
   ]
  },
  {
   "cell_type": "markdown",
   "id": "6f90ddfd",
   "metadata": {},
   "source": [
    "주요 상품이 4개 정도로 한정되어 있는것으로 보인다. "
   ]
  },
  {
   "cell_type": "markdown",
   "id": "4e9321dd",
   "metadata": {},
   "source": [
    "### HasCrCard, isActiveMember"
   ]
  },
  {
   "cell_type": "code",
   "execution_count": 15,
   "id": "593cbf30",
   "metadata": {},
   "outputs": [
    {
     "data": {
      "text/plain": [
       "1.0    124428\n",
       "0.0     40606\n",
       "Name: HasCrCard, dtype: int64"
      ]
     },
     "execution_count": 15,
     "metadata": {},
     "output_type": "execute_result"
    }
   ],
   "source": [
    "train_df['HasCrCard'].value_counts()"
   ]
  },
  {
   "cell_type": "markdown",
   "id": "5b7f1e56",
   "metadata": {},
   "source": [
    "75% 정도는 카드를 가지고 있다."
   ]
  },
  {
   "cell_type": "code",
   "execution_count": 16,
   "id": "a057ee42",
   "metadata": {},
   "outputs": [
    {
     "data": {
      "text/plain": [
       "0.0    82885\n",
       "1.0    82149\n",
       "Name: IsActiveMember, dtype: int64"
      ]
     },
     "execution_count": 16,
     "metadata": {},
     "output_type": "execute_result"
    }
   ],
   "source": [
    "train_df['IsActiveMember'].value_counts()"
   ]
  },
  {
   "cell_type": "markdown",
   "id": "472b241f",
   "metadata": {},
   "source": [
    "카드를 가지고 있는 사람중 60~70% 정도만이 카드가 활성화되어있다."
   ]
  },
  {
   "cell_type": "markdown",
   "id": "8c6f5323",
   "metadata": {},
   "source": [
    "### EstimatedSalary"
   ]
  },
  {
   "cell_type": "code",
   "execution_count": 17,
   "id": "9bdd5ed2",
   "metadata": {
    "scrolled": true
   },
   "outputs": [
    {
     "data": {
      "text/plain": [
       "<AxesSubplot:xlabel='EstimatedSalary', ylabel='Count'>"
      ]
     },
     "execution_count": 17,
     "metadata": {},
     "output_type": "execute_result"
    },
    {
     "data": {
      "image/png": "[encoded data removed]",
      "text/plain": [
       "<Figure size 432x288 with 1 Axes>"
      ]
     },
     "metadata": {
      "needs_background": "light"
     },
     "output_type": "display_data"
    }
   ],
   "source": [
    "sns.histplot(train_df['EstimatedSalary'])"
   ]
  },
  {
   "cell_type": "markdown",
   "id": "46cbf830",
   "metadata": {},
   "source": [
    "급여 분포는 다음과 같다. 이것도 0에서 최댓값을 뺀 것으로 해야 scaler이 통일되므로 max에서 계산하자."
   ]
  },
  {
   "cell_type": "markdown",
   "id": "d29707b9",
   "metadata": {},
   "source": [
    "### Exited"
   ]
  },
  {
   "cell_type": "code",
   "execution_count": 18,
   "id": "752a169d",
   "metadata": {},
   "outputs": [
    {
     "data": {
      "text/plain": [
       "0    130113\n",
       "1     34921\n",
       "Name: Exited, dtype: int64"
      ]
     },
     "execution_count": 18,
     "metadata": {},
     "output_type": "execute_result"
    }
   ],
   "source": [
    "train_df['Exited'].value_counts()"
   ]
  },
  {
   "cell_type": "markdown",
   "id": "68a5e2db",
   "metadata": {},
   "source": [
    "y변수가 불균형하다. 불균형에 대처하는 방법에 대해 고민해야 할 것이다."
   ]
  },
  {
   "cell_type": "markdown",
   "id": "7e105133",
   "metadata": {},
   "source": [
    "## 전처리"
   ]
  },
  {
   "cell_type": "markdown",
   "id": "a7723431",
   "metadata": {},
   "source": [
    "이번 문제에서는 결정적으로 \"확률\" 자체를 예측해야 한다. 따라서, 클래스를 예측하였더라도, 확률값을 돌려줄 수 있는 모델을 생각해야 한다. 분류모델들에서 확률값을 돌려주는 기능이 포함되어 있다. 지울 필요 없다."
   ]
  },
  {
   "cell_type": "code",
   "execution_count": 19,
   "id": "917a65c7",
   "metadata": {
    "scrolled": true
   },
   "outputs": [
    {
     "data": {
      "text/html": [
       "<div>\n",
       "<style scoped>\n",
       "    .dataframe tbody tr th:only-of-type {\n",
       "        vertical-align: middle;\n",
       "    }\n",
       "\n",
       "    .dataframe tbody tr th {\n",
       "        vertical-align: top;\n",
       "    }\n",
       "\n",
       "    .dataframe thead th {\n",
       "        text-align: right;\n",
       "    }\n",
       "</style>\n",
       "<table border=\"1\" class=\"dataframe\">\n",
       "  <thead>\n",
       "    <tr style=\"text-align: right;\">\n",
       "      <th></th>\n",
       "      <th>id</th>\n",
       "      <th>CustomerId</th>\n",
       "      <th>Surname</th>\n",
       "      <th>CreditScore</th>\n",
       "      <th>Geography</th>\n",
       "      <th>Gender</th>\n",
       "      <th>Age</th>\n",
       "      <th>Tenure</th>\n",
       "      <th>Balance</th>\n",
       "      <th>NumOfProducts</th>\n",
       "      <th>HasCrCard</th>\n",
       "      <th>IsActiveMember</th>\n",
       "      <th>EstimatedSalary</th>\n",
       "      <th>Exited</th>\n",
       "    </tr>\n",
       "  </thead>\n",
       "  <tbody>\n",
       "    <tr>\n",
       "      <th>0</th>\n",
       "      <td>0</td>\n",
       "      <td>15674932</td>\n",
       "      <td>Okwudilichukwu</td>\n",
       "      <td>668</td>\n",
       "      <td>France</td>\n",
       "      <td>Male</td>\n",
       "      <td>33.0</td>\n",
       "      <td>3</td>\n",
       "      <td>0.00</td>\n",
       "      <td>2</td>\n",
       "      <td>1.0</td>\n",
       "      <td>0.0</td>\n",
       "      <td>181449.97</td>\n",
       "      <td>0</td>\n",
       "    </tr>\n",
       "    <tr>\n",
       "      <th>1</th>\n",
       "      <td>1</td>\n",
       "      <td>15749177</td>\n",
       "      <td>Okwudiliolisa</td>\n",
       "      <td>627</td>\n",
       "      <td>France</td>\n",
       "      <td>Male</td>\n",
       "      <td>33.0</td>\n",
       "      <td>1</td>\n",
       "      <td>0.00</td>\n",
       "      <td>2</td>\n",
       "      <td>1.0</td>\n",
       "      <td>1.0</td>\n",
       "      <td>49503.50</td>\n",
       "      <td>0</td>\n",
       "    </tr>\n",
       "    <tr>\n",
       "      <th>2</th>\n",
       "      <td>2</td>\n",
       "      <td>15694510</td>\n",
       "      <td>Hsueh</td>\n",
       "      <td>678</td>\n",
       "      <td>France</td>\n",
       "      <td>Male</td>\n",
       "      <td>40.0</td>\n",
       "      <td>10</td>\n",
       "      <td>0.00</td>\n",
       "      <td>2</td>\n",
       "      <td>1.0</td>\n",
       "      <td>0.0</td>\n",
       "      <td>184866.69</td>\n",
       "      <td>0</td>\n",
       "    </tr>\n",
       "    <tr>\n",
       "      <th>3</th>\n",
       "      <td>3</td>\n",
       "      <td>15741417</td>\n",
       "      <td>Kao</td>\n",
       "      <td>581</td>\n",
       "      <td>France</td>\n",
       "      <td>Male</td>\n",
       "      <td>34.0</td>\n",
       "      <td>2</td>\n",
       "      <td>148882.54</td>\n",
       "      <td>1</td>\n",
       "      <td>1.0</td>\n",
       "      <td>1.0</td>\n",
       "      <td>84560.88</td>\n",
       "      <td>0</td>\n",
       "    </tr>\n",
       "    <tr>\n",
       "      <th>4</th>\n",
       "      <td>4</td>\n",
       "      <td>15766172</td>\n",
       "      <td>Chiemenam</td>\n",
       "      <td>716</td>\n",
       "      <td>Spain</td>\n",
       "      <td>Male</td>\n",
       "      <td>33.0</td>\n",
       "      <td>5</td>\n",
       "      <td>0.00</td>\n",
       "      <td>2</td>\n",
       "      <td>1.0</td>\n",
       "      <td>1.0</td>\n",
       "      <td>15068.83</td>\n",
       "      <td>0</td>\n",
       "    </tr>\n",
       "  </tbody>\n",
       "</table>\n",
       "</div>"
      ],
      "text/plain": [
       "   id  CustomerId         Surname  CreditScore Geography Gender   Age  Tenure  \\\n",
       "0   0    15674932  Okwudilichukwu          668    France   Male  33.0       3   \n",
       "1   1    15749177   Okwudiliolisa          627    France   Male  33.0       1   \n",
       "2   2    15694510           Hsueh          678    France   Male  40.0      10   \n",
       "3   3    15741417             Kao          581    France   Male  34.0       2   \n",
       "4   4    15766172       Chiemenam          716     Spain   Male  33.0       5   \n",
       "\n",
       "     Balance  NumOfProducts  HasCrCard  IsActiveMember  EstimatedSalary  \\\n",
       "0       0.00              2        1.0             0.0        181449.97   \n",
       "1       0.00              2        1.0             1.0         49503.50   \n",
       "2       0.00              2        1.0             0.0        184866.69   \n",
       "3  148882.54              1        1.0             1.0         84560.88   \n",
       "4       0.00              2        1.0             1.0         15068.83   \n",
       "\n",
       "   Exited  \n",
       "0       0  \n",
       "1       0  \n",
       "2       0  \n",
       "3       0  \n",
       "4       0  "
      ]
     },
     "execution_count": 19,
     "metadata": {},
     "output_type": "execute_result"
    }
   ],
   "source": [
    "train_df.head(5)"
   ]
  },
  {
   "cell_type": "markdown",
   "id": "668d8f29",
   "metadata": {},
   "source": [
    "- id, CustomerId, Surname : drop\n",
    "- creditScore : Min_max Scaler를 활용하자. (x-350)/500 으로 하면 된다.\n",
    "- Geography, Gender : One-Hot Encoding\n",
    "- Age : Min-Max Scaler를 활용하자.\n",
    "- Tenure : 역시 연차가 높을수록 균일하게 높은 가중치를 주게 Min_Max Scaler\n",
    "- Num of Products : 동일하게 진행\n",
    "- Estimated Salary : 평균 연봉과의 차이를 고려하기 위해 이것은 Standard Scaler로 진행\n",
    "- HasCrCard, IsActiveMember: 그대로 진행"
   ]
  },
  {
   "cell_type": "markdown",
   "id": "49b02742",
   "metadata": {},
   "source": [
    "문제는 Balance다. 이것이 얼마나 영향이 있는지를 봐야 할 거 같다."
   ]
  },
  {
   "cell_type": "code",
   "execution_count": 20,
   "id": "04481b3f",
   "metadata": {},
   "outputs": [
    {
     "data": {
      "text/plain": [
       "0    75156\n",
       "1    14492\n",
       "Name: Exited, dtype: int64"
      ]
     },
     "execution_count": 20,
     "metadata": {},
     "output_type": "execute_result"
    }
   ],
   "source": [
    "train_df_nobal = train_df.loc[train_df.Balance == 0]\n",
    "train_df_nobal['Exited'].value_counts()"
   ]
  },
  {
   "cell_type": "code",
   "execution_count": 21,
   "id": "f7a2f96e",
   "metadata": {},
   "outputs": [
    {
     "data": {
      "text/plain": [
       "0    54957\n",
       "1    20429\n",
       "Name: Exited, dtype: int64"
      ]
     },
     "execution_count": 21,
     "metadata": {},
     "output_type": "execute_result"
    }
   ],
   "source": [
    "train_df_bal = train_df.loc[train_df.Balance != 0]\n",
    "train_df_bal['Exited'].value_counts()"
   ]
  },
  {
   "cell_type": "markdown",
   "id": "ec11256a",
   "metadata": {},
   "source": [
    "0의 값이 너무 많아서 그대로 사용은 어려울 것 같으나 0이냐 아니냐에 따라는 유의미한 차이를 보이고 있어 binary화 시키자\n",
    "잔고가 있으면 1 없으면 0"
   ]
  },
  {
   "cell_type": "code",
   "execution_count": 22,
   "id": "8812df3f",
   "metadata": {},
   "outputs": [],
   "source": [
    "# drop\n",
    "train_df = train_df.drop(['id', 'CustomerId', 'Surname'], axis = 1)\n",
    "test_df = test_df.drop(['id', 'CustomerId', 'Surname'], axis = 1)"
   ]
  },
  {
   "cell_type": "code",
   "execution_count": 23,
   "id": "864aa7f8",
   "metadata": {},
   "outputs": [],
   "source": [
    "# one-hot encoding\n",
    "train_df = pd.get_dummies(train_df, columns = ['Geography', 'Gender'])\n",
    "test_df = pd.get_dummies(test_df, columns = ['Geography', 'Gender'])"
   ]
  },
  {
   "cell_type": "code",
   "execution_count": 24,
   "id": "2147120f",
   "metadata": {},
   "outputs": [
    {
     "data": {
      "text/html": [
       "<div>\n",
       "<style scoped>\n",
       "    .dataframe tbody tr th:only-of-type {\n",
       "        vertical-align: middle;\n",
       "    }\n",
       "\n",
       "    .dataframe tbody tr th {\n",
       "        vertical-align: top;\n",
       "    }\n",
       "\n",
       "    .dataframe thead th {\n",
       "        text-align: right;\n",
       "    }\n",
       "</style>\n",
       "<table border=\"1\" class=\"dataframe\">\n",
       "  <thead>\n",
       "    <tr style=\"text-align: right;\">\n",
       "      <th></th>\n",
       "      <th>CreditScore</th>\n",
       "      <th>Age</th>\n",
       "      <th>Tenure</th>\n",
       "      <th>Balance</th>\n",
       "      <th>NumOfProducts</th>\n",
       "      <th>HasCrCard</th>\n",
       "      <th>IsActiveMember</th>\n",
       "      <th>EstimatedSalary</th>\n",
       "      <th>Exited</th>\n",
       "      <th>Geography_France</th>\n",
       "      <th>Geography_Germany</th>\n",
       "      <th>Geography_Spain</th>\n",
       "      <th>Gender_Female</th>\n",
       "      <th>Gender_Male</th>\n",
       "    </tr>\n",
       "  </thead>\n",
       "  <tbody>\n",
       "    <tr>\n",
       "      <th>0</th>\n",
       "      <td>668</td>\n",
       "      <td>33.0</td>\n",
       "      <td>3</td>\n",
       "      <td>0.00</td>\n",
       "      <td>2</td>\n",
       "      <td>1.0</td>\n",
       "      <td>0.0</td>\n",
       "      <td>181449.97</td>\n",
       "      <td>0</td>\n",
       "      <td>1</td>\n",
       "      <td>0</td>\n",
       "      <td>0</td>\n",
       "      <td>0</td>\n",
       "      <td>1</td>\n",
       "    </tr>\n",
       "    <tr>\n",
       "      <th>1</th>\n",
       "      <td>627</td>\n",
       "      <td>33.0</td>\n",
       "      <td>1</td>\n",
       "      <td>0.00</td>\n",
       "      <td>2</td>\n",
       "      <td>1.0</td>\n",
       "      <td>1.0</td>\n",
       "      <td>49503.50</td>\n",
       "      <td>0</td>\n",
       "      <td>1</td>\n",
       "      <td>0</td>\n",
       "      <td>0</td>\n",
       "      <td>0</td>\n",
       "      <td>1</td>\n",
       "    </tr>\n",
       "    <tr>\n",
       "      <th>2</th>\n",
       "      <td>678</td>\n",
       "      <td>40.0</td>\n",
       "      <td>10</td>\n",
       "      <td>0.00</td>\n",
       "      <td>2</td>\n",
       "      <td>1.0</td>\n",
       "      <td>0.0</td>\n",
       "      <td>184866.69</td>\n",
       "      <td>0</td>\n",
       "      <td>1</td>\n",
       "      <td>0</td>\n",
       "      <td>0</td>\n",
       "      <td>0</td>\n",
       "      <td>1</td>\n",
       "    </tr>\n",
       "    <tr>\n",
       "      <th>3</th>\n",
       "      <td>581</td>\n",
       "      <td>34.0</td>\n",
       "      <td>2</td>\n",
       "      <td>148882.54</td>\n",
       "      <td>1</td>\n",
       "      <td>1.0</td>\n",
       "      <td>1.0</td>\n",
       "      <td>84560.88</td>\n",
       "      <td>0</td>\n",
       "      <td>1</td>\n",
       "      <td>0</td>\n",
       "      <td>0</td>\n",
       "      <td>0</td>\n",
       "      <td>1</td>\n",
       "    </tr>\n",
       "    <tr>\n",
       "      <th>4</th>\n",
       "      <td>716</td>\n",
       "      <td>33.0</td>\n",
       "      <td>5</td>\n",
       "      <td>0.00</td>\n",
       "      <td>2</td>\n",
       "      <td>1.0</td>\n",
       "      <td>1.0</td>\n",
       "      <td>15068.83</td>\n",
       "      <td>0</td>\n",
       "      <td>0</td>\n",
       "      <td>0</td>\n",
       "      <td>1</td>\n",
       "      <td>0</td>\n",
       "      <td>1</td>\n",
       "    </tr>\n",
       "    <tr>\n",
       "      <th>...</th>\n",
       "      <td>...</td>\n",
       "      <td>...</td>\n",
       "      <td>...</td>\n",
       "      <td>...</td>\n",
       "      <td>...</td>\n",
       "      <td>...</td>\n",
       "      <td>...</td>\n",
       "      <td>...</td>\n",
       "      <td>...</td>\n",
       "      <td>...</td>\n",
       "      <td>...</td>\n",
       "      <td>...</td>\n",
       "      <td>...</td>\n",
       "      <td>...</td>\n",
       "    </tr>\n",
       "    <tr>\n",
       "      <th>165029</th>\n",
       "      <td>667</td>\n",
       "      <td>33.0</td>\n",
       "      <td>2</td>\n",
       "      <td>0.00</td>\n",
       "      <td>1</td>\n",
       "      <td>1.0</td>\n",
       "      <td>1.0</td>\n",
       "      <td>131834.75</td>\n",
       "      <td>0</td>\n",
       "      <td>0</td>\n",
       "      <td>0</td>\n",
       "      <td>1</td>\n",
       "      <td>1</td>\n",
       "      <td>0</td>\n",
       "    </tr>\n",
       "    <tr>\n",
       "      <th>165030</th>\n",
       "      <td>792</td>\n",
       "      <td>35.0</td>\n",
       "      <td>3</td>\n",
       "      <td>0.00</td>\n",
       "      <td>1</td>\n",
       "      <td>0.0</td>\n",
       "      <td>0.0</td>\n",
       "      <td>131834.45</td>\n",
       "      <td>0</td>\n",
       "      <td>1</td>\n",
       "      <td>0</td>\n",
       "      <td>0</td>\n",
       "      <td>0</td>\n",
       "      <td>1</td>\n",
       "    </tr>\n",
       "    <tr>\n",
       "      <th>165031</th>\n",
       "      <td>565</td>\n",
       "      <td>31.0</td>\n",
       "      <td>5</td>\n",
       "      <td>0.00</td>\n",
       "      <td>1</td>\n",
       "      <td>1.0</td>\n",
       "      <td>1.0</td>\n",
       "      <td>127429.56</td>\n",
       "      <td>0</td>\n",
       "      <td>1</td>\n",
       "      <td>0</td>\n",
       "      <td>0</td>\n",
       "      <td>0</td>\n",
       "      <td>1</td>\n",
       "    </tr>\n",
       "    <tr>\n",
       "      <th>165032</th>\n",
       "      <td>554</td>\n",
       "      <td>30.0</td>\n",
       "      <td>7</td>\n",
       "      <td>161533.00</td>\n",
       "      <td>1</td>\n",
       "      <td>0.0</td>\n",
       "      <td>1.0</td>\n",
       "      <td>71173.03</td>\n",
       "      <td>0</td>\n",
       "      <td>0</td>\n",
       "      <td>0</td>\n",
       "      <td>1</td>\n",
       "      <td>1</td>\n",
       "      <td>0</td>\n",
       "    </tr>\n",
       "    <tr>\n",
       "      <th>165033</th>\n",
       "      <td>850</td>\n",
       "      <td>31.0</td>\n",
       "      <td>1</td>\n",
       "      <td>0.00</td>\n",
       "      <td>1</td>\n",
       "      <td>1.0</td>\n",
       "      <td>0.0</td>\n",
       "      <td>61581.79</td>\n",
       "      <td>1</td>\n",
       "      <td>1</td>\n",
       "      <td>0</td>\n",
       "      <td>0</td>\n",
       "      <td>0</td>\n",
       "      <td>1</td>\n",
       "    </tr>\n",
       "  </tbody>\n",
       "</table>\n",
       "<p>165034 rows × 14 columns</p>\n",
       "</div>"
      ],
      "text/plain": [
       "        CreditScore   Age  Tenure    Balance  NumOfProducts  HasCrCard  \\\n",
       "0               668  33.0       3       0.00              2        1.0   \n",
       "1               627  33.0       1       0.00              2        1.0   \n",
       "2               678  40.0      10       0.00              2        1.0   \n",
       "3               581  34.0       2  148882.54              1        1.0   \n",
       "4               716  33.0       5       0.00              2        1.0   \n",
       "...             ...   ...     ...        ...            ...        ...   \n",
       "165029          667  33.0       2       0.00              1        1.0   \n",
       "165030          792  35.0       3       0.00              1        0.0   \n",
       "165031          565  31.0       5       0.00              1        1.0   \n",
       "165032          554  30.0       7  161533.00              1        0.0   \n",
       "165033          850  31.0       1       0.00              1        1.0   \n",
       "\n",
       "        IsActiveMember  EstimatedSalary  Exited  Geography_France  \\\n",
       "0                  0.0        181449.97       0                 1   \n",
       "1                  1.0         49503.50       0                 1   \n",
       "2                  0.0        184866.69       0                 1   \n",
       "3                  1.0         84560.88       0                 1   \n",
       "4                  1.0         15068.83       0                 0   \n",
       "...                ...              ...     ...               ...   \n",
       "165029             1.0        131834.75       0                 0   \n",
       "165030             0.0        131834.45       0                 1   \n",
       "165031             1.0        127429.56       0                 1   \n",
       "165032             1.0         71173.03       0                 0   \n",
       "165033             0.0         61581.79       1                 1   \n",
       "\n",
       "        Geography_Germany  Geography_Spain  Gender_Female  Gender_Male  \n",
       "0                       0                0              0            1  \n",
       "1                       0                0              0            1  \n",
       "2                       0                0              0            1  \n",
       "3                       0                0              0            1  \n",
       "4                       0                1              0            1  \n",
       "...                   ...              ...            ...          ...  \n",
       "165029                  0                1              1            0  \n",
       "165030                  0                0              0            1  \n",
       "165031                  0                0              0            1  \n",
       "165032                  0                1              1            0  \n",
       "165033                  0                0              0            1  \n",
       "\n",
       "[165034 rows x 14 columns]"
      ]
     },
     "execution_count": 24,
     "metadata": {},
     "output_type": "execute_result"
    }
   ],
   "source": [
    "train_df"
   ]
  },
  {
   "cell_type": "markdown",
   "id": "6a3dbf93",
   "metadata": {},
   "source": [
    "잔고에 대해서 0-1과 min-max를 실험해보자."
   ]
  },
  {
   "cell_type": "code",
   "execution_count": 25,
   "id": "9211af50",
   "metadata": {},
   "outputs": [],
   "source": [
    "#train_df['is_bal'] = train_df['Balance'].apply(lambda x : 1 if x > 0 else 0)\n",
    "#test_df['is_bal'] = test_df['Balance'].apply(lambda x : 1 if x > 0 else 0)\n",
    "#train_df = train_df.drop(['Balance'], axis = 1)\n",
    "#test_df = test_df.drop(['Balance'], axis = 1)\n",
    "\n",
    "max_bal = max(train_df['Balance'])\n",
    "train_df['Balance'] = train_df.Balance.apply(lambda x : x/max_bal)\n",
    "test_df['Balance'] = test_df.Balance.apply(lambda x : x/max_bal)"
   ]
  },
  {
   "cell_type": "code",
   "execution_count": null,
   "id": "98765d6f",
   "metadata": {},
   "outputs": [],
   "source": []
  },
  {
   "cell_type": "markdown",
   "id": "038d9c06",
   "metadata": {},
   "source": [
    "나이는 값을 나누고 전처리"
   ]
  },
  {
   "cell_type": "code",
   "execution_count": 26,
   "id": "e991bd61",
   "metadata": {},
   "outputs": [],
   "source": [
    "train_df['Age'] = train_df['Age'].apply(lambda x: int(x))\n",
    "test_df['Age'] = test_df['Age'].apply(lambda x: int(x))"
   ]
  },
  {
   "cell_type": "markdown",
   "id": "3cc1de98",
   "metadata": {},
   "source": [
    "테뉴어와 Product는 값이 명백하므로, 이에 대한 변환은 쉽게 하자."
   ]
  },
  {
   "cell_type": "code",
   "execution_count": 27,
   "id": "55e57885",
   "metadata": {},
   "outputs": [],
   "source": [
    "def get_gen(x):\n",
    "    if x < 20:\n",
    "        return 'under_20s'\n",
    "    elif x < 30:\n",
    "        return '20s'\n",
    "    elif x < 40:\n",
    "        return '30s'\n",
    "    elif x < 50:\n",
    "        return '40s'\n",
    "    elif x < 60:\n",
    "        return '50s'\n",
    "    else:\n",
    "        return 'over_60s'\n",
    "    \n",
    "train_df['age_gen'] = train_df.Age.apply(lambda x : get_gen(x))\n",
    "test_df['age_gen'] = test_df.Age.apply(lambda x : get_gen(x))\n",
    "train_df = pd.get_dummies(train_df, columns = ['age_gen'])\n",
    "test_df = pd.get_dummies(test_df, columns = ['age_gen'])"
   ]
  },
  {
   "cell_type": "code",
   "execution_count": 28,
   "id": "48865bff",
   "metadata": {},
   "outputs": [
    {
     "data": {
      "text/html": [
       "<div>\n",
       "<style scoped>\n",
       "    .dataframe tbody tr th:only-of-type {\n",
       "        vertical-align: middle;\n",
       "    }\n",
       "\n",
       "    .dataframe tbody tr th {\n",
       "        vertical-align: top;\n",
       "    }\n",
       "\n",
       "    .dataframe thead th {\n",
       "        text-align: right;\n",
       "    }\n",
       "</style>\n",
       "<table border=\"1\" class=\"dataframe\">\n",
       "  <thead>\n",
       "    <tr style=\"text-align: right;\">\n",
       "      <th></th>\n",
       "      <th>CreditScore</th>\n",
       "      <th>Age</th>\n",
       "      <th>Tenure</th>\n",
       "      <th>Balance</th>\n",
       "      <th>NumOfProducts</th>\n",
       "      <th>HasCrCard</th>\n",
       "      <th>IsActiveMember</th>\n",
       "      <th>EstimatedSalary</th>\n",
       "      <th>Exited</th>\n",
       "      <th>Geography_France</th>\n",
       "      <th>Geography_Germany</th>\n",
       "      <th>Geography_Spain</th>\n",
       "      <th>Gender_Female</th>\n",
       "      <th>Gender_Male</th>\n",
       "      <th>age_gen_20s</th>\n",
       "      <th>age_gen_30s</th>\n",
       "      <th>age_gen_40s</th>\n",
       "      <th>age_gen_50s</th>\n",
       "      <th>age_gen_over_60s</th>\n",
       "      <th>age_gen_under_20s</th>\n",
       "    </tr>\n",
       "  </thead>\n",
       "  <tbody>\n",
       "    <tr>\n",
       "      <th>0</th>\n",
       "      <td>668</td>\n",
       "      <td>33</td>\n",
       "      <td>3</td>\n",
       "      <td>0.000000</td>\n",
       "      <td>2</td>\n",
       "      <td>1.0</td>\n",
       "      <td>0.0</td>\n",
       "      <td>181449.97</td>\n",
       "      <td>0</td>\n",
       "      <td>1</td>\n",
       "      <td>0</td>\n",
       "      <td>0</td>\n",
       "      <td>0</td>\n",
       "      <td>1</td>\n",
       "      <td>0</td>\n",
       "      <td>1</td>\n",
       "      <td>0</td>\n",
       "      <td>0</td>\n",
       "      <td>0</td>\n",
       "      <td>0</td>\n",
       "    </tr>\n",
       "    <tr>\n",
       "      <th>1</th>\n",
       "      <td>627</td>\n",
       "      <td>33</td>\n",
       "      <td>1</td>\n",
       "      <td>0.000000</td>\n",
       "      <td>2</td>\n",
       "      <td>1.0</td>\n",
       "      <td>1.0</td>\n",
       "      <td>49503.50</td>\n",
       "      <td>0</td>\n",
       "      <td>1</td>\n",
       "      <td>0</td>\n",
       "      <td>0</td>\n",
       "      <td>0</td>\n",
       "      <td>1</td>\n",
       "      <td>0</td>\n",
       "      <td>1</td>\n",
       "      <td>0</td>\n",
       "      <td>0</td>\n",
       "      <td>0</td>\n",
       "      <td>0</td>\n",
       "    </tr>\n",
       "    <tr>\n",
       "      <th>2</th>\n",
       "      <td>678</td>\n",
       "      <td>40</td>\n",
       "      <td>10</td>\n",
       "      <td>0.000000</td>\n",
       "      <td>2</td>\n",
       "      <td>1.0</td>\n",
       "      <td>0.0</td>\n",
       "      <td>184866.69</td>\n",
       "      <td>0</td>\n",
       "      <td>1</td>\n",
       "      <td>0</td>\n",
       "      <td>0</td>\n",
       "      <td>0</td>\n",
       "      <td>1</td>\n",
       "      <td>0</td>\n",
       "      <td>0</td>\n",
       "      <td>1</td>\n",
       "      <td>0</td>\n",
       "      <td>0</td>\n",
       "      <td>0</td>\n",
       "    </tr>\n",
       "    <tr>\n",
       "      <th>3</th>\n",
       "      <td>581</td>\n",
       "      <td>34</td>\n",
       "      <td>2</td>\n",
       "      <td>0.593398</td>\n",
       "      <td>1</td>\n",
       "      <td>1.0</td>\n",
       "      <td>1.0</td>\n",
       "      <td>84560.88</td>\n",
       "      <td>0</td>\n",
       "      <td>1</td>\n",
       "      <td>0</td>\n",
       "      <td>0</td>\n",
       "      <td>0</td>\n",
       "      <td>1</td>\n",
       "      <td>0</td>\n",
       "      <td>1</td>\n",
       "      <td>0</td>\n",
       "      <td>0</td>\n",
       "      <td>0</td>\n",
       "      <td>0</td>\n",
       "    </tr>\n",
       "    <tr>\n",
       "      <th>4</th>\n",
       "      <td>716</td>\n",
       "      <td>33</td>\n",
       "      <td>5</td>\n",
       "      <td>0.000000</td>\n",
       "      <td>2</td>\n",
       "      <td>1.0</td>\n",
       "      <td>1.0</td>\n",
       "      <td>15068.83</td>\n",
       "      <td>0</td>\n",
       "      <td>0</td>\n",
       "      <td>0</td>\n",
       "      <td>1</td>\n",
       "      <td>0</td>\n",
       "      <td>1</td>\n",
       "      <td>0</td>\n",
       "      <td>1</td>\n",
       "      <td>0</td>\n",
       "      <td>0</td>\n",
       "      <td>0</td>\n",
       "      <td>0</td>\n",
       "    </tr>\n",
       "    <tr>\n",
       "      <th>...</th>\n",
       "      <td>...</td>\n",
       "      <td>...</td>\n",
       "      <td>...</td>\n",
       "      <td>...</td>\n",
       "      <td>...</td>\n",
       "      <td>...</td>\n",
       "      <td>...</td>\n",
       "      <td>...</td>\n",
       "      <td>...</td>\n",
       "      <td>...</td>\n",
       "      <td>...</td>\n",
       "      <td>...</td>\n",
       "      <td>...</td>\n",
       "      <td>...</td>\n",
       "      <td>...</td>\n",
       "      <td>...</td>\n",
       "      <td>...</td>\n",
       "      <td>...</td>\n",
       "      <td>...</td>\n",
       "      <td>...</td>\n",
       "    </tr>\n",
       "    <tr>\n",
       "      <th>165029</th>\n",
       "      <td>667</td>\n",
       "      <td>33</td>\n",
       "      <td>2</td>\n",
       "      <td>0.000000</td>\n",
       "      <td>1</td>\n",
       "      <td>1.0</td>\n",
       "      <td>1.0</td>\n",
       "      <td>131834.75</td>\n",
       "      <td>0</td>\n",
       "      <td>0</td>\n",
       "      <td>0</td>\n",
       "      <td>1</td>\n",
       "      <td>1</td>\n",
       "      <td>0</td>\n",
       "      <td>0</td>\n",
       "      <td>1</td>\n",
       "      <td>0</td>\n",
       "      <td>0</td>\n",
       "      <td>0</td>\n",
       "      <td>0</td>\n",
       "    </tr>\n",
       "    <tr>\n",
       "      <th>165030</th>\n",
       "      <td>792</td>\n",
       "      <td>35</td>\n",
       "      <td>3</td>\n",
       "      <td>0.000000</td>\n",
       "      <td>1</td>\n",
       "      <td>0.0</td>\n",
       "      <td>0.0</td>\n",
       "      <td>131834.45</td>\n",
       "      <td>0</td>\n",
       "      <td>1</td>\n",
       "      <td>0</td>\n",
       "      <td>0</td>\n",
       "      <td>0</td>\n",
       "      <td>1</td>\n",
       "      <td>0</td>\n",
       "      <td>1</td>\n",
       "      <td>0</td>\n",
       "      <td>0</td>\n",
       "      <td>0</td>\n",
       "      <td>0</td>\n",
       "    </tr>\n",
       "    <tr>\n",
       "      <th>165031</th>\n",
       "      <td>565</td>\n",
       "      <td>31</td>\n",
       "      <td>5</td>\n",
       "      <td>0.000000</td>\n",
       "      <td>1</td>\n",
       "      <td>1.0</td>\n",
       "      <td>1.0</td>\n",
       "      <td>127429.56</td>\n",
       "      <td>0</td>\n",
       "      <td>1</td>\n",
       "      <td>0</td>\n",
       "      <td>0</td>\n",
       "      <td>0</td>\n",
       "      <td>1</td>\n",
       "      <td>0</td>\n",
       "      <td>1</td>\n",
       "      <td>0</td>\n",
       "      <td>0</td>\n",
       "      <td>0</td>\n",
       "      <td>0</td>\n",
       "    </tr>\n",
       "    <tr>\n",
       "      <th>165032</th>\n",
       "      <td>554</td>\n",
       "      <td>30</td>\n",
       "      <td>7</td>\n",
       "      <td>0.643819</td>\n",
       "      <td>1</td>\n",
       "      <td>0.0</td>\n",
       "      <td>1.0</td>\n",
       "      <td>71173.03</td>\n",
       "      <td>0</td>\n",
       "      <td>0</td>\n",
       "      <td>0</td>\n",
       "      <td>1</td>\n",
       "      <td>1</td>\n",
       "      <td>0</td>\n",
       "      <td>0</td>\n",
       "      <td>1</td>\n",
       "      <td>0</td>\n",
       "      <td>0</td>\n",
       "      <td>0</td>\n",
       "      <td>0</td>\n",
       "    </tr>\n",
       "    <tr>\n",
       "      <th>165033</th>\n",
       "      <td>850</td>\n",
       "      <td>31</td>\n",
       "      <td>1</td>\n",
       "      <td>0.000000</td>\n",
       "      <td>1</td>\n",
       "      <td>1.0</td>\n",
       "      <td>0.0</td>\n",
       "      <td>61581.79</td>\n",
       "      <td>1</td>\n",
       "      <td>1</td>\n",
       "      <td>0</td>\n",
       "      <td>0</td>\n",
       "      <td>0</td>\n",
       "      <td>1</td>\n",
       "      <td>0</td>\n",
       "      <td>1</td>\n",
       "      <td>0</td>\n",
       "      <td>0</td>\n",
       "      <td>0</td>\n",
       "      <td>0</td>\n",
       "    </tr>\n",
       "  </tbody>\n",
       "</table>\n",
       "<p>165034 rows × 20 columns</p>\n",
       "</div>"
      ],
      "text/plain": [
       "        CreditScore  Age  Tenure   Balance  NumOfProducts  HasCrCard  \\\n",
       "0               668   33       3  0.000000              2        1.0   \n",
       "1               627   33       1  0.000000              2        1.0   \n",
       "2               678   40      10  0.000000              2        1.0   \n",
       "3               581   34       2  0.593398              1        1.0   \n",
       "4               716   33       5  0.000000              2        1.0   \n",
       "...             ...  ...     ...       ...            ...        ...   \n",
       "165029          667   33       2  0.000000              1        1.0   \n",
       "165030          792   35       3  0.000000              1        0.0   \n",
       "165031          565   31       5  0.000000              1        1.0   \n",
       "165032          554   30       7  0.643819              1        0.0   \n",
       "165033          850   31       1  0.000000              1        1.0   \n",
       "\n",
       "        IsActiveMember  EstimatedSalary  Exited  Geography_France  \\\n",
       "0                  0.0        181449.97       0                 1   \n",
       "1                  1.0         49503.50       0                 1   \n",
       "2                  0.0        184866.69       0                 1   \n",
       "3                  1.0         84560.88       0                 1   \n",
       "4                  1.0         15068.83       0                 0   \n",
       "...                ...              ...     ...               ...   \n",
       "165029             1.0        131834.75       0                 0   \n",
       "165030             0.0        131834.45       0                 1   \n",
       "165031             1.0        127429.56       0                 1   \n",
       "165032             1.0         71173.03       0                 0   \n",
       "165033             0.0         61581.79       1                 1   \n",
       "\n",
       "        Geography_Germany  Geography_Spain  Gender_Female  Gender_Male  \\\n",
       "0                       0                0              0            1   \n",
       "1                       0                0              0            1   \n",
       "2                       0                0              0            1   \n",
       "3                       0                0              0            1   \n",
       "4                       0                1              0            1   \n",
       "...                   ...              ...            ...          ...   \n",
       "165029                  0                1              1            0   \n",
       "165030                  0                0              0            1   \n",
       "165031                  0                0              0            1   \n",
       "165032                  0                1              1            0   \n",
       "165033                  0                0              0            1   \n",
       "\n",
       "        age_gen_20s  age_gen_30s  age_gen_40s  age_gen_50s  age_gen_over_60s  \\\n",
       "0                 0            1            0            0                 0   \n",
       "1                 0            1            0            0                 0   \n",
       "2                 0            0            1            0                 0   \n",
       "3                 0            1            0            0                 0   \n",
       "4                 0            1            0            0                 0   \n",
       "...             ...          ...          ...          ...               ...   \n",
       "165029            0            1            0            0                 0   \n",
       "165030            0            1            0            0                 0   \n",
       "165031            0            1            0            0                 0   \n",
       "165032            0            1            0            0                 0   \n",
       "165033            0            1            0            0                 0   \n",
       "\n",
       "        age_gen_under_20s  \n",
       "0                       0  \n",
       "1                       0  \n",
       "2                       0  \n",
       "3                       0  \n",
       "4                       0  \n",
       "...                   ...  \n",
       "165029                  0  \n",
       "165030                  0  \n",
       "165031                  0  \n",
       "165032                  0  \n",
       "165033                  0  \n",
       "\n",
       "[165034 rows x 20 columns]"
      ]
     },
     "execution_count": 28,
     "metadata": {},
     "output_type": "execute_result"
    }
   ],
   "source": [
    "train_df"
   ]
  },
  {
   "cell_type": "code",
   "execution_count": 29,
   "id": "002a15f3",
   "metadata": {},
   "outputs": [],
   "source": [
    "train_df['Tenure'] = train_df.Tenure.apply(lambda x : x/10)\n",
    "test_df['Tenure'] = test_df.Tenure.apply(lambda x : x/10)\n",
    "train_df['NumOfProducts'] = train_df.NumOfProducts.apply(lambda x: x/4)\n",
    "test_df['NumOfProducts'] = test_df.NumOfProducts.apply(lambda x : x/4)\n",
    "train_df['CreditScore'] = train_df.CreditScore.apply(lambda x : (x-350)/500)\n",
    "test_df['CreditScore'] = test_df.CreditScore.apply(lambda x: (x-350)/500)"
   ]
  },
  {
   "cell_type": "code",
   "execution_count": 30,
   "id": "e27edf44",
   "metadata": {},
   "outputs": [],
   "source": [
    "#train과 test에서의 scaler 기준은 동일해야 하므로, train의 급여 최댓값으로만 나눈다. \n",
    "# 그리고 0은 아예 0이어야 하여 최소를 강제로 0으로 \n",
    "max_sal = max(train_df['EstimatedSalary'])\n",
    "train_df['EstimatedSalary'] = train_df.EstimatedSalary.apply(lambda x : x/max_sal)\n",
    "test_df['EstimatedSalary'] = test_df.EstimatedSalary.apply(lambda x : x/max_sal)"
   ]
  },
  {
   "cell_type": "markdown",
   "id": "22c210bb",
   "metadata": {},
   "source": [
    "## Logistic Regression 이용"
   ]
  },
  {
   "cell_type": "markdown",
   "id": "c1dca6ed",
   "metadata": {},
   "source": [
    "우선은 로지스틱 리그레션을 이용하고, 그 뒤로는 그냥 회귀모델을 이용해버리자."
   ]
  },
  {
   "cell_type": "code",
   "execution_count": 31,
   "id": "04f81164",
   "metadata": {},
   "outputs": [],
   "source": [
    "from sklearn.model_selection import train_test_split\n",
    "\n",
    "X = train_df.drop(['Exited'], axis = 1)\n",
    "y = train_df['Exited']\n",
    "\n",
    "X_train, X_test, y_train, y_test = train_test_split(X, y, test_size = 0.2, stratify = y, random_state = 42)"
   ]
  },
  {
   "cell_type": "markdown",
   "id": "958bf929",
   "metadata": {},
   "source": [
    "우선은 깡으로 모델을 만든 뒤에 좀 더 예측률을 높여보자!\n",
    "채점에 사용되는 지표로 평가한다 (roc-auc score)"
   ]
  },
  {
   "cell_type": "code",
   "execution_count": 32,
   "id": "1454a5a2",
   "metadata": {},
   "outputs": [],
   "source": [
    "from sklearn.metrics import roc_auc_score\n",
    "from sklearn.linear_model import LogisticRegression\n",
    "\n",
    "model = LogisticRegression()\n",
    "model.fit(X_train, y_train)\n",
    "pred = model.predict(X_test)"
   ]
  },
  {
   "cell_type": "code",
   "execution_count": 33,
   "id": "ee48eed8",
   "metadata": {},
   "outputs": [
    {
     "data": {
      "text/plain": [
       "0.7804783339815646"
      ]
     },
     "execution_count": 33,
     "metadata": {},
     "output_type": "execute_result"
    }
   ],
   "source": [
    "roc_auc_score(pred, y_test)"
   ]
  },
  {
   "cell_type": "code",
   "execution_count": 34,
   "id": "b4553b63",
   "metadata": {},
   "outputs": [
    {
     "data": {
      "text/plain": [
       "array([[24779,  4058],\n",
       "       [ 1244,  2926]], dtype=int64)"
      ]
     },
     "execution_count": 34,
     "metadata": {},
     "output_type": "execute_result"
    }
   ],
   "source": [
    "from sklearn.metrics import confusion_matrix\n",
    "confusion_matrix(pred, y_test)"
   ]
  },
  {
   "cell_type": "markdown",
   "id": "a7d0675b",
   "metadata": {},
   "source": [
    "실제로 proba를 좀 봐볼까?"
   ]
  },
  {
   "cell_type": "code",
   "execution_count": 35,
   "id": "a60ec689",
   "metadata": {},
   "outputs": [
    {
     "name": "stdout",
     "output_type": "stream",
     "text": [
      "[[0.76465186 0.23534814]\n",
      " [0.97318916 0.02681084]\n",
      " [0.94268484 0.05731516]\n",
      " ...\n",
      " [0.98835915 0.01164085]\n",
      " [0.98278737 0.01721263]\n",
      " [0.90813667 0.09186333]]\n"
     ]
    }
   ],
   "source": [
    "proba = model.predict_proba(X_test)\n",
    "print(proba)"
   ]
  },
  {
   "cell_type": "markdown",
   "id": "26ff4799",
   "metadata": {},
   "source": [
    "이렇게 class가 1일 확률을 예측 가능하다만..."
   ]
  },
  {
   "cell_type": "markdown",
   "id": "0d82e605",
   "metadata": {},
   "source": [
    "### 다른 모델은 불가능할까? 예를들어...랜덤포레스트"
   ]
  },
  {
   "cell_type": "markdown",
   "id": "6cf3de3b",
   "metadata": {},
   "source": [
    "된다!"
   ]
  },
  {
   "cell_type": "code",
   "execution_count": 36,
   "id": "ac6d7d55",
   "metadata": {},
   "outputs": [
    {
     "name": "stdout",
     "output_type": "stream",
     "text": [
      "0.8223463559905932\n"
     ]
    }
   ],
   "source": [
    "from sklearn.ensemble import RandomForestClassifier\n",
    "model = RandomForestClassifier(max_depth = 7, random_state = 42)\n",
    "model.fit(X_train, y_train)\n",
    "pred = model.predict(X_test)\n",
    "print(roc_auc_score(pred, y_test))"
   ]
  },
  {
   "cell_type": "markdown",
   "id": "324c8fed",
   "metadata": {},
   "source": [
    "depth_7 일때가 0.55 정도로 상승률이 좋은 시점이라, 이 깊이를 과적합을 막기 위해 사용해보자."
   ]
  },
  {
   "cell_type": "code",
   "execution_count": 37,
   "id": "b6d731ac",
   "metadata": {},
   "outputs": [
    {
     "name": "stdout",
     "output_type": "stream",
     "text": [
      "[[0.84935352 0.15064648]\n",
      " [0.54200702 0.45799298]\n",
      " [0.9617805  0.0382195 ]\n",
      " ...\n",
      " [0.93971869 0.06028131]\n",
      " [0.97691832 0.02308168]\n",
      " [0.89802434 0.10197566]]\n"
     ]
    }
   ],
   "source": [
    "proba = model.predict_proba(X_test)\n",
    "print(proba)"
   ]
  },
  {
   "cell_type": "markdown",
   "id": "3b7a439c",
   "metadata": {},
   "source": [
    "앞에처럼 예측 모델이 확률을 제시한다!"
   ]
  },
  {
   "cell_type": "markdown",
   "id": "8f0004a3",
   "metadata": {},
   "source": [
    "### 예시답안 제출"
   ]
  },
  {
   "cell_type": "markdown",
   "id": "461f5157",
   "metadata": {},
   "source": [
    "한번 답안지를 만들어보자"
   ]
  },
  {
   "cell_type": "code",
   "execution_count": 38,
   "id": "427dc29b",
   "metadata": {},
   "outputs": [],
   "source": [
    "final_pred = model.predict_proba(test_df)"
   ]
  },
  {
   "cell_type": "code",
   "execution_count": 39,
   "id": "c37ac5c8",
   "metadata": {},
   "outputs": [],
   "source": [
    "def get_final_df(final_pred):\n",
    "    ans_list = []\n",
    "    for f in final_pred:\n",
    "        ans_list.append(f[1])\n",
    "    answer_df['Exited'] = ans_list\n",
    "    answer_df.to_csv('C:/Users/USER/Desktop/personal_project/Kaggle_Bank_Churn_Prediction/answer.csv', index = False)\n",
    "    \n",
    "#get_final_df(final_pred)"
   ]
  },
  {
   "cell_type": "markdown",
   "id": "6f01f6f2",
   "metadata": {},
   "source": [
    "우선 LightGBM을 써보자"
   ]
  },
  {
   "cell_type": "code",
   "execution_count": 40,
   "id": "514ae0a1",
   "metadata": {},
   "outputs": [
    {
     "name": "stdout",
     "output_type": "stream",
     "text": [
      "0.8167407199489611\n"
     ]
    }
   ],
   "source": [
    "from lightgbm import LGBMClassifier\n",
    "model = LGBMClassifier(max_depth = 6, random_state = 42)\n",
    "model.fit(X_train, y_train)\n",
    "pred = model.predict(X_test)\n",
    "print(roc_auc_score(pred, y_test))"
   ]
  },
  {
   "cell_type": "markdown",
   "id": "a6f6c415",
   "metadata": {},
   "source": [
    "LGBM을 기준 모델로 만든다\n",
    "다만, 이번에는 전체를 학습시켜서 학습 성능을 올리자"
   ]
  },
  {
   "cell_type": "code",
   "execution_count": 41,
   "id": "829a4f68",
   "metadata": {},
   "outputs": [],
   "source": [
    "model = LGBMClassifier(max_depth = 6, random_state = 42)\n",
    "model.fit(X, y)\n",
    "\n",
    "final_pred = model.predict_proba(test_df)\n",
    "#get_final_df(final_pred)"
   ]
  },
  {
   "cell_type": "markdown",
   "id": "90f4e027",
   "metadata": {},
   "source": [
    "### 다른 모델 사용"
   ]
  },
  {
   "cell_type": "code",
   "execution_count": 42,
   "id": "54cf3803",
   "metadata": {},
   "outputs": [
    {
     "name": "stdout",
     "output_type": "stream",
     "text": [
      "0.7079644318718823\n"
     ]
    }
   ],
   "source": [
    "# from sklearn.naive_bayes import GaussianNB\n",
    "# model = GaussianNB()\n",
    "# model.fit(X_train, y_train)\n",
    "# pred = model.predict(X_test)\n",
    "# print(roc_auc_score(pred, y_test))"
   ]
  },
  {
   "cell_type": "markdown",
   "id": "5d4866a8",
   "metadata": {},
   "source": [
    "나이브 베이즈는 부적합"
   ]
  },
  {
   "cell_type": "markdown",
   "id": "d76a2612",
   "metadata": {},
   "source": [
    "### Automl 도입"
   ]
  },
  {
   "cell_type": "code",
   "execution_count": 43,
   "id": "caa4da4b",
   "metadata": {
    "scrolled": true
   },
   "outputs": [],
   "source": [
    "# pip install pycaret\n",
    "#from pycaret.classification import *\n",
    "# train_df = pd.read_csv('C:/Users/USER/Desktop/personal_project/Kaggle_Bank_Churn_Prediction/train.csv')\n",
    "#exp_class = setup(data = train_df, target = 'Exited', session_id = 42)"
   ]
  },
  {
   "cell_type": "code",
   "execution_count": 44,
   "id": "6d30cc56",
   "metadata": {},
   "outputs": [],
   "source": [
    "# best_model = compare_models(fold=3, sort='f1')"
   ]
  },
  {
   "cell_type": "markdown",
   "id": "c0d73b56",
   "metadata": {},
   "source": [
    "gbc가 여기서는 가장 좋은 성능을 보인다. 문제에서는 AUC도 물었기에 두개 모두를 참고하면.. gbc를 고려해볼 법 하다"
   ]
  },
  {
   "cell_type": "code",
   "execution_count": 45,
   "id": "c16e9344",
   "metadata": {},
   "outputs": [
    {
     "name": "stdout",
     "output_type": "stream",
     "text": [
      "0.8177444949707364\n"
     ]
    }
   ],
   "source": [
    "from sklearn.ensemble import GradientBoostingClassifier\n",
    "model = GradientBoostingClassifier(max_depth = 3, n_estimators = 150, random_state = 42)\n",
    "model.fit(X_train, y_train)\n",
    "pred = model.predict(X_test)\n",
    "print(roc_auc_score(pred, y_test))"
   ]
  },
  {
   "cell_type": "markdown",
   "id": "f8313359",
   "metadata": {},
   "source": [
    "5가 적합한 느낌이다. 적용해보자"
   ]
  },
  {
   "cell_type": "code",
   "execution_count": 46,
   "id": "363188d0",
   "metadata": {},
   "outputs": [],
   "source": [
    "# model = GradientBoostingClassifier(max_depth = 5, random_state = 42, n_estimators = 150)\n",
    "# model.fit(X, y)\n",
    "\n",
    "# final_pred_gbm = model.predict_proba(test_df)\n",
    "# #get_final_df(final_pred)"
   ]
  },
  {
   "cell_type": "markdown",
   "id": "bf24ab1c",
   "metadata": {},
   "source": [
    "### catboost?"
   ]
  },
  {
   "cell_type": "markdown",
   "id": "5c42a7ad",
   "metadata": {},
   "source": [
    "범주형 변수가 많아서, catboost의 사용을 고려해 볼 수 있다."
   ]
  },
  {
   "cell_type": "code",
   "execution_count": 47,
   "id": "5515a38f",
   "metadata": {},
   "outputs": [
    {
     "name": "stdout",
     "output_type": "stream",
     "text": [
      "Learning rate set to 0.472043\n",
      "0:\tlearn: 0.4877187\ttotal: 184ms\tremaining: 27.4s\n",
      "1:\tlearn: 0.4098456\ttotal: 198ms\tremaining: 14.7s\n",
      "2:\tlearn: 0.3703782\ttotal: 212ms\tremaining: 10.4s\n",
      "3:\tlearn: 0.3490124\ttotal: 225ms\tremaining: 8.22s\n",
      "4:\tlearn: 0.3389827\ttotal: 239ms\tremaining: 6.92s\n",
      "5:\tlearn: 0.3319534\ttotal: 255ms\tremaining: 6.13s\n",
      "6:\tlearn: 0.3285749\ttotal: 270ms\tremaining: 5.51s\n",
      "7:\tlearn: 0.3259156\ttotal: 283ms\tremaining: 5.01s\n",
      "8:\tlearn: 0.3249386\ttotal: 296ms\tremaining: 4.64s\n",
      "9:\tlearn: 0.3240353\ttotal: 309ms\tremaining: 4.33s\n",
      "10:\tlearn: 0.3230219\ttotal: 323ms\tremaining: 4.08s\n",
      "11:\tlearn: 0.3224873\ttotal: 337ms\tremaining: 3.88s\n",
      "12:\tlearn: 0.3221003\ttotal: 350ms\tremaining: 3.69s\n",
      "13:\tlearn: 0.3216598\ttotal: 363ms\tremaining: 3.52s\n",
      "14:\tlearn: 0.3212244\ttotal: 377ms\tremaining: 3.4s\n",
      "15:\tlearn: 0.3207641\ttotal: 390ms\tremaining: 3.27s\n",
      "16:\tlearn: 0.3205657\ttotal: 403ms\tremaining: 3.15s\n",
      "17:\tlearn: 0.3203659\ttotal: 417ms\tremaining: 3.06s\n",
      "18:\tlearn: 0.3201986\ttotal: 430ms\tremaining: 2.96s\n",
      "19:\tlearn: 0.3198832\ttotal: 443ms\tremaining: 2.88s\n",
      "20:\tlearn: 0.3197697\ttotal: 459ms\tremaining: 2.82s\n",
      "21:\tlearn: 0.3196847\ttotal: 471ms\tremaining: 2.74s\n",
      "22:\tlearn: 0.3192618\ttotal: 487ms\tremaining: 2.69s\n",
      "23:\tlearn: 0.3191105\ttotal: 499ms\tremaining: 2.62s\n",
      "24:\tlearn: 0.3189923\ttotal: 515ms\tremaining: 2.57s\n",
      "25:\tlearn: 0.3186719\ttotal: 530ms\tremaining: 2.53s\n",
      "26:\tlearn: 0.3184884\ttotal: 544ms\tremaining: 2.48s\n",
      "27:\tlearn: 0.3183763\ttotal: 557ms\tremaining: 2.43s\n",
      "28:\tlearn: 0.3182275\ttotal: 570ms\tremaining: 2.38s\n",
      "29:\tlearn: 0.3180444\ttotal: 587ms\tremaining: 2.35s\n",
      "30:\tlearn: 0.3178581\ttotal: 603ms\tremaining: 2.31s\n",
      "31:\tlearn: 0.3177339\ttotal: 620ms\tremaining: 2.28s\n",
      "32:\tlearn: 0.3175817\ttotal: 635ms\tremaining: 2.25s\n",
      "33:\tlearn: 0.3174954\ttotal: 648ms\tremaining: 2.21s\n",
      "34:\tlearn: 0.3173421\ttotal: 662ms\tremaining: 2.17s\n",
      "35:\tlearn: 0.3171589\ttotal: 677ms\tremaining: 2.14s\n",
      "36:\tlearn: 0.3170102\ttotal: 689ms\tremaining: 2.1s\n",
      "37:\tlearn: 0.3169098\ttotal: 704ms\tremaining: 2.07s\n",
      "38:\tlearn: 0.3167843\ttotal: 719ms\tremaining: 2.05s\n",
      "39:\tlearn: 0.3166853\ttotal: 734ms\tremaining: 2.02s\n",
      "40:\tlearn: 0.3165964\ttotal: 747ms\tremaining: 1.99s\n",
      "41:\tlearn: 0.3164479\ttotal: 762ms\tremaining: 1.96s\n",
      "42:\tlearn: 0.3162921\ttotal: 778ms\tremaining: 1.94s\n",
      "43:\tlearn: 0.3161558\ttotal: 794ms\tremaining: 1.91s\n",
      "44:\tlearn: 0.3160407\ttotal: 808ms\tremaining: 1.88s\n",
      "45:\tlearn: 0.3159211\ttotal: 823ms\tremaining: 1.86s\n",
      "46:\tlearn: 0.3158281\ttotal: 838ms\tremaining: 1.83s\n",
      "47:\tlearn: 0.3157316\ttotal: 851ms\tremaining: 1.81s\n",
      "48:\tlearn: 0.3156104\ttotal: 865ms\tremaining: 1.78s\n",
      "49:\tlearn: 0.3154948\ttotal: 880ms\tremaining: 1.76s\n",
      "50:\tlearn: 0.3153539\ttotal: 896ms\tremaining: 1.74s\n",
      "51:\tlearn: 0.3152652\ttotal: 910ms\tremaining: 1.71s\n",
      "52:\tlearn: 0.3151684\ttotal: 922ms\tremaining: 1.69s\n",
      "53:\tlearn: 0.3151142\ttotal: 938ms\tremaining: 1.67s\n",
      "54:\tlearn: 0.3150347\ttotal: 951ms\tremaining: 1.64s\n",
      "55:\tlearn: 0.3149846\ttotal: 966ms\tremaining: 1.62s\n",
      "56:\tlearn: 0.3148563\ttotal: 980ms\tremaining: 1.6s\n",
      "57:\tlearn: 0.3147804\ttotal: 992ms\tremaining: 1.57s\n",
      "58:\tlearn: 0.3146619\ttotal: 1s\tremaining: 1.55s\n",
      "59:\tlearn: 0.3145936\ttotal: 1.02s\tremaining: 1.53s\n",
      "60:\tlearn: 0.3144968\ttotal: 1.03s\tremaining: 1.51s\n",
      "61:\tlearn: 0.3143415\ttotal: 1.05s\tremaining: 1.49s\n",
      "62:\tlearn: 0.3143172\ttotal: 1.06s\tremaining: 1.46s\n",
      "63:\tlearn: 0.3142844\ttotal: 1.07s\tremaining: 1.44s\n",
      "64:\tlearn: 0.3141842\ttotal: 1.09s\tremaining: 1.43s\n",
      "65:\tlearn: 0.3140919\ttotal: 1.11s\tremaining: 1.41s\n",
      "66:\tlearn: 0.3139860\ttotal: 1.13s\tremaining: 1.4s\n",
      "67:\tlearn: 0.3139043\ttotal: 1.14s\tremaining: 1.38s\n",
      "68:\tlearn: 0.3138116\ttotal: 1.16s\tremaining: 1.36s\n",
      "69:\tlearn: 0.3136994\ttotal: 1.17s\tremaining: 1.34s\n",
      "70:\tlearn: 0.3136244\ttotal: 1.19s\tremaining: 1.32s\n",
      "71:\tlearn: 0.3135271\ttotal: 1.21s\tremaining: 1.3s\n",
      "72:\tlearn: 0.3134455\ttotal: 1.22s\tremaining: 1.29s\n",
      "73:\tlearn: 0.3133294\ttotal: 1.24s\tremaining: 1.27s\n",
      "74:\tlearn: 0.3132606\ttotal: 1.25s\tremaining: 1.25s\n",
      "75:\tlearn: 0.3131915\ttotal: 1.27s\tremaining: 1.24s\n",
      "76:\tlearn: 0.3131215\ttotal: 1.28s\tremaining: 1.22s\n",
      "77:\tlearn: 0.3130126\ttotal: 1.3s\tremaining: 1.2s\n",
      "78:\tlearn: 0.3129248\ttotal: 1.31s\tremaining: 1.18s\n",
      "79:\tlearn: 0.3128711\ttotal: 1.33s\tremaining: 1.16s\n",
      "80:\tlearn: 0.3127639\ttotal: 1.34s\tremaining: 1.14s\n",
      "81:\tlearn: 0.3127020\ttotal: 1.36s\tremaining: 1.13s\n",
      "82:\tlearn: 0.3125961\ttotal: 1.37s\tremaining: 1.11s\n",
      "83:\tlearn: 0.3124892\ttotal: 1.39s\tremaining: 1.09s\n",
      "84:\tlearn: 0.3123921\ttotal: 1.41s\tremaining: 1.07s\n",
      "85:\tlearn: 0.3123154\ttotal: 1.42s\tremaining: 1.06s\n",
      "86:\tlearn: 0.3122338\ttotal: 1.44s\tremaining: 1.04s\n",
      "87:\tlearn: 0.3121386\ttotal: 1.45s\tremaining: 1.02s\n",
      "88:\tlearn: 0.3120244\ttotal: 1.46s\tremaining: 1s\n",
      "89:\tlearn: 0.3119477\ttotal: 1.48s\tremaining: 987ms\n",
      "90:\tlearn: 0.3119001\ttotal: 1.5s\tremaining: 970ms\n",
      "91:\tlearn: 0.3118405\ttotal: 1.51s\tremaining: 951ms\n",
      "92:\tlearn: 0.3117908\ttotal: 1.52s\tremaining: 933ms\n",
      "93:\tlearn: 0.3116526\ttotal: 1.53s\tremaining: 915ms\n",
      "94:\tlearn: 0.3115449\ttotal: 1.55s\tremaining: 897ms\n",
      "95:\tlearn: 0.3115162\ttotal: 1.56s\tremaining: 879ms\n",
      "96:\tlearn: 0.3114787\ttotal: 1.58s\tremaining: 862ms\n",
      "97:\tlearn: 0.3114349\ttotal: 1.59s\tremaining: 844ms\n",
      "98:\tlearn: 0.3113834\ttotal: 1.61s\tremaining: 828ms\n",
      "99:\tlearn: 0.3113303\ttotal: 1.62s\tremaining: 810ms\n",
      "100:\tlearn: 0.3112554\ttotal: 1.63s\tremaining: 793ms\n",
      "101:\tlearn: 0.3111605\ttotal: 1.65s\tremaining: 775ms\n",
      "102:\tlearn: 0.3110507\ttotal: 1.66s\tremaining: 758ms\n",
      "103:\tlearn: 0.3109832\ttotal: 1.68s\tremaining: 741ms\n",
      "104:\tlearn: 0.3109205\ttotal: 1.69s\tremaining: 725ms\n",
      "105:\tlearn: 0.3108378\ttotal: 1.71s\tremaining: 708ms\n",
      "106:\tlearn: 0.3107870\ttotal: 1.72s\tremaining: 690ms\n",
      "107:\tlearn: 0.3107322\ttotal: 1.73s\tremaining: 675ms\n",
      "108:\tlearn: 0.3106580\ttotal: 1.75s\tremaining: 658ms\n",
      "109:\tlearn: 0.3105876\ttotal: 1.76s\tremaining: 641ms\n",
      "110:\tlearn: 0.3105210\ttotal: 1.78s\tremaining: 625ms\n",
      "111:\tlearn: 0.3104391\ttotal: 1.79s\tremaining: 608ms\n",
      "112:\tlearn: 0.3103761\ttotal: 1.8s\tremaining: 591ms\n",
      "113:\tlearn: 0.3102999\ttotal: 1.82s\tremaining: 574ms\n",
      "114:\tlearn: 0.3102508\ttotal: 1.83s\tremaining: 557ms\n",
      "115:\tlearn: 0.3101995\ttotal: 1.85s\tremaining: 541ms\n",
      "116:\tlearn: 0.3101206\ttotal: 1.86s\tremaining: 525ms\n",
      "117:\tlearn: 0.3100735\ttotal: 1.88s\tremaining: 509ms\n",
      "118:\tlearn: 0.3099716\ttotal: 1.89s\tremaining: 493ms\n",
      "119:\tlearn: 0.3098868\ttotal: 1.91s\tremaining: 477ms\n",
      "120:\tlearn: 0.3097721\ttotal: 1.92s\tremaining: 460ms\n",
      "121:\tlearn: 0.3097079\ttotal: 1.94s\tremaining: 444ms\n",
      "122:\tlearn: 0.3096527\ttotal: 1.95s\tremaining: 428ms\n",
      "123:\tlearn: 0.3095646\ttotal: 1.97s\tremaining: 412ms\n",
      "124:\tlearn: 0.3095059\ttotal: 1.98s\tremaining: 397ms\n",
      "125:\tlearn: 0.3094898\ttotal: 2s\tremaining: 381ms\n",
      "126:\tlearn: 0.3093722\ttotal: 2.02s\tremaining: 365ms\n",
      "127:\tlearn: 0.3093416\ttotal: 2.03s\tremaining: 349ms\n",
      "128:\tlearn: 0.3092372\ttotal: 2.06s\tremaining: 335ms\n",
      "129:\tlearn: 0.3091516\ttotal: 2.07s\tremaining: 319ms\n",
      "130:\tlearn: 0.3091032\ttotal: 2.09s\tremaining: 303ms\n",
      "131:\tlearn: 0.3090468\ttotal: 2.1s\tremaining: 287ms\n",
      "132:\tlearn: 0.3089749\ttotal: 2.12s\tremaining: 271ms\n",
      "133:\tlearn: 0.3089101\ttotal: 2.13s\tremaining: 255ms\n",
      "134:\tlearn: 0.3088607\ttotal: 2.15s\tremaining: 239ms\n",
      "135:\tlearn: 0.3088060\ttotal: 2.17s\tremaining: 223ms\n",
      "136:\tlearn: 0.3087565\ttotal: 2.18s\tremaining: 207ms\n",
      "137:\tlearn: 0.3086886\ttotal: 2.2s\tremaining: 191ms\n",
      "138:\tlearn: 0.3086236\ttotal: 2.21s\tremaining: 175ms\n",
      "139:\tlearn: 0.3085583\ttotal: 2.22s\tremaining: 159ms\n",
      "140:\tlearn: 0.3085388\ttotal: 2.24s\tremaining: 143ms\n",
      "141:\tlearn: 0.3084749\ttotal: 2.26s\tremaining: 127ms\n",
      "142:\tlearn: 0.3083960\ttotal: 2.27s\tremaining: 111ms\n",
      "143:\tlearn: 0.3083065\ttotal: 2.28s\tremaining: 95.2ms\n",
      "144:\tlearn: 0.3082411\ttotal: 2.3s\tremaining: 79.3ms\n",
      "145:\tlearn: 0.3081771\ttotal: 2.31s\tremaining: 63.4ms\n",
      "146:\tlearn: 0.3081165\ttotal: 2.33s\tremaining: 47.5ms\n",
      "147:\tlearn: 0.3080998\ttotal: 2.34s\tremaining: 31.7ms\n",
      "148:\tlearn: 0.3080546\ttotal: 2.36s\tremaining: 15.8ms\n",
      "149:\tlearn: 0.3079545\ttotal: 2.37s\tremaining: 0us\n",
      "0.8158488133143162\n"
     ]
    }
   ],
   "source": [
    "from catboost import CatBoostClassifier\n",
    "model = CatBoostClassifier(max_depth = 5, random_state = 42, n_estimators = 150)\n",
    "model.fit(X_train, y_train)\n",
    "pred = model.predict(X_test)\n",
    "print(roc_auc_score(pred, y_test))"
   ]
  },
  {
   "cell_type": "code",
   "execution_count": 48,
   "id": "382077f6",
   "metadata": {
    "scrolled": true
   },
   "outputs": [
    {
     "name": "stdout",
     "output_type": "stream",
     "text": [
      "Learning rate set to 0.5\n",
      "0:\tlearn: 0.4789281\ttotal: 22.4ms\tremaining: 3.33s\n",
      "1:\tlearn: 0.4026392\ttotal: 39.4ms\tremaining: 2.91s\n",
      "2:\tlearn: 0.3634790\ttotal: 56.3ms\tremaining: 2.76s\n",
      "3:\tlearn: 0.3447834\ttotal: 73.1ms\tremaining: 2.67s\n",
      "4:\tlearn: 0.3346820\ttotal: 91.2ms\tremaining: 2.65s\n",
      "5:\tlearn: 0.3295204\ttotal: 110ms\tremaining: 2.64s\n",
      "6:\tlearn: 0.3271299\ttotal: 130ms\tremaining: 2.66s\n",
      "7:\tlearn: 0.3257788\ttotal: 148ms\tremaining: 2.63s\n",
      "8:\tlearn: 0.3242319\ttotal: 168ms\tremaining: 2.63s\n",
      "9:\tlearn: 0.3236056\ttotal: 189ms\tremaining: 2.65s\n",
      "10:\tlearn: 0.3227574\ttotal: 212ms\tremaining: 2.68s\n",
      "11:\tlearn: 0.3223508\ttotal: 230ms\tremaining: 2.65s\n",
      "12:\tlearn: 0.3220715\ttotal: 247ms\tremaining: 2.6s\n",
      "13:\tlearn: 0.3217142\ttotal: 264ms\tremaining: 2.56s\n",
      "14:\tlearn: 0.3210699\ttotal: 281ms\tremaining: 2.53s\n",
      "15:\tlearn: 0.3209243\ttotal: 297ms\tremaining: 2.49s\n",
      "16:\tlearn: 0.3204451\ttotal: 314ms\tremaining: 2.46s\n",
      "17:\tlearn: 0.3202888\ttotal: 331ms\tremaining: 2.43s\n",
      "18:\tlearn: 0.3201322\ttotal: 348ms\tremaining: 2.4s\n",
      "19:\tlearn: 0.3199056\ttotal: 368ms\tremaining: 2.39s\n",
      "20:\tlearn: 0.3196898\ttotal: 386ms\tremaining: 2.37s\n",
      "21:\tlearn: 0.3195607\ttotal: 404ms\tremaining: 2.35s\n",
      "22:\tlearn: 0.3192213\ttotal: 422ms\tremaining: 2.33s\n",
      "23:\tlearn: 0.3190700\ttotal: 439ms\tremaining: 2.31s\n",
      "24:\tlearn: 0.3188644\ttotal: 456ms\tremaining: 2.28s\n",
      "25:\tlearn: 0.3187924\ttotal: 473ms\tremaining: 2.26s\n",
      "26:\tlearn: 0.3186260\ttotal: 490ms\tremaining: 2.23s\n",
      "27:\tlearn: 0.3184370\ttotal: 509ms\tremaining: 2.22s\n",
      "28:\tlearn: 0.3183236\ttotal: 526ms\tremaining: 2.19s\n",
      "29:\tlearn: 0.3181850\ttotal: 544ms\tremaining: 2.17s\n",
      "30:\tlearn: 0.3180361\ttotal: 561ms\tremaining: 2.15s\n",
      "31:\tlearn: 0.3179437\ttotal: 577ms\tremaining: 2.13s\n",
      "32:\tlearn: 0.3178535\ttotal: 594ms\tremaining: 2.1s\n",
      "33:\tlearn: 0.3177234\ttotal: 611ms\tremaining: 2.09s\n",
      "34:\tlearn: 0.3175818\ttotal: 628ms\tremaining: 2.06s\n",
      "35:\tlearn: 0.3174380\ttotal: 648ms\tremaining: 2.05s\n",
      "36:\tlearn: 0.3173176\ttotal: 668ms\tremaining: 2.04s\n",
      "37:\tlearn: 0.3171922\ttotal: 686ms\tremaining: 2.02s\n",
      "38:\tlearn: 0.3170248\ttotal: 704ms\tremaining: 2s\n",
      "39:\tlearn: 0.3168972\ttotal: 721ms\tremaining: 1.98s\n",
      "40:\tlearn: 0.3167525\ttotal: 740ms\tremaining: 1.97s\n",
      "41:\tlearn: 0.3166478\ttotal: 759ms\tremaining: 1.95s\n",
      "42:\tlearn: 0.3165747\ttotal: 775ms\tremaining: 1.93s\n",
      "43:\tlearn: 0.3164460\ttotal: 791ms\tremaining: 1.91s\n",
      "44:\tlearn: 0.3163655\ttotal: 813ms\tremaining: 1.9s\n",
      "45:\tlearn: 0.3162596\ttotal: 830ms\tremaining: 1.88s\n",
      "46:\tlearn: 0.3161783\ttotal: 849ms\tremaining: 1.86s\n",
      "47:\tlearn: 0.3160743\ttotal: 870ms\tremaining: 1.85s\n",
      "48:\tlearn: 0.3159846\ttotal: 887ms\tremaining: 1.83s\n",
      "49:\tlearn: 0.3158658\ttotal: 906ms\tremaining: 1.81s\n",
      "50:\tlearn: 0.3157561\ttotal: 927ms\tremaining: 1.8s\n",
      "51:\tlearn: 0.3156619\ttotal: 946ms\tremaining: 1.78s\n",
      "52:\tlearn: 0.3156192\ttotal: 963ms\tremaining: 1.76s\n",
      "53:\tlearn: 0.3155261\ttotal: 980ms\tremaining: 1.74s\n",
      "54:\tlearn: 0.3154582\ttotal: 997ms\tremaining: 1.72s\n",
      "55:\tlearn: 0.3153045\ttotal: 1.01s\tremaining: 1.7s\n",
      "56:\tlearn: 0.3152147\ttotal: 1.03s\tremaining: 1.68s\n",
      "57:\tlearn: 0.3150846\ttotal: 1.05s\tremaining: 1.67s\n",
      "58:\tlearn: 0.3149621\ttotal: 1.07s\tremaining: 1.65s\n",
      "59:\tlearn: 0.3148509\ttotal: 1.09s\tremaining: 1.63s\n",
      "60:\tlearn: 0.3147699\ttotal: 1.1s\tremaining: 1.61s\n",
      "61:\tlearn: 0.3147076\ttotal: 1.12s\tremaining: 1.59s\n",
      "62:\tlearn: 0.3146500\ttotal: 1.14s\tremaining: 1.57s\n",
      "63:\tlearn: 0.3145389\ttotal: 1.16s\tremaining: 1.55s\n",
      "64:\tlearn: 0.3144589\ttotal: 1.17s\tremaining: 1.53s\n",
      "65:\tlearn: 0.3143774\ttotal: 1.19s\tremaining: 1.51s\n",
      "66:\tlearn: 0.3143054\ttotal: 1.21s\tremaining: 1.5s\n",
      "67:\tlearn: 0.3142241\ttotal: 1.23s\tremaining: 1.48s\n",
      "68:\tlearn: 0.3141778\ttotal: 1.24s\tremaining: 1.46s\n",
      "69:\tlearn: 0.3140948\ttotal: 1.26s\tremaining: 1.44s\n",
      "70:\tlearn: 0.3139998\ttotal: 1.28s\tremaining: 1.42s\n",
      "71:\tlearn: 0.3139601\ttotal: 1.29s\tremaining: 1.4s\n",
      "72:\tlearn: 0.3139008\ttotal: 1.31s\tremaining: 1.39s\n",
      "73:\tlearn: 0.3138073\ttotal: 1.33s\tremaining: 1.37s\n",
      "74:\tlearn: 0.3137267\ttotal: 1.35s\tremaining: 1.35s\n",
      "75:\tlearn: 0.3136444\ttotal: 1.37s\tremaining: 1.33s\n",
      "76:\tlearn: 0.3135732\ttotal: 1.39s\tremaining: 1.31s\n",
      "77:\tlearn: 0.3135428\ttotal: 1.41s\tremaining: 1.3s\n",
      "78:\tlearn: 0.3134459\ttotal: 1.43s\tremaining: 1.28s\n",
      "79:\tlearn: 0.3133794\ttotal: 1.45s\tremaining: 1.27s\n",
      "80:\tlearn: 0.3132995\ttotal: 1.47s\tremaining: 1.25s\n",
      "81:\tlearn: 0.3131986\ttotal: 1.48s\tremaining: 1.23s\n",
      "82:\tlearn: 0.3131547\ttotal: 1.5s\tremaining: 1.21s\n",
      "83:\tlearn: 0.3130545\ttotal: 1.52s\tremaining: 1.19s\n",
      "84:\tlearn: 0.3129819\ttotal: 1.53s\tremaining: 1.17s\n",
      "85:\tlearn: 0.3129466\ttotal: 1.55s\tremaining: 1.16s\n",
      "86:\tlearn: 0.3129269\ttotal: 1.57s\tremaining: 1.14s\n",
      "87:\tlearn: 0.3129043\ttotal: 1.59s\tremaining: 1.12s\n",
      "88:\tlearn: 0.3128465\ttotal: 1.61s\tremaining: 1.1s\n",
      "89:\tlearn: 0.3127840\ttotal: 1.63s\tremaining: 1.08s\n",
      "90:\tlearn: 0.3127000\ttotal: 1.65s\tremaining: 1.07s\n",
      "91:\tlearn: 0.3126553\ttotal: 1.67s\tremaining: 1.05s\n",
      "92:\tlearn: 0.3125694\ttotal: 1.68s\tremaining: 1.03s\n",
      "93:\tlearn: 0.3125234\ttotal: 1.71s\tremaining: 1.02s\n",
      "94:\tlearn: 0.3124746\ttotal: 1.73s\tremaining: 999ms\n",
      "95:\tlearn: 0.3124232\ttotal: 1.74s\tremaining: 981ms\n",
      "96:\tlearn: 0.3124055\ttotal: 1.76s\tremaining: 964ms\n",
      "97:\tlearn: 0.3123713\ttotal: 1.78s\tremaining: 945ms\n",
      "98:\tlearn: 0.3123045\ttotal: 1.8s\tremaining: 927ms\n",
      "99:\tlearn: 0.3122548\ttotal: 1.82s\tremaining: 909ms\n",
      "100:\tlearn: 0.3122105\ttotal: 1.84s\tremaining: 891ms\n",
      "101:\tlearn: 0.3121172\ttotal: 1.86s\tremaining: 874ms\n",
      "102:\tlearn: 0.3120662\ttotal: 1.88s\tremaining: 856ms\n",
      "103:\tlearn: 0.3120114\ttotal: 1.89s\tremaining: 838ms\n",
      "104:\tlearn: 0.3119621\ttotal: 1.92s\tremaining: 821ms\n",
      "105:\tlearn: 0.3118512\ttotal: 1.93s\tremaining: 802ms\n",
      "106:\tlearn: 0.3117688\ttotal: 1.95s\tremaining: 784ms\n",
      "107:\tlearn: 0.3116977\ttotal: 1.97s\tremaining: 767ms\n",
      "108:\tlearn: 0.3116320\ttotal: 1.99s\tremaining: 750ms\n",
      "109:\tlearn: 0.3115430\ttotal: 2.01s\tremaining: 732ms\n",
      "110:\tlearn: 0.3114849\ttotal: 2.03s\tremaining: 714ms\n",
      "111:\tlearn: 0.3114604\ttotal: 2.05s\tremaining: 695ms\n",
      "112:\tlearn: 0.3114261\ttotal: 2.07s\tremaining: 677ms\n",
      "113:\tlearn: 0.3113896\ttotal: 2.09s\tremaining: 659ms\n",
      "114:\tlearn: 0.3113335\ttotal: 2.11s\tremaining: 641ms\n",
      "115:\tlearn: 0.3112643\ttotal: 2.12s\tremaining: 623ms\n",
      "116:\tlearn: 0.3112276\ttotal: 2.14s\tremaining: 604ms\n",
      "117:\tlearn: 0.3111604\ttotal: 2.16s\tremaining: 586ms\n",
      "118:\tlearn: 0.3111080\ttotal: 2.18s\tremaining: 568ms\n",
      "119:\tlearn: 0.3110259\ttotal: 2.2s\tremaining: 550ms\n",
      "120:\tlearn: 0.3109793\ttotal: 2.22s\tremaining: 532ms\n",
      "121:\tlearn: 0.3109309\ttotal: 2.24s\tremaining: 513ms\n",
      "122:\tlearn: 0.3108460\ttotal: 2.25s\tremaining: 495ms\n",
      "123:\tlearn: 0.3108123\ttotal: 2.27s\tremaining: 476ms\n",
      "124:\tlearn: 0.3107793\ttotal: 2.29s\tremaining: 458ms\n",
      "125:\tlearn: 0.3107539\ttotal: 2.31s\tremaining: 440ms\n",
      "126:\tlearn: 0.3107146\ttotal: 2.33s\tremaining: 421ms\n",
      "127:\tlearn: 0.3106266\ttotal: 2.35s\tremaining: 403ms\n",
      "128:\tlearn: 0.3105596\ttotal: 2.36s\tremaining: 385ms\n",
      "129:\tlearn: 0.3105086\ttotal: 2.38s\tremaining: 367ms\n",
      "130:\tlearn: 0.3104456\ttotal: 2.4s\tremaining: 348ms\n",
      "131:\tlearn: 0.3103712\ttotal: 2.42s\tremaining: 330ms\n",
      "132:\tlearn: 0.3103547\ttotal: 2.43s\tremaining: 311ms\n",
      "133:\tlearn: 0.3103074\ttotal: 2.45s\tremaining: 293ms\n",
      "134:\tlearn: 0.3102706\ttotal: 2.47s\tremaining: 274ms\n",
      "135:\tlearn: 0.3101765\ttotal: 2.48s\tremaining: 256ms\n",
      "136:\tlearn: 0.3101423\ttotal: 2.5s\tremaining: 237ms\n",
      "137:\tlearn: 0.3100476\ttotal: 2.52s\tremaining: 219ms\n",
      "138:\tlearn: 0.3100017\ttotal: 2.54s\tremaining: 201ms\n",
      "139:\tlearn: 0.3099141\ttotal: 2.56s\tremaining: 183ms\n",
      "140:\tlearn: 0.3098827\ttotal: 2.57s\tremaining: 164ms\n",
      "141:\tlearn: 0.3098642\ttotal: 2.59s\tremaining: 146ms\n",
      "142:\tlearn: 0.3098287\ttotal: 2.61s\tremaining: 128ms\n",
      "143:\tlearn: 0.3097622\ttotal: 2.62s\tremaining: 109ms\n",
      "144:\tlearn: 0.3097126\ttotal: 2.64s\tremaining: 91.2ms\n",
      "145:\tlearn: 0.3096315\ttotal: 2.66s\tremaining: 72.9ms\n",
      "146:\tlearn: 0.3095731\ttotal: 2.68s\tremaining: 54.7ms\n",
      "147:\tlearn: 0.3095257\ttotal: 2.7s\tremaining: 36.5ms\n",
      "148:\tlearn: 0.3094934\ttotal: 2.72s\tremaining: 18.2ms\n",
      "149:\tlearn: 0.3094495\ttotal: 2.73s\tremaining: 0us\n"
     ]
    }
   ],
   "source": [
    "# model = CatBoostClassifier(max_depth = 5, random_state = 42, n_estimators = 150)\n",
    "# model.fit(X, y)\n",
    "\n",
    "# final_pred = model.predict_proba(test_df)\n",
    "# get_final_df(final_pred)"
   ]
  },
  {
   "cell_type": "markdown",
   "id": "6f86fd91",
   "metadata": {},
   "source": [
    "catboost, lgbm, gbm 3개가 최적이다. 이 3개의 평균을 내보자"
   ]
  },
  {
   "cell_type": "markdown",
   "id": "2df127a3",
   "metadata": {},
   "source": [
    "### model ensemble"
   ]
  },
  {
   "cell_type": "code",
   "execution_count": 52,
   "id": "373a3cb3",
   "metadata": {},
   "outputs": [
    {
     "name": "stdout",
     "output_type": "stream",
     "text": [
      "Learning rate set to 0.5\n",
      "0:\tlearn: 0.4789281\ttotal: 27.6ms\tremaining: 4.11s\n",
      "1:\tlearn: 0.4026392\ttotal: 43.2ms\tremaining: 3.2s\n",
      "2:\tlearn: 0.3634790\ttotal: 58.8ms\tremaining: 2.88s\n",
      "3:\tlearn: 0.3447834\ttotal: 79ms\tremaining: 2.88s\n",
      "4:\tlearn: 0.3346820\ttotal: 98.3ms\tremaining: 2.85s\n",
      "5:\tlearn: 0.3295204\ttotal: 114ms\tremaining: 2.74s\n",
      "6:\tlearn: 0.3271299\ttotal: 150ms\tremaining: 3.06s\n",
      "7:\tlearn: 0.3257788\ttotal: 183ms\tremaining: 3.25s\n",
      "8:\tlearn: 0.3242319\ttotal: 208ms\tremaining: 3.26s\n",
      "9:\tlearn: 0.3236056\ttotal: 228ms\tremaining: 3.19s\n",
      "10:\tlearn: 0.3227574\ttotal: 246ms\tremaining: 3.11s\n",
      "11:\tlearn: 0.3223508\ttotal: 262ms\tremaining: 3.02s\n",
      "12:\tlearn: 0.3220715\ttotal: 275ms\tremaining: 2.9s\n",
      "13:\tlearn: 0.3217142\ttotal: 288ms\tremaining: 2.79s\n",
      "14:\tlearn: 0.3210699\ttotal: 301ms\tremaining: 2.71s\n",
      "15:\tlearn: 0.3209243\ttotal: 316ms\tremaining: 2.65s\n",
      "16:\tlearn: 0.3204451\ttotal: 330ms\tremaining: 2.58s\n",
      "17:\tlearn: 0.3202888\ttotal: 344ms\tremaining: 2.52s\n",
      "18:\tlearn: 0.3201322\ttotal: 357ms\tremaining: 2.46s\n",
      "19:\tlearn: 0.3199056\ttotal: 370ms\tremaining: 2.41s\n",
      "20:\tlearn: 0.3196898\ttotal: 390ms\tremaining: 2.4s\n",
      "21:\tlearn: 0.3195607\ttotal: 408ms\tremaining: 2.37s\n",
      "22:\tlearn: 0.3192213\ttotal: 423ms\tremaining: 2.33s\n",
      "23:\tlearn: 0.3190700\ttotal: 436ms\tremaining: 2.29s\n",
      "24:\tlearn: 0.3188644\ttotal: 450ms\tremaining: 2.25s\n",
      "25:\tlearn: 0.3187924\ttotal: 464ms\tremaining: 2.21s\n",
      "26:\tlearn: 0.3186260\ttotal: 478ms\tremaining: 2.18s\n",
      "27:\tlearn: 0.3184370\ttotal: 492ms\tremaining: 2.15s\n",
      "28:\tlearn: 0.3183236\ttotal: 507ms\tremaining: 2.11s\n",
      "29:\tlearn: 0.3181850\ttotal: 520ms\tremaining: 2.08s\n",
      "30:\tlearn: 0.3180361\ttotal: 534ms\tremaining: 2.05s\n",
      "31:\tlearn: 0.3179437\ttotal: 548ms\tremaining: 2.02s\n",
      "32:\tlearn: 0.3178535\ttotal: 564ms\tremaining: 2s\n",
      "33:\tlearn: 0.3177234\ttotal: 581ms\tremaining: 1.98s\n",
      "34:\tlearn: 0.3175818\ttotal: 599ms\tremaining: 1.97s\n",
      "35:\tlearn: 0.3174380\ttotal: 616ms\tremaining: 1.95s\n",
      "36:\tlearn: 0.3173176\ttotal: 634ms\tremaining: 1.94s\n",
      "37:\tlearn: 0.3171922\ttotal: 652ms\tremaining: 1.92s\n",
      "38:\tlearn: 0.3170248\ttotal: 668ms\tremaining: 1.9s\n",
      "39:\tlearn: 0.3168972\ttotal: 685ms\tremaining: 1.88s\n",
      "40:\tlearn: 0.3167525\ttotal: 698ms\tremaining: 1.86s\n",
      "41:\tlearn: 0.3166478\ttotal: 712ms\tremaining: 1.83s\n",
      "42:\tlearn: 0.3165747\ttotal: 727ms\tremaining: 1.81s\n",
      "43:\tlearn: 0.3164460\ttotal: 741ms\tremaining: 1.78s\n",
      "44:\tlearn: 0.3163655\ttotal: 754ms\tremaining: 1.76s\n",
      "45:\tlearn: 0.3162596\ttotal: 767ms\tremaining: 1.73s\n",
      "46:\tlearn: 0.3161783\ttotal: 781ms\tremaining: 1.71s\n",
      "47:\tlearn: 0.3160743\ttotal: 801ms\tremaining: 1.7s\n",
      "48:\tlearn: 0.3159846\ttotal: 818ms\tremaining: 1.69s\n",
      "49:\tlearn: 0.3158658\ttotal: 837ms\tremaining: 1.67s\n",
      "50:\tlearn: 0.3157561\ttotal: 853ms\tremaining: 1.66s\n",
      "51:\tlearn: 0.3156619\ttotal: 868ms\tremaining: 1.64s\n",
      "52:\tlearn: 0.3156192\ttotal: 881ms\tremaining: 1.61s\n",
      "53:\tlearn: 0.3155261\ttotal: 894ms\tremaining: 1.59s\n",
      "54:\tlearn: 0.3154582\ttotal: 912ms\tremaining: 1.57s\n",
      "55:\tlearn: 0.3153045\ttotal: 930ms\tremaining: 1.56s\n",
      "56:\tlearn: 0.3152147\ttotal: 945ms\tremaining: 1.54s\n",
      "57:\tlearn: 0.3150846\ttotal: 960ms\tremaining: 1.52s\n",
      "58:\tlearn: 0.3149621\ttotal: 976ms\tremaining: 1.5s\n",
      "59:\tlearn: 0.3148509\ttotal: 991ms\tremaining: 1.49s\n",
      "60:\tlearn: 0.3147699\ttotal: 1.01s\tremaining: 1.47s\n",
      "61:\tlearn: 0.3147076\ttotal: 1.02s\tremaining: 1.45s\n",
      "62:\tlearn: 0.3146500\ttotal: 1.04s\tremaining: 1.43s\n",
      "63:\tlearn: 0.3145389\ttotal: 1.05s\tremaining: 1.42s\n",
      "64:\tlearn: 0.3144589\ttotal: 1.07s\tremaining: 1.4s\n",
      "65:\tlearn: 0.3143774\ttotal: 1.08s\tremaining: 1.38s\n",
      "66:\tlearn: 0.3143054\ttotal: 1.09s\tremaining: 1.36s\n",
      "67:\tlearn: 0.3142241\ttotal: 1.11s\tremaining: 1.34s\n",
      "68:\tlearn: 0.3141778\ttotal: 1.12s\tremaining: 1.32s\n",
      "69:\tlearn: 0.3140948\ttotal: 1.14s\tremaining: 1.3s\n",
      "70:\tlearn: 0.3139998\ttotal: 1.15s\tremaining: 1.28s\n",
      "71:\tlearn: 0.3139601\ttotal: 1.16s\tremaining: 1.26s\n",
      "72:\tlearn: 0.3139008\ttotal: 1.18s\tremaining: 1.24s\n",
      "73:\tlearn: 0.3138073\ttotal: 1.2s\tremaining: 1.23s\n",
      "74:\tlearn: 0.3137267\ttotal: 1.21s\tremaining: 1.21s\n",
      "75:\tlearn: 0.3136444\ttotal: 1.23s\tremaining: 1.2s\n",
      "76:\tlearn: 0.3135732\ttotal: 1.24s\tremaining: 1.18s\n",
      "77:\tlearn: 0.3135428\ttotal: 1.26s\tremaining: 1.16s\n",
      "78:\tlearn: 0.3134459\ttotal: 1.27s\tremaining: 1.14s\n",
      "79:\tlearn: 0.3133794\ttotal: 1.29s\tremaining: 1.13s\n",
      "80:\tlearn: 0.3132995\ttotal: 1.3s\tremaining: 1.11s\n",
      "81:\tlearn: 0.3131986\ttotal: 1.31s\tremaining: 1.09s\n",
      "82:\tlearn: 0.3131547\ttotal: 1.33s\tremaining: 1.07s\n",
      "83:\tlearn: 0.3130545\ttotal: 1.34s\tremaining: 1.05s\n",
      "84:\tlearn: 0.3129819\ttotal: 1.36s\tremaining: 1.04s\n",
      "85:\tlearn: 0.3129466\ttotal: 1.38s\tremaining: 1.02s\n",
      "86:\tlearn: 0.3129269\ttotal: 1.39s\tremaining: 1.01s\n",
      "87:\tlearn: 0.3129043\ttotal: 1.4s\tremaining: 988ms\n",
      "88:\tlearn: 0.3128465\ttotal: 1.42s\tremaining: 975ms\n",
      "89:\tlearn: 0.3127840\ttotal: 1.44s\tremaining: 957ms\n",
      "90:\tlearn: 0.3127000\ttotal: 1.45s\tremaining: 940ms\n",
      "91:\tlearn: 0.3126553\ttotal: 1.46s\tremaining: 923ms\n",
      "92:\tlearn: 0.3125694\ttotal: 1.48s\tremaining: 905ms\n",
      "93:\tlearn: 0.3125234\ttotal: 1.49s\tremaining: 888ms\n",
      "94:\tlearn: 0.3124746\ttotal: 1.5s\tremaining: 872ms\n",
      "95:\tlearn: 0.3124232\ttotal: 1.52s\tremaining: 856ms\n",
      "96:\tlearn: 0.3124055\ttotal: 1.54s\tremaining: 840ms\n",
      "97:\tlearn: 0.3123713\ttotal: 1.55s\tremaining: 824ms\n",
      "98:\tlearn: 0.3123045\ttotal: 1.57s\tremaining: 808ms\n",
      "99:\tlearn: 0.3122548\ttotal: 1.58s\tremaining: 791ms\n",
      "100:\tlearn: 0.3122105\ttotal: 1.59s\tremaining: 774ms\n",
      "101:\tlearn: 0.3121172\ttotal: 1.61s\tremaining: 759ms\n",
      "102:\tlearn: 0.3120662\ttotal: 1.63s\tremaining: 744ms\n",
      "103:\tlearn: 0.3120114\ttotal: 1.65s\tremaining: 728ms\n",
      "104:\tlearn: 0.3119621\ttotal: 1.66s\tremaining: 713ms\n",
      "105:\tlearn: 0.3118512\ttotal: 1.68s\tremaining: 696ms\n",
      "106:\tlearn: 0.3117688\ttotal: 1.69s\tremaining: 681ms\n",
      "107:\tlearn: 0.3116977\ttotal: 1.71s\tremaining: 665ms\n",
      "108:\tlearn: 0.3116320\ttotal: 1.73s\tremaining: 649ms\n",
      "109:\tlearn: 0.3115430\ttotal: 1.74s\tremaining: 634ms\n",
      "110:\tlearn: 0.3114849\ttotal: 1.76s\tremaining: 618ms\n",
      "111:\tlearn: 0.3114604\ttotal: 1.77s\tremaining: 602ms\n",
      "112:\tlearn: 0.3114261\ttotal: 1.79s\tremaining: 585ms\n",
      "113:\tlearn: 0.3113896\ttotal: 1.8s\tremaining: 569ms\n",
      "114:\tlearn: 0.3113335\ttotal: 1.82s\tremaining: 554ms\n",
      "115:\tlearn: 0.3112643\ttotal: 1.84s\tremaining: 539ms\n",
      "116:\tlearn: 0.3112276\ttotal: 1.85s\tremaining: 523ms\n",
      "117:\tlearn: 0.3111604\ttotal: 1.87s\tremaining: 507ms\n",
      "118:\tlearn: 0.3111080\ttotal: 1.88s\tremaining: 491ms\n",
      "119:\tlearn: 0.3110259\ttotal: 1.9s\tremaining: 475ms\n",
      "120:\tlearn: 0.3109793\ttotal: 1.91s\tremaining: 458ms\n",
      "121:\tlearn: 0.3109309\ttotal: 1.92s\tremaining: 442ms\n",
      "122:\tlearn: 0.3108460\ttotal: 1.94s\tremaining: 426ms\n",
      "123:\tlearn: 0.3108123\ttotal: 1.95s\tremaining: 410ms\n",
      "124:\tlearn: 0.3107793\ttotal: 1.97s\tremaining: 393ms\n",
      "125:\tlearn: 0.3107539\ttotal: 1.98s\tremaining: 377ms\n",
      "126:\tlearn: 0.3107146\ttotal: 1.99s\tremaining: 361ms\n",
      "127:\tlearn: 0.3106266\ttotal: 2.01s\tremaining: 345ms\n",
      "128:\tlearn: 0.3105596\ttotal: 2.03s\tremaining: 330ms\n",
      "129:\tlearn: 0.3105086\ttotal: 2.04s\tremaining: 314ms\n",
      "130:\tlearn: 0.3104456\ttotal: 2.05s\tremaining: 298ms\n",
      "131:\tlearn: 0.3103712\ttotal: 2.07s\tremaining: 282ms\n",
      "132:\tlearn: 0.3103547\ttotal: 2.08s\tremaining: 266ms\n",
      "133:\tlearn: 0.3103074\ttotal: 2.09s\tremaining: 250ms\n",
      "134:\tlearn: 0.3102706\ttotal: 2.11s\tremaining: 234ms\n",
      "135:\tlearn: 0.3101765\ttotal: 2.12s\tremaining: 219ms\n",
      "136:\tlearn: 0.3101423\ttotal: 2.14s\tremaining: 203ms\n",
      "137:\tlearn: 0.3100476\ttotal: 2.16s\tremaining: 188ms\n",
      "138:\tlearn: 0.3100017\ttotal: 2.17s\tremaining: 172ms\n",
      "139:\tlearn: 0.3099141\ttotal: 2.19s\tremaining: 156ms\n",
      "140:\tlearn: 0.3098827\ttotal: 2.21s\tremaining: 141ms\n",
      "141:\tlearn: 0.3098642\ttotal: 2.22s\tremaining: 125ms\n",
      "142:\tlearn: 0.3098287\ttotal: 2.24s\tremaining: 110ms\n",
      "143:\tlearn: 0.3097622\ttotal: 2.26s\tremaining: 94.1ms\n",
      "144:\tlearn: 0.3097126\ttotal: 2.27s\tremaining: 78.4ms\n",
      "145:\tlearn: 0.3096315\ttotal: 2.29s\tremaining: 62.8ms\n",
      "146:\tlearn: 0.3095731\ttotal: 2.31s\tremaining: 47.1ms\n",
      "147:\tlearn: 0.3095257\ttotal: 2.32s\tremaining: 31.4ms\n",
      "148:\tlearn: 0.3094934\ttotal: 2.34s\tremaining: 15.7ms\n",
      "149:\tlearn: 0.3094495\ttotal: 2.36s\tremaining: 0us\n"
     ]
    }
   ],
   "source": [
    "#model_lgbmc = LGBMClassifier(max_depth = 6, random_state = 42)\n",
    "#model_lgbmc.fit(X, y)\n",
    "\n",
    "#final_pred_lgbm = model.predict_proba(test_df)\n",
    "\n",
    "#model_gbc = GradientBoostingClassifier(max_depth = 5, random_state = 42, n_estimators = 150)\n",
    "#model_gbc.fit(X, y)\n",
    "\n",
    "#final_pred_gbm = model.predict_proba(test_df)\n",
    "\n",
    "#model_cbc= CatBoostClassifier(max_depth = 5, random_state = 42, n_estimators = 150)\n",
    "#model_cbc.fit(X, y)\n",
    "\n",
    "#final_pred_cat = model.predict_proba(test_df)"
   ]
  },
  {
   "cell_type": "code",
   "execution_count": 50,
   "id": "8a259e3f",
   "metadata": {},
   "outputs": [],
   "source": [
    "#final_ensemble = (final_pred_lgbm + final_pred_gbm + final_pred_cat)/3\n",
    "# get_final_df(final_ensemble)"
   ]
  },
  {
   "cell_type": "markdown",
   "id": "86f1d953",
   "metadata": {},
   "source": [
    "직접 scikit-learn으로도 구현이 된다. 한번 해보자"
   ]
  },
  {
   "cell_type": "code",
   "execution_count": 57,
   "id": "7bf3c474",
   "metadata": {
    "scrolled": true
   },
   "outputs": [
    {
     "name": "stdout",
     "output_type": "stream",
     "text": [
      "Learning rate set to 0.5\n",
      "0:\tlearn: 0.4789281\ttotal: 35.4ms\tremaining: 5.28s\n",
      "1:\tlearn: 0.4026392\ttotal: 50.5ms\tremaining: 3.73s\n",
      "2:\tlearn: 0.3634790\ttotal: 67.4ms\tremaining: 3.3s\n",
      "3:\tlearn: 0.3447834\ttotal: 81.9ms\tremaining: 2.99s\n",
      "4:\tlearn: 0.3346820\ttotal: 96.4ms\tremaining: 2.79s\n",
      "5:\tlearn: 0.3295204\ttotal: 109ms\tremaining: 2.62s\n",
      "6:\tlearn: 0.3271299\ttotal: 123ms\tremaining: 2.51s\n",
      "7:\tlearn: 0.3257788\ttotal: 137ms\tremaining: 2.44s\n",
      "8:\tlearn: 0.3242319\ttotal: 152ms\tremaining: 2.38s\n",
      "9:\tlearn: 0.3236056\ttotal: 167ms\tremaining: 2.34s\n",
      "10:\tlearn: 0.3227574\ttotal: 186ms\tremaining: 2.35s\n",
      "11:\tlearn: 0.3223508\ttotal: 201ms\tremaining: 2.31s\n",
      "12:\tlearn: 0.3220715\ttotal: 214ms\tremaining: 2.26s\n",
      "13:\tlearn: 0.3217142\ttotal: 229ms\tremaining: 2.23s\n",
      "14:\tlearn: 0.3210699\ttotal: 244ms\tremaining: 2.2s\n",
      "15:\tlearn: 0.3209243\ttotal: 259ms\tremaining: 2.17s\n",
      "16:\tlearn: 0.3204451\ttotal: 274ms\tremaining: 2.14s\n",
      "17:\tlearn: 0.3202888\ttotal: 291ms\tremaining: 2.13s\n",
      "18:\tlearn: 0.3201322\ttotal: 304ms\tremaining: 2.1s\n",
      "19:\tlearn: 0.3199056\ttotal: 319ms\tremaining: 2.08s\n",
      "20:\tlearn: 0.3196898\ttotal: 334ms\tremaining: 2.05s\n",
      "21:\tlearn: 0.3195607\ttotal: 348ms\tremaining: 2.03s\n",
      "22:\tlearn: 0.3192213\ttotal: 368ms\tremaining: 2.03s\n",
      "23:\tlearn: 0.3190700\ttotal: 382ms\tremaining: 2s\n",
      "24:\tlearn: 0.3188644\ttotal: 395ms\tremaining: 1.98s\n",
      "25:\tlearn: 0.3187924\ttotal: 409ms\tremaining: 1.95s\n",
      "26:\tlearn: 0.3186260\ttotal: 423ms\tremaining: 1.93s\n",
      "27:\tlearn: 0.3184370\ttotal: 438ms\tremaining: 1.91s\n",
      "28:\tlearn: 0.3183236\ttotal: 452ms\tremaining: 1.89s\n",
      "29:\tlearn: 0.3181850\ttotal: 466ms\tremaining: 1.86s\n",
      "30:\tlearn: 0.3180361\ttotal: 481ms\tremaining: 1.84s\n",
      "31:\tlearn: 0.3179437\ttotal: 494ms\tremaining: 1.82s\n",
      "32:\tlearn: 0.3178535\ttotal: 508ms\tremaining: 1.8s\n",
      "33:\tlearn: 0.3177234\ttotal: 523ms\tremaining: 1.78s\n",
      "34:\tlearn: 0.3175818\ttotal: 536ms\tremaining: 1.76s\n",
      "35:\tlearn: 0.3174380\ttotal: 552ms\tremaining: 1.75s\n",
      "36:\tlearn: 0.3173176\ttotal: 568ms\tremaining: 1.73s\n",
      "37:\tlearn: 0.3171922\ttotal: 583ms\tremaining: 1.72s\n",
      "38:\tlearn: 0.3170248\ttotal: 600ms\tremaining: 1.71s\n",
      "39:\tlearn: 0.3168972\ttotal: 615ms\tremaining: 1.69s\n",
      "40:\tlearn: 0.3167525\ttotal: 631ms\tremaining: 1.68s\n",
      "41:\tlearn: 0.3166478\ttotal: 648ms\tremaining: 1.67s\n",
      "42:\tlearn: 0.3165747\ttotal: 665ms\tremaining: 1.65s\n",
      "43:\tlearn: 0.3164460\ttotal: 679ms\tremaining: 1.63s\n",
      "44:\tlearn: 0.3163655\ttotal: 693ms\tremaining: 1.62s\n",
      "45:\tlearn: 0.3162596\ttotal: 708ms\tremaining: 1.6s\n",
      "46:\tlearn: 0.3161783\ttotal: 724ms\tremaining: 1.59s\n",
      "47:\tlearn: 0.3160743\ttotal: 739ms\tremaining: 1.57s\n",
      "48:\tlearn: 0.3159846\ttotal: 754ms\tremaining: 1.55s\n",
      "49:\tlearn: 0.3158658\ttotal: 768ms\tremaining: 1.54s\n",
      "50:\tlearn: 0.3157561\ttotal: 783ms\tremaining: 1.52s\n",
      "51:\tlearn: 0.3156619\ttotal: 801ms\tremaining: 1.51s\n",
      "52:\tlearn: 0.3156192\ttotal: 815ms\tremaining: 1.49s\n",
      "53:\tlearn: 0.3155261\ttotal: 829ms\tremaining: 1.47s\n",
      "54:\tlearn: 0.3154582\ttotal: 843ms\tremaining: 1.46s\n",
      "55:\tlearn: 0.3153045\ttotal: 859ms\tremaining: 1.44s\n",
      "56:\tlearn: 0.3152147\ttotal: 873ms\tremaining: 1.43s\n",
      "57:\tlearn: 0.3150846\ttotal: 890ms\tremaining: 1.41s\n",
      "58:\tlearn: 0.3149621\ttotal: 908ms\tremaining: 1.4s\n",
      "59:\tlearn: 0.3148509\ttotal: 924ms\tremaining: 1.39s\n",
      "60:\tlearn: 0.3147699\ttotal: 939ms\tremaining: 1.37s\n",
      "61:\tlearn: 0.3147076\ttotal: 959ms\tremaining: 1.36s\n",
      "62:\tlearn: 0.3146500\ttotal: 975ms\tremaining: 1.35s\n",
      "63:\tlearn: 0.3145389\ttotal: 991ms\tremaining: 1.33s\n",
      "64:\tlearn: 0.3144589\ttotal: 1s\tremaining: 1.31s\n",
      "65:\tlearn: 0.3143774\ttotal: 1.02s\tremaining: 1.3s\n",
      "66:\tlearn: 0.3143054\ttotal: 1.04s\tremaining: 1.28s\n",
      "67:\tlearn: 0.3142241\ttotal: 1.05s\tremaining: 1.27s\n",
      "68:\tlearn: 0.3141778\ttotal: 1.07s\tremaining: 1.26s\n",
      "69:\tlearn: 0.3140948\ttotal: 1.09s\tremaining: 1.24s\n",
      "70:\tlearn: 0.3139998\ttotal: 1.1s\tremaining: 1.23s\n",
      "71:\tlearn: 0.3139601\ttotal: 1.11s\tremaining: 1.21s\n",
      "72:\tlearn: 0.3139008\ttotal: 1.13s\tremaining: 1.19s\n",
      "73:\tlearn: 0.3138073\ttotal: 1.15s\tremaining: 1.18s\n",
      "74:\tlearn: 0.3137267\ttotal: 1.16s\tremaining: 1.16s\n",
      "75:\tlearn: 0.3136444\ttotal: 1.18s\tremaining: 1.15s\n",
      "76:\tlearn: 0.3135732\ttotal: 1.19s\tremaining: 1.13s\n",
      "77:\tlearn: 0.3135428\ttotal: 1.21s\tremaining: 1.11s\n",
      "78:\tlearn: 0.3134459\ttotal: 1.22s\tremaining: 1.1s\n",
      "79:\tlearn: 0.3133794\ttotal: 1.23s\tremaining: 1.08s\n",
      "80:\tlearn: 0.3132995\ttotal: 1.25s\tremaining: 1.06s\n",
      "81:\tlearn: 0.3131986\ttotal: 1.26s\tremaining: 1.05s\n",
      "82:\tlearn: 0.3131547\ttotal: 1.28s\tremaining: 1.03s\n",
      "83:\tlearn: 0.3130545\ttotal: 1.29s\tremaining: 1.01s\n",
      "84:\tlearn: 0.3129819\ttotal: 1.31s\tremaining: 1000ms\n",
      "85:\tlearn: 0.3129466\ttotal: 1.32s\tremaining: 983ms\n",
      "86:\tlearn: 0.3129269\ttotal: 1.33s\tremaining: 966ms\n",
      "87:\tlearn: 0.3129043\ttotal: 1.35s\tremaining: 949ms\n",
      "88:\tlearn: 0.3128465\ttotal: 1.36s\tremaining: 933ms\n",
      "89:\tlearn: 0.3127840\ttotal: 1.38s\tremaining: 917ms\n",
      "90:\tlearn: 0.3127000\ttotal: 1.39s\tremaining: 902ms\n",
      "91:\tlearn: 0.3126553\ttotal: 1.4s\tremaining: 885ms\n",
      "92:\tlearn: 0.3125694\ttotal: 1.42s\tremaining: 870ms\n",
      "93:\tlearn: 0.3125234\ttotal: 1.43s\tremaining: 855ms\n",
      "94:\tlearn: 0.3124746\ttotal: 1.45s\tremaining: 839ms\n",
      "95:\tlearn: 0.3124232\ttotal: 1.46s\tremaining: 824ms\n",
      "96:\tlearn: 0.3124055\ttotal: 1.48s\tremaining: 807ms\n",
      "97:\tlearn: 0.3123713\ttotal: 1.49s\tremaining: 792ms\n",
      "98:\tlearn: 0.3123045\ttotal: 1.51s\tremaining: 778ms\n",
      "99:\tlearn: 0.3122548\ttotal: 1.52s\tremaining: 762ms\n",
      "100:\tlearn: 0.3122105\ttotal: 1.54s\tremaining: 748ms\n",
      "101:\tlearn: 0.3121172\ttotal: 1.56s\tremaining: 734ms\n",
      "102:\tlearn: 0.3120662\ttotal: 1.57s\tremaining: 718ms\n",
      "103:\tlearn: 0.3120114\ttotal: 1.59s\tremaining: 702ms\n",
      "104:\tlearn: 0.3119621\ttotal: 1.6s\tremaining: 687ms\n",
      "105:\tlearn: 0.3118512\ttotal: 1.62s\tremaining: 672ms\n",
      "106:\tlearn: 0.3117688\ttotal: 1.63s\tremaining: 656ms\n",
      "107:\tlearn: 0.3116977\ttotal: 1.65s\tremaining: 641ms\n",
      "108:\tlearn: 0.3116320\ttotal: 1.66s\tremaining: 625ms\n",
      "109:\tlearn: 0.3115430\ttotal: 1.68s\tremaining: 611ms\n",
      "110:\tlearn: 0.3114849\ttotal: 1.69s\tremaining: 595ms\n",
      "111:\tlearn: 0.3114604\ttotal: 1.71s\tremaining: 579ms\n",
      "112:\tlearn: 0.3114261\ttotal: 1.72s\tremaining: 564ms\n",
      "113:\tlearn: 0.3113896\ttotal: 1.73s\tremaining: 548ms\n",
      "114:\tlearn: 0.3113335\ttotal: 1.75s\tremaining: 532ms\n",
      "115:\tlearn: 0.3112643\ttotal: 1.76s\tremaining: 517ms\n",
      "116:\tlearn: 0.3112276\ttotal: 1.78s\tremaining: 501ms\n",
      "117:\tlearn: 0.3111604\ttotal: 1.79s\tremaining: 486ms\n",
      "118:\tlearn: 0.3111080\ttotal: 1.81s\tremaining: 471ms\n",
      "119:\tlearn: 0.3110259\ttotal: 1.82s\tremaining: 456ms\n",
      "120:\tlearn: 0.3109793\ttotal: 1.84s\tremaining: 441ms\n",
      "121:\tlearn: 0.3109309\ttotal: 1.85s\tremaining: 425ms\n",
      "122:\tlearn: 0.3108460\ttotal: 1.87s\tremaining: 410ms\n",
      "123:\tlearn: 0.3108123\ttotal: 1.89s\tremaining: 397ms\n",
      "124:\tlearn: 0.3107793\ttotal: 1.9s\tremaining: 381ms\n",
      "125:\tlearn: 0.3107539\ttotal: 1.92s\tremaining: 365ms\n",
      "126:\tlearn: 0.3107146\ttotal: 1.93s\tremaining: 350ms\n",
      "127:\tlearn: 0.3106266\ttotal: 1.95s\tremaining: 335ms\n",
      "128:\tlearn: 0.3105596\ttotal: 1.96s\tremaining: 320ms\n",
      "129:\tlearn: 0.3105086\ttotal: 1.98s\tremaining: 304ms\n",
      "130:\tlearn: 0.3104456\ttotal: 1.99s\tremaining: 289ms\n",
      "131:\tlearn: 0.3103712\ttotal: 2s\tremaining: 273ms\n",
      "132:\tlearn: 0.3103547\ttotal: 2.02s\tremaining: 258ms\n",
      "133:\tlearn: 0.3103074\ttotal: 2.03s\tremaining: 243ms\n",
      "134:\tlearn: 0.3102706\ttotal: 2.04s\tremaining: 227ms\n",
      "135:\tlearn: 0.3101765\ttotal: 2.06s\tremaining: 212ms\n",
      "136:\tlearn: 0.3101423\ttotal: 2.07s\tremaining: 197ms\n",
      "137:\tlearn: 0.3100476\ttotal: 2.09s\tremaining: 182ms\n",
      "138:\tlearn: 0.3100017\ttotal: 2.1s\tremaining: 167ms\n",
      "139:\tlearn: 0.3099141\ttotal: 2.12s\tremaining: 151ms\n",
      "140:\tlearn: 0.3098827\ttotal: 2.14s\tremaining: 136ms\n",
      "141:\tlearn: 0.3098642\ttotal: 2.15s\tremaining: 121ms\n",
      "142:\tlearn: 0.3098287\ttotal: 2.17s\tremaining: 106ms\n",
      "143:\tlearn: 0.3097622\ttotal: 2.18s\tremaining: 90.8ms\n",
      "144:\tlearn: 0.3097126\ttotal: 2.19s\tremaining: 75.7ms\n",
      "145:\tlearn: 0.3096315\ttotal: 2.21s\tremaining: 60.5ms\n",
      "146:\tlearn: 0.3095731\ttotal: 2.22s\tremaining: 45.4ms\n",
      "147:\tlearn: 0.3095257\ttotal: 2.24s\tremaining: 30.3ms\n",
      "148:\tlearn: 0.3094934\ttotal: 2.25s\tremaining: 15.1ms\n",
      "149:\tlearn: 0.3094495\ttotal: 2.27s\tremaining: 0us\n"
     ]
    }
   ],
   "source": [
    "from sklearn.ensemble import VotingClassifier\n",
    "#vo_clf = VotingClassifier(estimators = [('lgbm',model_lgbmc),\n",
    "#                                        ('gb', model_gbc),\n",
    "#                                        ('cb', model_cbc)], voting = 'soft')\n",
    "#vo_clf.fit(X, y)\n",
    "#final_ensemble_voclf = vo_clf.predict_proba(test_df)\n",
    "#get_final_df(final_ensemble_voclf)"
   ]
  },
  {
   "cell_type": "markdown",
   "id": "8817359c",
   "metadata": {},
   "source": [
    "## GridSearchCV"
   ]
  },
  {
   "cell_type": "markdown",
   "id": "c0893227",
   "metadata": {},
   "source": [
    "각 보팅에 해당하는 모델의 최적 파라미터를 구하자"
   ]
  },
  {
   "cell_type": "code",
   "execution_count": 64,
   "id": "11aa6e24",
   "metadata": {},
   "outputs": [
    {
     "name": "stdout",
     "output_type": "stream",
     "text": [
      "{'learning_rate': 0.1, 'max_depth': 4, 'n_estimators': 150, 'objective': 'binary'}\n"
     ]
    }
   ],
   "source": [
    "#lgbm\n",
    "from sklearn.model_selection import GridSearchCV\n",
    "'''\n",
    "params = {\n",
    "    'max_depth' : [3, 4, 5, 6, 7],\n",
    "    'objective' : ['binary'],\n",
    "    'learning_rate': [0.1, 0.3, 0.5],\n",
    "    'n_estimators':[50, 100, 150, 200]\n",
    "}\n",
    "lgbm = LGBMClassifier()\n",
    "grid_model = GridSearchCV(lgbm, param_grid = params, cv = 3, scoring = 'roc_auc')\n",
    "grid_model.fit(X_train, y_train)\n",
    "print(grid_model.best_params_)\n",
    "'''"
   ]
  },
  {
   "cell_type": "code",
   "execution_count": null,
   "id": "0d611cc8",
   "metadata": {},
   "outputs": [],
   "source": [
    "#gbc\n",
    "params = {\n",
    "    'max_depth' : [3, 4, 5, 6, 7],\n",
    "    'learning_rate': [0.1, 0.3, 0.5],\n",
    "    'n_estimators':[50, 100, 150, 200]\n",
    "}\n",
    "gbc = GradientBoostingClassifier()\n",
    "grid_model = GridSearchCV(gbc, param_grid = params, cv = 3, scoring = 'roc_auc')\n",
    "grid_model.fit(X_train, y_train)\n",
    "print(grid_model.best_params_)"
   ]
  },
  {
   "cell_type": "code",
   "execution_count": null,
   "id": "220baaa7",
   "metadata": {},
   "outputs": [],
   "source": [
    "#cbc\n",
    "params = {\n",
    "    'max_depth' : [3, 4, 5, 6, 7],\n",
    "    'learning_rate': [0.1, 0.3, 0.5],\n",
    "    'n_estimators':[50, 100, 150, 200]\n",
    "}\n",
    "cbc = CatBoostClassifier()\n",
    "grid_model = GridSearchCV(cbc, param_grid = params, cv = 3, scoring = 'roc_auc')\n",
    "grid_model.fit(X_train, y_train)\n",
    "print(grid_model.best_params_)"
   ]
  },
  {
   "cell_type": "markdown",
   "id": "7e41b9ba",
   "metadata": {},
   "source": [
    "위의 내용을 바탕으로 최적화 시키자"
   ]
  },
  {
   "cell_type": "code",
   "execution_count": null,
   "id": "ecbc8282",
   "metadata": {},
   "outputs": [],
   "source": [
    "# 그리드 서치 기반으로 최종 모델. \n",
    "model_lgbmc = LGBMClassifier(max_depth = 4, random_state = 42, n_estimators = 150, learning_rate = 0.1)\n",
    "model_lgbmc.fit(X, y)\n",
    "model_gbc = GradientBoostingClassifier(max_depth = 5, random_state = 42, n_estimators = 150)\n",
    "model_gbc.fit(X, y)\n",
    "model_cbc= CatBoostClassifier(max_depth = 5, random_state = 42, n_estimators = 150)\n",
    "model_cbc.fit(X, y)\n",
    "vo_clf = VotingClassifier(estimators = [('lgbm',model_lgbmc),\n",
    "                                       ('gb', model_gbc),\n",
    "                                       ('cb', model_cbc)], voting = 'soft')\n",
    "vo_clf.fit(X, y)\n",
    "final_ensemble_voclf = vo_clf.predict_proba(test_df)\n",
    "get_final_df(final_ensemble_voclf)"
   ]
  },
  {
   "cell_type": "markdown",
   "id": "5f586733",
   "metadata": {},
   "source": [
    "## 모델은 만들었는데 뭐 어쩌라는 거죠. 왜 나가는거임?"
   ]
  },
  {
   "cell_type": "markdown",
   "id": "67d21340",
   "metadata": {},
   "source": [
    "캐글 문제 풀려고 데이터 분석 하는 것은 아니니까. 그래서 왜 나가는지, 그걸 판단하기 위한 중요 변수는 무엇인지 파악하자"
   ]
  },
  {
   "cell_type": "markdown",
   "id": "6287a9f0",
   "metadata": {},
   "source": [
    "- 확실히 나갈거라 예측되는 유저들의 공통점은?\n",
    "- 잘 판단하지 못하고 있는 중도층의 특징은?\n",
    "- 실제 유저들을 클러스터링 해보면 어떤 점들이 있을까?"
   ]
  }
 ],
 "metadata": {
  "kernelspec": {
   "display_name": "Python 3",
   "language": "python",
   "name": "python3"
  },
  "language_info": {
   "codemirror_mode": {
    "name": "ipython",
    "version": 3
   },
   "file_extension": ".py",
   "mimetype": "text/x-python",
   "name": "python",
   "nbconvert_exporter": "python",
   "pygments_lexer": "ipython3",
   "version": "3.8.8"
  }
 },
 "nbformat": 4,
 "nbformat_minor": 5
}
