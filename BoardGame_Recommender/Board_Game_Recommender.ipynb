{
 "cells": [
  {
   "cell_type": "markdown",
   "metadata": {},
   "source": [
    "# Board Game Recommender_Contend Based"
   ]
  },
  {
   "cell_type": "markdown",
   "metadata": {},
   "source": [
    "https://www.kaggle.com/extralime/20000-boardgames-dataset  \n",
    "데이터를 기반으로, 보드게임을 추천하는 프로젝트를 만들려고 한다.  \n",
    "평점 데이터가 존재하지는 않아, 데이터를 정리하여 특성을 추출하고, 새로운 보드게임을 추천해주자."
   ]
  },
  {
   "cell_type": "markdown",
   "metadata": {},
   "source": [
    "## 사용 모델"
   ]
  },
  {
   "cell_type": "markdown",
   "metadata": {},
   "source": [
    "추천 시스템은 크게, CB와 CF, Hybrid로 나누어진다. 딥러닝등을 쓰는 방법도 존재하나, 주어진 데이터셋에서는 Item의 특성만 담겨 있으므로 적합한 모델은 Contend-Based Model이다."
   ]
  },
  {
   "cell_type": "markdown",
   "metadata": {},
   "source": [
    "## Content-Based란?\n",
    "Contend-Based 추천의 경우, Item의 특성에 따른 유사도에 따라 비슷한 Item을 추천해 주는 방식이다."
   ]
  },
  {
   "cell_type": "markdown",
   "metadata": {},
   "source": [
    "## 만들고자 하는 Recommender\n",
    "가장 좋아하는 3개의 보드게임을 입력하면, 그와 유사한 혹은 새로 해볼만한 보드게임 10개를 추천하고자 한다.\n",
    "이 때, 플레이 인원 또한 입력받아, 플레이 인원에 맞는 보드게임을 추천하게하고자 한다."
   ]
  },
  {
   "cell_type": "markdown",
   "metadata": {},
   "source": [
    "## Data 및 Package 준비"
   ]
  },
  {
   "cell_type": "code",
   "execution_count": 1,
   "metadata": {},
   "outputs": [],
   "source": [
    "import numpy as np\n",
    "import pandas as pd\n",
    "data = pd.read_csv('C:/Users/HP/Desktop/Recommender_Project/boardgames1.csv')"
   ]
  },
  {
   "cell_type": "code",
   "execution_count": 2,
   "metadata": {},
   "outputs": [
    {
     "data": {
      "text/html": [
       "<div>\n",
       "<style scoped>\n",
       "    .dataframe tbody tr th:only-of-type {\n",
       "        vertical-align: middle;\n",
       "    }\n",
       "\n",
       "    .dataframe tbody tr th {\n",
       "        vertical-align: top;\n",
       "    }\n",
       "\n",
       "    .dataframe thead th {\n",
       "        text-align: right;\n",
       "    }\n",
       "</style>\n",
       "<table border=\"1\" class=\"dataframe\">\n",
       "  <thead>\n",
       "    <tr style=\"text-align: right;\">\n",
       "      <th></th>\n",
       "      <th>objectid</th>\n",
       "      <th>name</th>\n",
       "      <th>yearpublished</th>\n",
       "      <th>sortindex</th>\n",
       "      <th>minplayers</th>\n",
       "      <th>maxplayers</th>\n",
       "      <th>minplaytime</th>\n",
       "      <th>maxplaytime</th>\n",
       "      <th>minage</th>\n",
       "      <th>min_community</th>\n",
       "      <th>...</th>\n",
       "      <th>boardgameartist</th>\n",
       "      <th>boardgamepublisher</th>\n",
       "      <th>boardgamehonor</th>\n",
       "      <th>boardgamecategory</th>\n",
       "      <th>boardgameversion</th>\n",
       "      <th>boardgamemechanic</th>\n",
       "      <th>boardgameexpansion</th>\n",
       "      <th>boardgamefamily</th>\n",
       "      <th>description</th>\n",
       "      <th>gamelink</th>\n",
       "    </tr>\n",
       "  </thead>\n",
       "  <tbody>\n",
       "    <tr>\n",
       "      <th>0</th>\n",
       "      <td>174430</td>\n",
       "      <td>Gloomhaven</td>\n",
       "      <td>2017</td>\n",
       "      <td>1</td>\n",
       "      <td>1</td>\n",
       "      <td>4</td>\n",
       "      <td>60</td>\n",
       "      <td>120</td>\n",
       "      <td>12</td>\n",
       "      <td>3.0</td>\n",
       "      <td>...</td>\n",
       "      <td>['Alexandr Elichev', 'Josh T. McDowell', 'Alva...</td>\n",
       "      <td>['Cephalofair Games', 'Albi', 'Asmodee', 'Feue...</td>\n",
       "      <td>['2017 Best Science Fiction or Fantasy Board G...</td>\n",
       "      <td>['Adventure', 'Exploration', 'Fantasy', 'Fight...</td>\n",
       "      <td>['Chinese edition', 'Czech edition', 'English ...</td>\n",
       "      <td>['Campaign / Battle Card Driven', 'Cooperative...</td>\n",
       "      <td>['Gloomhaven: Forgotten Circles', 'Gloomhaven:...</td>\n",
       "      <td>['Campaign Games', 'Components: Miniatures', '...</td>\n",
       "      <td>Gloomhaven  is a game of Euro-inspired tactica...</td>\n",
       "      <td>/boardgame/174430/gloomhaven</td>\n",
       "    </tr>\n",
       "    <tr>\n",
       "      <th>1</th>\n",
       "      <td>161936</td>\n",
       "      <td>Pandemic Legacy  Season 1</td>\n",
       "      <td>2015</td>\n",
       "      <td>2</td>\n",
       "      <td>2</td>\n",
       "      <td>4</td>\n",
       "      <td>60</td>\n",
       "      <td>60</td>\n",
       "      <td>13</td>\n",
       "      <td>4.0</td>\n",
       "      <td>...</td>\n",
       "      <td>['Chris Quilliams']</td>\n",
       "      <td>['Z-Man Games', 'Asterion Press', 'Devir', 'Fi...</td>\n",
       "      <td>['2015 Cardboard Republic Immersionist Laurel ...</td>\n",
       "      <td>['Environmental', 'Medical']</td>\n",
       "      <td>['Chinese blue edition', 'Chinese red edition'...</td>\n",
       "      <td>['Action Points', 'Cooperative Game', 'Hand Ma...</td>\n",
       "      <td>['None']</td>\n",
       "      <td>['Campaign Games', 'Legacy', 'Pandemic']</td>\n",
       "      <td>Pandemic Legacy is a co-operative campaign gam...</td>\n",
       "      <td>/boardgame/161936/pandemic-legacy-season-1</td>\n",
       "    </tr>\n",
       "    <tr>\n",
       "      <th>2</th>\n",
       "      <td>167791</td>\n",
       "      <td>Terraforming Mars</td>\n",
       "      <td>2016</td>\n",
       "      <td>3</td>\n",
       "      <td>1</td>\n",
       "      <td>5</td>\n",
       "      <td>120</td>\n",
       "      <td>120</td>\n",
       "      <td>12</td>\n",
       "      <td>3.0</td>\n",
       "      <td>...</td>\n",
       "      <td>['Isaac Fryxelius']</td>\n",
       "      <td>['FryxGames', 'Arclight', 'Fantasmagoria', 'Gh...</td>\n",
       "      <td>['2016 Cardboard Republic Architect Laurel Nom...</td>\n",
       "      <td>['Economic', 'Environmental', 'Industry / Manu...</td>\n",
       "      <td>['Bulgarian edition', 'Chinese edition', 'Czec...</td>\n",
       "      <td>['Card Drafting', 'End Game Bonuses', 'Hand Ma...</td>\n",
       "      <td>['French Championship Promo Cards (fan expansi...</td>\n",
       "      <td>['Fryxgames Future Timeline', 'Planets: Mars',...</td>\n",
       "      <td>In the 2400s, mankind begins to terraform the ...</td>\n",
       "      <td>/boardgame/167791/terraforming-mars</td>\n",
       "    </tr>\n",
       "    <tr>\n",
       "      <th>3</th>\n",
       "      <td>182028</td>\n",
       "      <td>Through the Ages  A New Story of Civilization</td>\n",
       "      <td>2015</td>\n",
       "      <td>4</td>\n",
       "      <td>2</td>\n",
       "      <td>4</td>\n",
       "      <td>120</td>\n",
       "      <td>120</td>\n",
       "      <td>14</td>\n",
       "      <td>3.0</td>\n",
       "      <td>...</td>\n",
       "      <td>['Filip Murmak', 'Radim Pech', 'Jakub Politzer...</td>\n",
       "      <td>['Czech Games Edition', 'Cranio Creations', 'D...</td>\n",
       "      <td>['2015 Golden Geek Best Strategy Board Game No...</td>\n",
       "      <td>['Card Game', 'Civilization', 'Economic']</td>\n",
       "      <td>['Chinese edition', 'Czech edition', 'English ...</td>\n",
       "      <td>['Action Points', 'Auction/Bidding', 'Auction:...</td>\n",
       "      <td>['Through the Ages: New Leaders and Wonders']</td>\n",
       "      <td>['Tableau Building', 'Through the Ages']</td>\n",
       "      <td>Through the Ages: A New Story of Civilization ...</td>\n",
       "      <td>/boardgame/182028/through-ages-new-story-civil...</td>\n",
       "    </tr>\n",
       "    <tr>\n",
       "      <th>4</th>\n",
       "      <td>224517</td>\n",
       "      <td>Brass  Birmingham</td>\n",
       "      <td>2018</td>\n",
       "      <td>5</td>\n",
       "      <td>2</td>\n",
       "      <td>4</td>\n",
       "      <td>60</td>\n",
       "      <td>120</td>\n",
       "      <td>14</td>\n",
       "      <td>3.0</td>\n",
       "      <td>...</td>\n",
       "      <td>['Lina Cossette', 'David Forest', 'Damien Mamm...</td>\n",
       "      <td>['Roxley', 'BoardM Factory', 'Conclave Editora...</td>\n",
       "      <td>['2018 Golden Geek Best Board Game Artwork &amp; P...</td>\n",
       "      <td>['Economic', 'Industry / Manufacturing', 'Tran...</td>\n",
       "      <td>['English deluxe edition', 'English retail edi...</td>\n",
       "      <td>['Hand Management', 'Income', 'Loans', 'Market...</td>\n",
       "      <td>['None']</td>\n",
       "      <td>['Beer', 'Brass', 'Cities: Birmingham (England...</td>\n",
       "      <td>Brass: Birmingham is an economic strategy game...</td>\n",
       "      <td>/boardgame/224517/brass-birmingham</td>\n",
       "    </tr>\n",
       "  </tbody>\n",
       "</table>\n",
       "<p>5 rows × 52 columns</p>\n",
       "</div>"
      ],
      "text/plain": [
       "   objectid                                           name  yearpublished  \\\n",
       "0    174430                                     Gloomhaven           2017   \n",
       "1    161936                      Pandemic Legacy  Season 1           2015   \n",
       "2    167791                              Terraforming Mars           2016   \n",
       "3    182028  Through the Ages  A New Story of Civilization           2015   \n",
       "4    224517                              Brass  Birmingham           2018   \n",
       "\n",
       "   sortindex  minplayers  maxplayers  minplaytime  maxplaytime  minage  \\\n",
       "0          1           1           4           60          120      12   \n",
       "1          2           2           4           60           60      13   \n",
       "2          3           1           5          120          120      12   \n",
       "3          4           2           4          120          120      14   \n",
       "4          5           2           4           60          120      14   \n",
       "\n",
       "   min_community  ...                                    boardgameartist  \\\n",
       "0            3.0  ...  ['Alexandr Elichev', 'Josh T. McDowell', 'Alva...   \n",
       "1            4.0  ...                                ['Chris Quilliams']   \n",
       "2            3.0  ...                                ['Isaac Fryxelius']   \n",
       "3            3.0  ...  ['Filip Murmak', 'Radim Pech', 'Jakub Politzer...   \n",
       "4            3.0  ...  ['Lina Cossette', 'David Forest', 'Damien Mamm...   \n",
       "\n",
       "                                  boardgamepublisher  \\\n",
       "0  ['Cephalofair Games', 'Albi', 'Asmodee', 'Feue...   \n",
       "1  ['Z-Man Games', 'Asterion Press', 'Devir', 'Fi...   \n",
       "2  ['FryxGames', 'Arclight', 'Fantasmagoria', 'Gh...   \n",
       "3  ['Czech Games Edition', 'Cranio Creations', 'D...   \n",
       "4  ['Roxley', 'BoardM Factory', 'Conclave Editora...   \n",
       "\n",
       "                                      boardgamehonor  \\\n",
       "0  ['2017 Best Science Fiction or Fantasy Board G...   \n",
       "1  ['2015 Cardboard Republic Immersionist Laurel ...   \n",
       "2  ['2016 Cardboard Republic Architect Laurel Nom...   \n",
       "3  ['2015 Golden Geek Best Strategy Board Game No...   \n",
       "4  ['2018 Golden Geek Best Board Game Artwork & P...   \n",
       "\n",
       "                                   boardgamecategory  \\\n",
       "0  ['Adventure', 'Exploration', 'Fantasy', 'Fight...   \n",
       "1                       ['Environmental', 'Medical']   \n",
       "2  ['Economic', 'Environmental', 'Industry / Manu...   \n",
       "3          ['Card Game', 'Civilization', 'Economic']   \n",
       "4  ['Economic', 'Industry / Manufacturing', 'Tran...   \n",
       "\n",
       "                                    boardgameversion  \\\n",
       "0  ['Chinese edition', 'Czech edition', 'English ...   \n",
       "1  ['Chinese blue edition', 'Chinese red edition'...   \n",
       "2  ['Bulgarian edition', 'Chinese edition', 'Czec...   \n",
       "3  ['Chinese edition', 'Czech edition', 'English ...   \n",
       "4  ['English deluxe edition', 'English retail edi...   \n",
       "\n",
       "                                   boardgamemechanic  \\\n",
       "0  ['Campaign / Battle Card Driven', 'Cooperative...   \n",
       "1  ['Action Points', 'Cooperative Game', 'Hand Ma...   \n",
       "2  ['Card Drafting', 'End Game Bonuses', 'Hand Ma...   \n",
       "3  ['Action Points', 'Auction/Bidding', 'Auction:...   \n",
       "4  ['Hand Management', 'Income', 'Loans', 'Market...   \n",
       "\n",
       "                                  boardgameexpansion  \\\n",
       "0  ['Gloomhaven: Forgotten Circles', 'Gloomhaven:...   \n",
       "1                                           ['None']   \n",
       "2  ['French Championship Promo Cards (fan expansi...   \n",
       "3      ['Through the Ages: New Leaders and Wonders']   \n",
       "4                                           ['None']   \n",
       "\n",
       "                                     boardgamefamily  \\\n",
       "0  ['Campaign Games', 'Components: Miniatures', '...   \n",
       "1           ['Campaign Games', 'Legacy', 'Pandemic']   \n",
       "2  ['Fryxgames Future Timeline', 'Planets: Mars',...   \n",
       "3           ['Tableau Building', 'Through the Ages']   \n",
       "4  ['Beer', 'Brass', 'Cities: Birmingham (England...   \n",
       "\n",
       "                                         description  \\\n",
       "0  Gloomhaven  is a game of Euro-inspired tactica...   \n",
       "1  Pandemic Legacy is a co-operative campaign gam...   \n",
       "2  In the 2400s, mankind begins to terraform the ...   \n",
       "3  Through the Ages: A New Story of Civilization ...   \n",
       "4  Brass: Birmingham is an economic strategy game...   \n",
       "\n",
       "                                            gamelink  \n",
       "0                       /boardgame/174430/gloomhaven  \n",
       "1         /boardgame/161936/pandemic-legacy-season-1  \n",
       "2                /boardgame/167791/terraforming-mars  \n",
       "3  /boardgame/182028/through-ages-new-story-civil...  \n",
       "4                 /boardgame/224517/brass-birmingham  \n",
       "\n",
       "[5 rows x 52 columns]"
      ]
     },
     "execution_count": 2,
     "metadata": {},
     "output_type": "execute_result"
    }
   ],
   "source": [
    "data.head()"
   ]
  },
  {
   "cell_type": "markdown",
   "metadata": {},
   "source": [
    "Kaggle 링크에는, 이 data에 대한 설명이 있다. 이를 가져오면 다음과 같다.\n",
    "\n",
    "- objectid - the identifier on boardgamegeeks.com\n",
    "- name - name of the game\n",
    "- yearpublished - the year the game was published\n",
    "- sortindex - rank of the game on bbg.com\n",
    "- minplayer - minumum number of players per the publishers\n",
    "- maxplayers - maximum number of players per the publishers\n",
    "- minplaytime - minimum playtime required per the publishers\n",
    "- maxplaytime - maximum playtime per the publishers\n",
    "- minage - minimum age requiremnet per the publishers\n",
    "- min_community - minimum players per the community\n",
    "- max_community - max players per the community\n",
    "- totalvotes - total number of community vote\n",
    "- playerage - minimum age requirement per the community\n",
    "- languagedependence - a rank of amount of in-game text is required during game play\n",
    "    - '(no votes)':0,\n",
    "    - 'Extensive use of text - massive conversion needed to be playable':4,\n",
    "    - 'Moderate in-game text - needs crib sheet or paste ups':3,\n",
    "    - 'No necessary in-game text':1,\n",
    "    - 'Some necessary text - easily memorized or small crib sheet':2,\n",
    "    - 'Unplayable in another language':5    \n",
    "- userrated - number of users that have rated the game\n",
    "- average - user average rating from 1-10\n",
    "- baverage - from the site, determined to be an anti-skewing effort by bgg with system added mid range ratings (from 1-10)\n",
    "- stddev - average standard deviation of a rating\n",
    "- avgweight - a complexity rating from 1-5 Weight\n",
    "- numweights - number of weight votes\n",
    "- numgeeklists - number of geeks with game on list\n",
    "- numtrading - number of people trading the game\n",
    "- numwanting - number of people wanting the game\n",
    "- numcomments - number of comments on the site on this game\n",
    "- siteviews - number of views on the site\n",
    "- numplays - number of times game was played (according to site users?)\n",
    "- numplays_month - number of plays per month\n",
    "- news - number news articles on game\n",
    "- blogs - number of blogs regarding game\n",
    "- weblink - number of weblinks for the game\n",
    "- podcast - number of podcasts on the game\n",
    "- label - category of game (mostly boardgame)\n",
    "- boardgamedesigner_cnt - count of designers\n",
    "- boardgameartist_cnt - artist count\n",
    "- boardgamepublisher_cnt - publisher count\n",
    "- boardgamehonor_cnt - awards count\n",
    "- boardgamecategory_cnt - category count\n",
    "- boardgamemechanic_cnt - game mechanics count\n",
    "- boardgameexpansion_cnt - expansion count\n",
    "- boardgameversion_cnt - version count (languages)\n",
    "- boardgamefamily_cnt - game family count\n",
    "- boardgamedesigner - list of game designers\n",
    "- boardgameartist - list of game artists\n",
    "- boardgamepublisher - list of publishers\n",
    "- boardgamehonor - list of awards\n",
    "- boardgamecategory - list of categories\n",
    "- boardgameversion - list of versions\n",
    "- boardgamemechanic - a list of mechanics\n",
    "- boardgameexpansion - a list of expansions\n",
    "- boardgamefamily - a list of boardgames family\n",
    "- description - full text description of game\n",
    "- gamelink - a link to the game on bgg"
   ]
  },
  {
   "cell_type": "markdown",
   "metadata": {},
   "source": [
    "모든 변수를 사용하진 않을 것이고, 아이템의 '특성'에 초점을 주려고 한다.  \n",
    "보드게임에서 생각해볼 수 있는 특성은 다음과 같다.\n",
    "  - 게임의 난이도\n",
    "  - 게임이 가지고 있는 테마\n",
    "  - 플레이 시간\n",
    "  - 플레이 인원수\n",
    "  - 게임이 돌아가는 원리(매커니즘)\n",
    "  - 언어 의존도\n",
    "  - ETC..."
   ]
  },
  {
   "cell_type": "markdown",
   "metadata": {},
   "source": [
    "여기서는 난이도, 테마, 인원수, 플레이 시간, 매커니즘, 언어의존도, 보드게임작가 및 평점 데이터만을 사용하려고 한다. 이를 위해 변수 순서를 다시 지정하면 다음과 같다."
   ]
  },
  {
   "cell_type": "code",
   "execution_count": 3,
   "metadata": {},
   "outputs": [],
   "source": [
    "data = data[['name', 'sortindex', 'minplayers', 'maxplayers', \n",
    "             'minplaytime', 'maxplaytime', 'languagedependence',\n",
    "            'average', 'usersrated', 'avgweight',\n",
    "            'boardgamecategory', 'boardgamemechanic']]"
   ]
  },
  {
   "cell_type": "code",
   "execution_count": 4,
   "metadata": {},
   "outputs": [
    {
     "data": {
      "text/html": [
       "<div>\n",
       "<style scoped>\n",
       "    .dataframe tbody tr th:only-of-type {\n",
       "        vertical-align: middle;\n",
       "    }\n",
       "\n",
       "    .dataframe tbody tr th {\n",
       "        vertical-align: top;\n",
       "    }\n",
       "\n",
       "    .dataframe thead th {\n",
       "        text-align: right;\n",
       "    }\n",
       "</style>\n",
       "<table border=\"1\" class=\"dataframe\">\n",
       "  <thead>\n",
       "    <tr style=\"text-align: right;\">\n",
       "      <th></th>\n",
       "      <th>name</th>\n",
       "      <th>sortindex</th>\n",
       "      <th>minplayers</th>\n",
       "      <th>maxplayers</th>\n",
       "      <th>minplaytime</th>\n",
       "      <th>maxplaytime</th>\n",
       "      <th>languagedependence</th>\n",
       "      <th>average</th>\n",
       "      <th>usersrated</th>\n",
       "      <th>avgweight</th>\n",
       "      <th>boardgamecategory</th>\n",
       "      <th>boardgamemechanic</th>\n",
       "    </tr>\n",
       "  </thead>\n",
       "  <tbody>\n",
       "    <tr>\n",
       "      <th>0</th>\n",
       "      <td>Gloomhaven</td>\n",
       "      <td>1</td>\n",
       "      <td>1</td>\n",
       "      <td>4</td>\n",
       "      <td>60</td>\n",
       "      <td>120</td>\n",
       "      <td>4</td>\n",
       "      <td>8.85292</td>\n",
       "      <td>31254</td>\n",
       "      <td>3.8078</td>\n",
       "      <td>['Adventure', 'Exploration', 'Fantasy', 'Fight...</td>\n",
       "      <td>['Campaign / Battle Card Driven', 'Cooperative...</td>\n",
       "    </tr>\n",
       "    <tr>\n",
       "      <th>1</th>\n",
       "      <td>Pandemic Legacy  Season 1</td>\n",
       "      <td>2</td>\n",
       "      <td>2</td>\n",
       "      <td>4</td>\n",
       "      <td>60</td>\n",
       "      <td>60</td>\n",
       "      <td>4</td>\n",
       "      <td>8.62499</td>\n",
       "      <td>34729</td>\n",
       "      <td>2.8301</td>\n",
       "      <td>['Environmental', 'Medical']</td>\n",
       "      <td>['Action Points', 'Cooperative Game', 'Hand Ma...</td>\n",
       "    </tr>\n",
       "    <tr>\n",
       "      <th>2</th>\n",
       "      <td>Terraforming Mars</td>\n",
       "      <td>3</td>\n",
       "      <td>1</td>\n",
       "      <td>5</td>\n",
       "      <td>120</td>\n",
       "      <td>120</td>\n",
       "      <td>3</td>\n",
       "      <td>8.42299</td>\n",
       "      <td>48339</td>\n",
       "      <td>3.2313</td>\n",
       "      <td>['Economic', 'Environmental', 'Industry / Manu...</td>\n",
       "      <td>['Card Drafting', 'End Game Bonuses', 'Hand Ma...</td>\n",
       "    </tr>\n",
       "    <tr>\n",
       "      <th>3</th>\n",
       "      <td>Through the Ages  A New Story of Civilization</td>\n",
       "      <td>4</td>\n",
       "      <td>2</td>\n",
       "      <td>4</td>\n",
       "      <td>120</td>\n",
       "      <td>120</td>\n",
       "      <td>4</td>\n",
       "      <td>8.49419</td>\n",
       "      <td>18269</td>\n",
       "      <td>4.3850</td>\n",
       "      <td>['Card Game', 'Civilization', 'Economic']</td>\n",
       "      <td>['Action Points', 'Auction/Bidding', 'Auction:...</td>\n",
       "    </tr>\n",
       "    <tr>\n",
       "      <th>4</th>\n",
       "      <td>Brass  Birmingham</td>\n",
       "      <td>5</td>\n",
       "      <td>2</td>\n",
       "      <td>4</td>\n",
       "      <td>60</td>\n",
       "      <td>120</td>\n",
       "      <td>1</td>\n",
       "      <td>8.62031</td>\n",
       "      <td>10070</td>\n",
       "      <td>3.9122</td>\n",
       "      <td>['Economic', 'Industry / Manufacturing', 'Tran...</td>\n",
       "      <td>['Hand Management', 'Income', 'Loans', 'Market...</td>\n",
       "    </tr>\n",
       "  </tbody>\n",
       "</table>\n",
       "</div>"
      ],
      "text/plain": [
       "                                            name  sortindex  minplayers  \\\n",
       "0                                     Gloomhaven          1           1   \n",
       "1                      Pandemic Legacy  Season 1          2           2   \n",
       "2                              Terraforming Mars          3           1   \n",
       "3  Through the Ages  A New Story of Civilization          4           2   \n",
       "4                              Brass  Birmingham          5           2   \n",
       "\n",
       "   maxplayers  minplaytime  maxplaytime  languagedependence  average  \\\n",
       "0           4           60          120                   4  8.85292   \n",
       "1           4           60           60                   4  8.62499   \n",
       "2           5          120          120                   3  8.42299   \n",
       "3           4          120          120                   4  8.49419   \n",
       "4           4           60          120                   1  8.62031   \n",
       "\n",
       "   usersrated  avgweight                                  boardgamecategory  \\\n",
       "0       31254     3.8078  ['Adventure', 'Exploration', 'Fantasy', 'Fight...   \n",
       "1       34729     2.8301                       ['Environmental', 'Medical']   \n",
       "2       48339     3.2313  ['Economic', 'Environmental', 'Industry / Manu...   \n",
       "3       18269     4.3850          ['Card Game', 'Civilization', 'Economic']   \n",
       "4       10070     3.9122  ['Economic', 'Industry / Manufacturing', 'Tran...   \n",
       "\n",
       "                                   boardgamemechanic  \n",
       "0  ['Campaign / Battle Card Driven', 'Cooperative...  \n",
       "1  ['Action Points', 'Cooperative Game', 'Hand Ma...  \n",
       "2  ['Card Drafting', 'End Game Bonuses', 'Hand Ma...  \n",
       "3  ['Action Points', 'Auction/Bidding', 'Auction:...  \n",
       "4  ['Hand Management', 'Income', 'Loans', 'Market...  "
      ]
     },
     "execution_count": 4,
     "metadata": {},
     "output_type": "execute_result"
    }
   ],
   "source": [
    "data.head(5)"
   ]
  },
  {
   "cell_type": "markdown",
   "metadata": {},
   "source": [
    "2만개의 데이터가 있지만 모든 데이터를 다 사용하기는 어려울 것이다. 그 이유는 해당 데이터의 경우는 user들의 직접적인 평가를 기반으로 하고 있다. 따라서, usersrated가 일정 값 이하인 경우, 충분한 데이터가 모였다고 하기는 어려울 것이다. "
   ]
  },
  {
   "cell_type": "code",
   "execution_count": 5,
   "metadata": {},
   "outputs": [
    {
     "data": {
      "text/plain": [
       "count    20000.000000\n",
       "mean       739.616350\n",
       "std       3096.843206\n",
       "min          0.000000\n",
       "25%         47.000000\n",
       "50%        105.000000\n",
       "75%        333.250000\n",
       "max      90730.000000\n",
       "Name: usersrated, dtype: float64"
      ]
     },
     "execution_count": 5,
     "metadata": {},
     "output_type": "execute_result"
    }
   ],
   "source": [
    "data['usersrated'].describe()"
   ]
  },
  {
   "cell_type": "markdown",
   "metadata": {},
   "source": [
    "2만개중 절반 가량의 보드게임은 100표도 얻지 못했음을 알 수 있다. 또한 평균은 1,000건도 되지 않음을 알 수 있다. 그러나 3사분위수가 300건대인것을 보면 일정 보드게임들에 대해서만 '유의미한' 관심을 받았음을 알 수 있다. 여기서는 1,000건 이상의 평가를 받은 보드게임에 대해서만 추천을 실시하고자 한다."
   ]
  },
  {
   "cell_type": "code",
   "execution_count": 6,
   "metadata": {},
   "outputs": [],
   "source": [
    "data = data.loc[data['usersrated']>=1000,:]"
   ]
  },
  {
   "cell_type": "code",
   "execution_count": 7,
   "metadata": {},
   "outputs": [
    {
     "data": {
      "text/plain": [
       "2347"
      ]
     },
     "execution_count": 7,
     "metadata": {},
     "output_type": "execute_result"
    }
   ],
   "source": [
    "len(data)"
   ]
  },
  {
   "cell_type": "markdown",
   "metadata": {},
   "source": [
    "그 결과, 전체 20000개 중 2347개의 데이터를 추출하였다. 이를 바탕으로 Content-Based를 하고자 한다."
   ]
  },
  {
   "cell_type": "code",
   "execution_count": 8,
   "metadata": {},
   "outputs": [],
   "source": [
    "data.reset_index(drop = True, inplace = True)"
   ]
  },
  {
   "cell_type": "markdown",
   "metadata": {},
   "source": [
    "## category, mechniac 대하여"
   ]
  },
  {
   "cell_type": "markdown",
   "metadata": {},
   "source": [
    "두 변수의 유사도 측정을 위해 pearson_corr를 활용한다."
   ]
  },
  {
   "cell_type": "code",
   "execution_count": 9,
   "metadata": {},
   "outputs": [
    {
     "data": {
      "text/plain": [
       "(2347, 200)"
      ]
     },
     "execution_count": 9,
     "metadata": {},
     "output_type": "execute_result"
    }
   ],
   "source": [
    "from sklearn.feature_extraction.text import CountVectorizer\n",
    "\n",
    "category_list = [''.join(x) for x in data.boardgamecategory]\n",
    "enc = CountVectorizer()\n",
    "category_arr = enc.fit_transform(category_list).toarray()\n",
    "np.shape(category_arr)"
   ]
  },
  {
   "cell_type": "code",
   "execution_count": 10,
   "metadata": {},
   "outputs": [
    {
     "name": "stdout",
     "output_type": "stream",
     "text": [
      "['Adventure', 'Exploration', 'Fantasy', 'Fighting', 'Miniatures']\n",
      "['Adventure', 'Exploration', 'Fantasy', 'Fighting', 'Miniatures']\n",
      "Descent  Journeys in the Dark (Second Edition)\n"
     ]
    }
   ],
   "source": [
    "from scipy.stats.stats import pearsonr \n",
    "maxx = -1\n",
    "max_idx = -1\n",
    "for i in range (1, 2347):\n",
    "    if maxx < pearsonr(category_arr[0], category_arr[i])[0]:\n",
    "        maxx = pearsonr(category_arr[0], category_arr[i])[0]\n",
    "        max_idx = i\n",
    "print(data['boardgamecategory'][max_idx])\n",
    "print(data['boardgamecategory'][0])\n",
    "print(data['name'][max_idx])"
   ]
  },
  {
   "cell_type": "code",
   "execution_count": 11,
   "metadata": {},
   "outputs": [
    {
     "data": {
      "text/plain": [
       "(2347, 279)"
      ]
     },
     "execution_count": 11,
     "metadata": {},
     "output_type": "execute_result"
    }
   ],
   "source": [
    "mechniac_list = [''.join(x) for x in data.boardgamemechanic]\n",
    "enc = CountVectorizer()\n",
    "mechniac_arr = enc.fit_transform(mechniac_list).toarray()\n",
    "np.shape(mechniac_arr)"
   ]
  },
  {
   "cell_type": "code",
   "execution_count": 12,
   "metadata": {},
   "outputs": [
    {
     "name": "stdout",
     "output_type": "stream",
     "text": [
      "['Area Movement', 'Campaign / Battle Card Driven', 'Cooperative Game', 'Dice Rolling', 'Hand Management', 'Modular Board']\n",
      "['Campaign / Battle Card Driven', 'Cooperative Game', 'Grid Movement', 'Hand Management', 'Legacy Game', 'Modular Board']\n",
      "Gears of War  The Board Game\n",
      "<built-in function max>\n"
     ]
    }
   ],
   "source": [
    "from scipy.stats.stats import pearsonr \n",
    "maxx = -1\n",
    "max_idx = -1\n",
    "\n",
    "for i in range (1, 2347):\n",
    "    if maxx < pearsonr(mechniac_arr[0], mechniac_arr[i])[0]:\n",
    "        maxx = pearsonr(mechniac_arr[0], mechniac_arr[i])[0]\n",
    "        max_idx = i\n",
    "print(data['boardgamemechanic'][max_idx])\n",
    "print(data['boardgamemechanic'][0])\n",
    "print(data['name'][max_idx])\n",
    "print(max)"
   ]
  },
  {
   "cell_type": "markdown",
   "metadata": {},
   "source": [
    "각 행렬을 얻었고, 0번 아이템에 대해 유사도가 가장 높은 보드게임을 뽑아보았다."
   ]
  },
  {
   "cell_type": "markdown",
   "metadata": {},
   "source": [
    "## 실제 추천 만들기"
   ]
  },
  {
   "cell_type": "markdown",
   "metadata": {},
   "source": [
    "우리의 목표를 다시 생각해보자.\n",
    "\n",
    "가장 좋아하는 3개의 보드게임을 입력하면, 그와 유사한 혹은 새로 해볼만한 보드게임 10개를 추천하고자 한다.\n",
    "이 때, 플레이 인원 또한 입력받아, 플레이 인원에 맞는 보드게임을 추천하게하고자 한다.\n",
    "\n",
    "다음과 같은 방식으로 구현하고자 한다.\n",
    "3개의 게임에 대해 동일한 가치를 부여하고,\n",
    "Mechniac이랑 Category 또한 동일한 weight로 계산하고자 한다.\n",
    "\n",
    "이를 바탕으로 우선은 유사도가 가장 높은 게임 100개를 평점 순으로 정렬하려고 한다.\n",
    "그 후 플레이 인원수가 맞는지 확인 후,\n",
    "맨 마지막으로 weight가 선호게임 대비 높은 경우(해본 게임 대비) 흥미도가 낮을 수 있으므로\n",
    "3개의 베스트 보드게임 중 weight 가장 낮은거의 -0.5 ~ 가장 높은 거의 +0.5  범주안에 들 경우 추천 대상에 넣는다."
   ]
  },
  {
   "cell_type": "code",
   "execution_count": 25,
   "metadata": {},
   "outputs": [
    {
     "name": "stdout",
     "output_type": "stream",
     "text": [
      "number of people\n",
      "2\n",
      "first input\n",
      "Lost Cities\n",
      "second input\n",
      "PatchWork\n",
      "second input\n",
      "Patchwork\n",
      "third input\n",
      "Codenames  Duet\n",
      "['Codenames XXL', 'Jaipur', 'Sushi Go Party!', 'Arboretum', 'Codenames  Pictures XXL', 'Hanabi Deluxe', 'The Grizzled', 'Schotten Totten', 'Paperback', '\\\\u05e1\\\\u05d5\\\\u05e9\\\\u05d9 Go!']\n"
     ]
    }
   ],
   "source": [
    "board_title = list(data.name)\n",
    "print('number of people')\n",
    "people = int(input())\n",
    "\n",
    "while True:\n",
    "    print('first input')\n",
    "    first = str(input())\n",
    "    if first in board_title :\n",
    "        break\n",
    "        \n",
    "while True:\n",
    "    print('second input')\n",
    "    second = str(input())\n",
    "    if second in board_title  and first != second:\n",
    "        break\n",
    "        \n",
    "while True:\n",
    "    print('third input')\n",
    "    third = str(input())\n",
    "    if third in board_title  and third not in [first, second]:\n",
    "        break\n",
    "        \n",
    "idx1 = board_title.index(first)\n",
    "idx2 = board_title.index(second)\n",
    "idx3 = board_title.index(third)\n",
    "level_1 = data.avgweight[idx1]\n",
    "level_2 = data.avgweight[idx2]\n",
    "level_3 = data.avgweight[idx3]\n",
    "\n",
    "low_level = min(level_1, level_2, level_3) - 0.5\n",
    "high_level = max(level_1, level_2, level_3) + 0.5\n",
    "\n",
    "top_list = [idx1, idx2, idx3]\n",
    "score_list = []\n",
    "\n",
    "for i in range (0, 2347):\n",
    "    if i in top_list:\n",
    "        score_list.append((0, i))\n",
    "    else:\n",
    "        score = 0\n",
    "        score += (pearsonr(category_arr[idx1], category_arr[i])[0])\n",
    "        score += (pearsonr(category_arr[idx2], category_arr[i])[0])\n",
    "        score += (pearsonr(category_arr[idx3], category_arr[i])[0])\n",
    "        score += (pearsonr(mechniac_arr[idx1], mechniac_arr[i])[0])\n",
    "        score += (pearsonr(mechniac_arr[idx2], mechniac_arr[i])[0])\n",
    "        score += (pearsonr(mechniac_arr[idx3], mechniac_arr[i])[0])\n",
    "        score_list.append((score, i))\n",
    "\n",
    "score_list.sort(reverse = True)\n",
    "score_list = sorted(score_list[:100], key = lambda x: x[1])\n",
    "\n",
    "recom_list = []\n",
    "for item in score_list:\n",
    "    idx = item[1]\n",
    "    if data.minplayers[idx] <= people <= data.maxplayers[idx]:\n",
    "        if low_level <= data.avgweight[idx] <= high_level:\n",
    "            recom_list.append(data.name[idx])\n",
    "    if len(recom_list) == 10:\n",
    "        break\n",
    "print(recom_list)"
   ]
  },
  {
   "cell_type": "markdown",
   "metadata": {},
   "source": [
    "### 예시 1\n",
    "철저하게 내 취향대로 해보면  \n",
    "number of people    \n",
    "4     \n",
    "\n",
    "first input  \n",
    "Race for the Galaxy  \n",
    "second input  \n",
    "Mombasa  \n",
    "third input  \n",
    "Trajan  \n",
    "['Twilight Imperium (Fourth Edition)', 'Through the Ages  A Story of Civilization', 'Roll for the Galaxy', 'Kemet', 'Grand Austria Hotel', 'La Granja', 'Imperial Settlers', 'Glory to Rome', 'Imperial', \"Aeon's End  War Eternal\"]\n",
    "\n",
    "실제로, 롤 포더 갤럭시와 레이스 포 더 갤럭시는 굉장히 유사한 게임성을 가졌기에 추천이 될 만한 게임이다.\n",
    "그 외에도 주사위 기반의 전략게임인 그랜드 오스트리아 호텔이나 라그랑하도 많이 추천받은 게임으로 어느정도는 적합해보인다."
   ]
  },
  {
   "cell_type": "markdown",
   "metadata": {},
   "source": [
    "### 예시 2\n",
    "초보자용 게임을 몇개 넣어보았다.  \n",
    "number of people  \n",
    "4  \n",
    "first input  \n",
    "BANG!  \n",
    "second input  \n",
    "The Great Dalmuti  \n",
    "third input  \n",
    "Halli Galli  \n",
    "['Love Letter', 'Skull & Roses Red', '\\\\u30af\\\\u30fc', 'Love Letter Premium', 'Love Letter  Batman', 'Red7', 'Cribbage', 'Wizard', 'Diamonds  Second Edition', 'Shadow Hunters']"
   ]
  },
  {
   "cell_type": "markdown",
   "metadata": {},
   "source": [
    "어느정도 중복이 조금 보이긴 하지만, 러브레터라는 초보자용으로 매우 적합하고 훌륭한 게임을 얻게 된다."
   ]
  },
  {
   "cell_type": "markdown",
   "metadata": {},
   "source": [
    "### 예시 3\n",
    "커플 보드게임 추천을 해보자.  \n",
    "number of people  \n",
    "2  \n",
    "first input  \n",
    "Lost Cities  \n",
    "second input  \n",
    "Patchwork  \n",
    "third input  \n",
    "Codenames  Duet  \n",
    "['Codenames XXL', 'Jaipur', 'Sushi Go Party!', 'Arboretum', 'Codenames  Pictures XXL', 'Hanabi Deluxe', 'The Grizzled', 'Schotten Totten', 'Paperback', '\\\\u05e1\\\\u05d5\\\\u05e9\\\\u05d9 Go!']"
   ]
  },
  {
   "cell_type": "markdown",
   "metadata": {},
   "source": [
    "비슷한 코드네임 시리즈와 함께 커플이서 해볼만한 협동게임인 하나비, 2인 머리쓰는 게임으로 적합한 자이푸르 등이 추천되는 것을 볼 수 있다."
   ]
  },
  {
   "cell_type": "markdown",
   "metadata": {},
   "source": [
    "## 더 좋은 추천을 위해서는?\n",
    "사실 이번 데이터셋에서는 user의 평점은 없었고, 보드게임의 특성만이 있었다.\n",
    "준비된 데이터셋에서는 한글 관련 문제인지 글자깨짐 현상도 발생했고, 특히 보드게임의 매커니즘이나 테마에서 너무 세부분류가 많아 잘 정돈되어 있지 않음을 느꼈다.  조금 더 정밀한 추천을 위해서는 세부분류를 통합해야 하고, 아울러 user의 평점 데이터를 바탕으로 CF를 해야 조금 더 적합한 추천이 가능할 것이다."
   ]
  }
 ],
 "metadata": {
  "kernelspec": {
   "display_name": "Python 3",
   "language": "python",
   "name": "python3"
  },
  "language_info": {
   "codemirror_mode": {
    "name": "ipython",
    "version": 3
   },
   "file_extension": ".py",
   "mimetype": "text/x-python",
   "name": "python",
   "nbconvert_exporter": "python",
   "pygments_lexer": "ipython3",
   "version": "3.8.5"
  }
 },
 "nbformat": 4,
 "nbformat_minor": 4
}
